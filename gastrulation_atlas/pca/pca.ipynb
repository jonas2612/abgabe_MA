{
 "cells": [
  {
   "cell_type": "code",
   "execution_count": 1,
   "id": "d743f0ce-9e1b-48e4-bae5-d7f21ba6c49a",
   "metadata": {},
   "outputs": [],
   "source": [
    "import numpy as np\n",
    "import pandas as pd\n",
    "\n",
    "import scanpy as sc\n",
    "import anndata as ad\n",
    "import cloudpickle"
   ]
  },
  {
   "cell_type": "code",
   "execution_count": 2,
   "id": "49846de4-de53-41e5-b342-224e9a98357c",
   "metadata": {},
   "outputs": [],
   "source": [
    "with open('/home/icb/jonas.flor/gastrulation_atlas/pca/pca.pkl', mode='rb') as file:\n",
    "   pca = cloudpickle.load(file)"
   ]
  },
  {
   "cell_type": "code",
   "execution_count": null,
   "id": "3334bfc3-fcba-4f05-aac2-f5d2a9317152",
   "metadata": {},
   "outputs": [],
   "source": [
    "adata = ad.read_h5ad(\"/lustre/groups/ml01/workspace/monge_velo/data/mouse_gastrulation_atlas.h5ad\")"
   ]
  },
  {
   "cell_type": "code",
   "execution_count": 5,
   "id": "8725c58d-1f74-4208-8151-c601cc0a6fbe",
   "metadata": {},
   "outputs": [],
   "source": [
    "adata.obsm['X_pca'] = pca[0]"
   ]
  },
  {
   "cell_type": "code",
   "execution_count": 6,
   "id": "5ebda9af-6b5f-46e2-94d1-505f5e3288d6",
   "metadata": {},
   "outputs": [
    {
     "data": {
      "text/plain": [
       "AnnData object with n_obs × n_vars = 11441407 × 24552\n",
       "    obs: 'cell_id', 'keep', 'day', 'embryo_id', 'experimental_batch', 'batch', 'celltype', 'major_trajectory', 'annotations_moscot'\n",
       "    obsm: 'X_pca'"
      ]
     },
     "execution_count": 6,
     "metadata": {},
     "output_type": "execute_result"
    }
   ],
   "source": [
    "adata"
   ]
  },
  {
   "cell_type": "code",
   "execution_count": 8,
   "id": "dc7b2470-983f-45be-92d7-c8a01f23d3ee",
   "metadata": {},
   "outputs": [],
   "source": [
    "adata.write(\"/lustre/groups/ml01/workspace/monge_velo/data/mouse_gastrulation_atlas_pca.h5ad\")"
   ]
  },
  {
   "cell_type": "code",
   "execution_count": null,
   "id": "7475920d-d35a-4d3d-ac93-6bf1d06eaba3",
   "metadata": {},
   "outputs": [],
   "source": []
  }
 ],
 "metadata": {
  "kernelspec": {
   "display_name": "atlas_pca",
   "language": "python",
   "name": "atlas_pca"
  },
  "language_info": {
   "codemirror_mode": {
    "name": "ipython",
    "version": 3
   },
   "file_extension": ".py",
   "mimetype": "text/x-python",
   "name": "python",
   "nbconvert_exporter": "python",
   "pygments_lexer": "ipython3",
   "version": "3.10.12"
  }
 },
 "nbformat": 4,
 "nbformat_minor": 5
}
