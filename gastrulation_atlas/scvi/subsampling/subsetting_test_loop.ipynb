{
 "cells": [
  {
   "cell_type": "code",
   "execution_count": 1,
   "id": "0a058ef1-e281-4669-97ca-c6aba0c2992f",
   "metadata": {},
   "outputs": [],
   "source": [
    "import scanpy as sc\n",
    "import numpy as np\n",
    "from tqdm.notebook import tqdm"
   ]
  },
  {
   "cell_type": "code",
   "execution_count": 3,
   "id": "e3f883f9-60b0-437d-8a84-a939b55e0bcb",
   "metadata": {},
   "outputs": [
    {
     "name": "stderr",
     "output_type": "stream",
     "text": [
      "/home/icb/jonas.flor/mambaforge/envs/subsampling/lib/python3.11/site-packages/anndata/__init__.py:51: FutureWarning: `anndata.read` is deprecated, use `anndata.read_h5ad` instead. `ad.read` will be removed in mid 2024.\n",
      "  warnings.warn(\n"
     ]
    }
   ],
   "source": [
    "adata = sc.read(\"/lustre/groups/ml01/workspace/monge_velo/data/mouse_gastrulation_atlas/gastrulation_atlas_neighbors.h5ad\", backed='r')\n",
    "val = sc.read('/lustre/groups/ml01/workspace/monge_velo/data/mouse_gastrulation_atlas/training/validation.h5ad', backed='r')"
   ]
  },
  {
   "cell_type": "code",
   "execution_count": null,
   "id": "720eef63-f47c-48c3-8c8a-cd7489aa8c82",
   "metadata": {},
   "outputs": [],
   "source": [
    "%%time\n",
    "mask = np.array([x not in val.obs.cell_id.values for x in adata.obs.cell_id.values])"
   ]
  },
  {
   "cell_type": "code",
   "execution_count": null,
   "id": "0d472e35-b858-4b27-9bd4-da9cfbaee731",
   "metadata": {},
   "outputs": [],
   "source": [
    "np.unique(mask)"
   ]
  },
  {
   "cell_type": "code",
   "execution_count": 13,
   "id": "f95ec9b2-013c-4bae-9cc9-1e59e558337c",
   "metadata": {},
   "outputs": [
    {
     "data": {
      "text/plain": [
       "array([       1,        2,        3, ..., 11441405, 11441406, 11441407])"
      ]
     },
     "execution_count": 13,
     "metadata": {},
     "output_type": "execute_result"
    }
   ],
   "source": [
    "indices = np.array(list(range(adata.n_obs+1)))[1:]*mask-1\n",
    "indices"
   ]
  },
  {
   "cell_type": "code",
   "execution_count": null,
   "id": "74c4ec38-a87f-4aa1-bd23-74f586cdb57d",
   "metadata": {},
   "outputs": [],
   "source": [
    "obs_indices = np.random.choice(indices, size=10, replace=False)"
   ]
  },
  {
   "cell_type": "code",
   "execution_count": 6,
   "id": "7d38eadf-7656-4fe1-81f7-7fda0a7f4626",
   "metadata": {},
   "outputs": [
    {
     "data": {
      "text/plain": [
       "AnnData object with n_obs × n_vars = 10 × 24552\n",
       "    obs: 'cell_id', 'keep', 'day', 'embryo_id', 'experimental_batch', 'batch', 'cell_cluster', 'celltype', 'cellcluster_moscot'\n",
       "    var: 'gene_type', 'celltype', 'chr'\n",
       "    uns: 'neighbors'\n",
       "    obsm: 'X_pca'\n",
       "    obsp: 'connectivities', 'distances'"
      ]
     },
     "execution_count": 6,
     "metadata": {},
     "output_type": "execute_result"
    }
   ],
   "source": [
    "adata_tmp = adata[obs_indices].to_memory()\n",
    "adata_tmp"
   ]
  },
  {
   "cell_type": "code",
   "execution_count": null,
   "id": "a70431c9-703d-4466-a86c-d2ad4d6ad7be",
   "metadata": {},
   "outputs": [],
   "source": []
  }
 ],
 "metadata": {
  "kernelspec": {
   "display_name": "subsampling",
   "language": "python",
   "name": "subsampling"
  },
  "language_info": {
   "codemirror_mode": {
    "name": "ipython",
    "version": 3
   },
   "file_extension": ".py",
   "mimetype": "text/x-python",
   "name": "python",
   "nbconvert_exporter": "python",
   "pygments_lexer": "ipython3",
   "version": "3.11.6"
  }
 },
 "nbformat": 4,
 "nbformat_minor": 5
}
