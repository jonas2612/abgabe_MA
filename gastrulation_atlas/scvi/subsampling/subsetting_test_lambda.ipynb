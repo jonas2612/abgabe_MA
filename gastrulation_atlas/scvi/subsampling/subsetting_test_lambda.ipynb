{
 "cells": [
  {
   "cell_type": "code",
   "execution_count": 1,
   "id": "0a058ef1-e281-4669-97ca-c6aba0c2992f",
   "metadata": {},
   "outputs": [],
   "source": [
    "import scanpy as sc\n",
    "import numpy as np\n",
    "from tqdm.notebook import tqdm"
   ]
  },
  {
   "cell_type": "code",
   "execution_count": 2,
   "id": "e3f883f9-60b0-437d-8a84-a939b55e0bcb",
   "metadata": {},
   "outputs": [
    {
     "name": "stderr",
     "output_type": "stream",
     "text": [
      "/home/icb/jonas.flor/mambaforge/envs/subsampling/lib/python3.11/site-packages/anndata/__init__.py:51: FutureWarning: `anndata.read` is deprecated, use `anndata.read_h5ad` instead. `ad.read` will be removed in mid 2024.\n",
      "  warnings.warn(\n",
      "/home/icb/jonas.flor/mambaforge/envs/subsampling/lib/python3.11/site-packages/anndata/__init__.py:51: FutureWarning: `anndata.read` is deprecated, use `anndata.read_h5ad` instead. `ad.read` will be removed in mid 2024.\n",
      "  warnings.warn(\n"
     ]
    }
   ],
   "source": [
    "adata = sc.read(\"/lustre/groups/ml01/workspace/monge_velo/data/mouse_gastrulation_atlas/gastrulation_atlas_neighbors.h5ad\", backed='r')\n",
    "val = sc.read('/lustre/groups/ml01/workspace/monge_velo/data/mouse_gastrulation_atlas/training/validation.h5ad', backed='r')"
   ]
  },
  {
   "cell_type": "code",
   "execution_count": 4,
   "id": "05a7714b-51c3-442b-b921-ee12c456b43f",
   "metadata": {},
   "outputs": [],
   "source": [
    "tmp = adata.obs.cell_id.values"
   ]
  },
  {
   "cell_type": "code",
   "execution_count": null,
   "id": "55ce84d1-15b2-4d80-aad2-52bfe5fd9109",
   "metadata": {},
   "outputs": [],
   "source": [
    "%%time\n",
    "mask = np.apply_along_axis(lambda x: x not in tmp, axis=1, arr = np.expand_dims(val.obs.cell_id.values, axis=1))"
   ]
  },
  {
   "cell_type": "code",
   "execution_count": 27,
   "id": "09a9de22-5bf5-4d6e-a406-c3ce9298dbd4",
   "metadata": {},
   "outputs": [
    {
     "ename": "TypeError",
     "evalue": "unhashable type: 'Series'",
     "output_type": "error",
     "traceback": [
      "\u001b[0;31m---------------------------------------------------------------------------\u001b[0m",
      "\u001b[0;31mTypeError\u001b[0m                                 Traceback (most recent call last)",
      "Cell \u001b[0;32mIn[27], line 1\u001b[0m\n\u001b[0;32m----> 1\u001b[0m val\u001b[38;5;241m.\u001b[39mobs\u001b[38;5;241m.\u001b[39mcell_id \u001b[38;5;129;01min\u001b[39;00m adata\u001b[38;5;241m.\u001b[39mobs\u001b[38;5;241m.\u001b[39mcell_id\n",
      "File \u001b[0;32m~/mambaforge/envs/subsampling/lib/python3.11/site-packages/pandas/core/generic.py:2013\u001b[0m, in \u001b[0;36mNDFrame.__contains__\u001b[0;34m(self, key)\u001b[0m\n\u001b[1;32m   2010\u001b[0m \u001b[38;5;129m@final\u001b[39m\n\u001b[1;32m   2011\u001b[0m \u001b[38;5;28;01mdef\u001b[39;00m \u001b[38;5;21m__contains__\u001b[39m(\u001b[38;5;28mself\u001b[39m, key) \u001b[38;5;241m-\u001b[39m\u001b[38;5;241m>\u001b[39m bool_t:\n\u001b[1;32m   2012\u001b[0m \u001b[38;5;250m    \u001b[39m\u001b[38;5;124;03m\"\"\"True if the key is in the info axis\"\"\"\u001b[39;00m\n\u001b[0;32m-> 2013\u001b[0m     \u001b[38;5;28;01mreturn\u001b[39;00m key \u001b[38;5;129;01min\u001b[39;00m \u001b[38;5;28mself\u001b[39m\u001b[38;5;241m.\u001b[39m_info_axis\n",
      "File \u001b[0;32m~/mambaforge/envs/subsampling/lib/python3.11/site-packages/pandas/core/indexes/base.py:5334\u001b[0m, in \u001b[0;36mIndex.__contains__\u001b[0;34m(self, key)\u001b[0m\n\u001b[1;32m   5299\u001b[0m \u001b[38;5;28;01mdef\u001b[39;00m \u001b[38;5;21m__contains__\u001b[39m(\u001b[38;5;28mself\u001b[39m, key: Any) \u001b[38;5;241m-\u001b[39m\u001b[38;5;241m>\u001b[39m \u001b[38;5;28mbool\u001b[39m:\n\u001b[1;32m   5300\u001b[0m \u001b[38;5;250m    \u001b[39m\u001b[38;5;124;03m\"\"\"\u001b[39;00m\n\u001b[1;32m   5301\u001b[0m \u001b[38;5;124;03m    Return a boolean indicating whether the provided key is in the index.\u001b[39;00m\n\u001b[1;32m   5302\u001b[0m \n\u001b[0;32m   (...)\u001b[0m\n\u001b[1;32m   5332\u001b[0m \u001b[38;5;124;03m    False\u001b[39;00m\n\u001b[1;32m   5333\u001b[0m \u001b[38;5;124;03m    \"\"\"\u001b[39;00m\n\u001b[0;32m-> 5334\u001b[0m     \u001b[38;5;28mhash\u001b[39m(key)\n\u001b[1;32m   5335\u001b[0m     \u001b[38;5;28;01mtry\u001b[39;00m:\n\u001b[1;32m   5336\u001b[0m         \u001b[38;5;28;01mreturn\u001b[39;00m key \u001b[38;5;129;01min\u001b[39;00m \u001b[38;5;28mself\u001b[39m\u001b[38;5;241m.\u001b[39m_engine\n",
      "\u001b[0;31mTypeError\u001b[0m: unhashable type: 'Series'"
     ]
    }
   ],
   "source": [
    "val.obs.cell_id in adata.obs.cell_id"
   ]
  },
  {
   "cell_type": "code",
   "execution_count": null,
   "id": "0d472e35-b858-4b27-9bd4-da9cfbaee731",
   "metadata": {},
   "outputs": [],
   "source": [
    "np.unique(mask)"
   ]
  },
  {
   "cell_type": "code",
   "execution_count": 13,
   "id": "f95ec9b2-013c-4bae-9cc9-1e59e558337c",
   "metadata": {},
   "outputs": [
    {
     "data": {
      "text/plain": [
       "array([       1,        2,        3, ..., 11441405, 11441406, 11441407])"
      ]
     },
     "execution_count": 13,
     "metadata": {},
     "output_type": "execute_result"
    }
   ],
   "source": [
    "indices = np.array(list(range(adata.n_obs+1)))[1:]*mask-1\n",
    "indices"
   ]
  },
  {
   "cell_type": "code",
   "execution_count": null,
   "id": "74c4ec38-a87f-4aa1-bd23-74f586cdb57d",
   "metadata": {},
   "outputs": [],
   "source": [
    "obs_indices = np.random.choice(indices, size=10, replace=False)"
   ]
  },
  {
   "cell_type": "code",
   "execution_count": 6,
   "id": "7d38eadf-7656-4fe1-81f7-7fda0a7f4626",
   "metadata": {},
   "outputs": [
    {
     "data": {
      "text/plain": [
       "AnnData object with n_obs × n_vars = 10 × 24552\n",
       "    obs: 'cell_id', 'keep', 'day', 'embryo_id', 'experimental_batch', 'batch', 'cell_cluster', 'celltype', 'cellcluster_moscot'\n",
       "    var: 'gene_type', 'celltype', 'chr'\n",
       "    uns: 'neighbors'\n",
       "    obsm: 'X_pca'\n",
       "    obsp: 'connectivities', 'distances'"
      ]
     },
     "execution_count": 6,
     "metadata": {},
     "output_type": "execute_result"
    }
   ],
   "source": [
    "adata_tmp = adata[obs_indices].to_memory()\n",
    "adata_tmp"
   ]
  },
  {
   "cell_type": "code",
   "execution_count": null,
   "id": "a70431c9-703d-4466-a86c-d2ad4d6ad7be",
   "metadata": {},
   "outputs": [],
   "source": []
  }
 ],
 "metadata": {
  "kernelspec": {
   "display_name": "subsampling",
   "language": "python",
   "name": "subsampling"
  },
  "language_info": {
   "codemirror_mode": {
    "name": "ipython",
    "version": 3
   },
   "file_extension": ".py",
   "mimetype": "text/x-python",
   "name": "python",
   "nbconvert_exporter": "python",
   "pygments_lexer": "ipython3",
   "version": "3.11.6"
  }
 },
 "nbformat": 4,
 "nbformat_minor": 5
}
