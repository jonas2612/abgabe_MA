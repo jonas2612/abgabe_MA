{
 "cells": [
  {
   "cell_type": "code",
   "execution_count": 6,
   "id": "0a058ef1-e281-4669-97ca-c6aba0c2992f",
   "metadata": {},
   "outputs": [],
   "source": [
    "import scanpy as sc\n",
    "import numpy as np\n",
    "import pandas as pd"
   ]
  },
  {
   "cell_type": "code",
   "execution_count": 2,
   "id": "e3f883f9-60b0-437d-8a84-a939b55e0bcb",
   "metadata": {},
   "outputs": [
    {
     "name": "stderr",
     "output_type": "stream",
     "text": [
      "/home/icb/jonas.flor/mambaforge/envs/subsampling/lib/python3.11/site-packages/anndata/__init__.py:51: FutureWarning: `anndata.read` is deprecated, use `anndata.read_h5ad` instead. `ad.read` will be removed in mid 2024.\n",
      "  warnings.warn(\n",
      "/home/icb/jonas.flor/mambaforge/envs/subsampling/lib/python3.11/site-packages/anndata/__init__.py:51: FutureWarning: `anndata.read` is deprecated, use `anndata.read_h5ad` instead. `ad.read` will be removed in mid 2024.\n",
      "  warnings.warn(\n"
     ]
    }
   ],
   "source": [
    "adata = sc.read(\"/lustre/groups/ml01/workspace/monge_velo/data/mouse_gastrulation_atlas/gastrulation_atlas_neighbors.h5ad\", backed='r')\n",
    "val = sc.read('/lustre/groups/ml01/workspace/monge_velo/data/mouse_gastrulation_atlas/training/validation.h5ad', backed='r')"
   ]
  },
  {
   "cell_type": "code",
   "execution_count": 3,
   "id": "33f01998-1509-41ab-b95d-68a94df1d22a",
   "metadata": {},
   "outputs": [
    {
     "data": {
      "text/plain": [
       "run_13_PH-11F_S662.CGGAACCTTACGAAGTCAA-6-1       run_13_PH-11F_S662.CGGAACCTTACGAAGTCAA\n",
       "run_22_PA-03E_S21.CAGGACTCTAAGACCGTTG-10-1        run_22_PA-03E_S21.CAGGACTCTAAGACCGTTG\n",
       "run_18_PB-02D_S108.AAGTATTGGTTTGACTTCAG-7-0     run_18_PB-02D_S108.AAGTATTGGTTTGACTTCAG\n",
       "run_14_PY-12D_S284.TATGAGAACTCTGATTAAGA-5-1     run_14_PY-12D_S284.TATGAGAACTCTGATTAAGA\n",
       "run_14_PY-11B_S274.AGCGTAAGTCCGTCGGAGG-5-1       run_14_PY-11B_S274.AGCGTAAGTCCGTCGGAGG\n",
       "                                                                 ...                   \n",
       "run_16_PA-05H_S40.TGTCCTTATTTCGAGGAGTA-4-1       run_16_PA-05H_S40.TGTCCTTATTTCGAGGAGTA\n",
       "run_19_PC-05B_S226.ATTGAGGAATTTCTTCCGGT-3-0     run_19_PC-05B_S226.ATTGAGGAATTTCTTCCGGT\n",
       "run_19_PB-07F_S150.CCGGATAGTCTTGCGCCGC-3-0       run_19_PB-07F_S150.CCGGATAGTCTTGCGCCGC\n",
       "run_19_PC-04A_S217.TAATACCAGTAGGTTAGCAT-3-0     run_19_PC-04A_S217.TAATACCAGTAGGTTAGCAT\n",
       "run_22_PD-09E_S357.ATAACTTCCTGTTCCGCTAA-10-1    run_22_PD-09E_S357.ATAACTTCCTGTTCCGCTAA\n",
       "Name: cell_id, Length: 100000, dtype: object"
      ]
     },
     "execution_count": 3,
     "metadata": {},
     "output_type": "execute_result"
    }
   ],
   "source": [
    "val.obs.cell_id"
   ]
  },
  {
   "cell_type": "code",
   "execution_count": 4,
   "id": "5eafbd39-8704-48ca-acc8-0e5671efa279",
   "metadata": {},
   "outputs": [
    {
     "data": {
      "text/plain": [
       "run_4_P2-01A.ATTCAAGCATGTTACGCAAG-0-0                   run_4_P2-01A.ATTCAAGCATGTTACGCAAG\n",
       "run_4_P2-01A.CCGTCGATTTTATTCTGAG-0-0                     run_4_P2-01A.CCGTCGATTTTATTCTGAG\n",
       "run_4_P2-01A.ATGGTAACTTAGCCGGTACC-0-0                   run_4_P2-01A.ATGGTAACTTAGCCGGTACC\n",
       "run_4_P2-01A.CCGACCAATTTGCGAGGCA-0-0                     run_4_P2-01A.CCGACCAATTTGCGAGGCA\n",
       "run_4_P2-01A.ATGCTTCCTAATGCCGCTT-0-0                     run_4_P2-01A.ATGCTTCCTAATGCCGCTT\n",
       "                                                                   ...                   \n",
       "run_25_PD-12H_S384.AAATCGTTCTCAAGTCGACC-1-12-1    run_25_PD-12H_S384.AAATCGTTCTCAAGTCGACC\n",
       "run_25_PD-12H_S384.CTGCTGAATTCGCGGTTGG-1-12-1      run_25_PD-12H_S384.CTGCTGAATTCGCGGTTGG\n",
       "run_25_PD-12H_S384.TTAATGAGCTTCGGCCTTAC-1-12-1    run_25_PD-12H_S384.TTAATGAGCTTCGGCCTTAC\n",
       "run_25_PD-12H_S384.ATATCCTACTTTATTCATTC-1-12-1    run_25_PD-12H_S384.ATATCCTACTTTATTCATTC\n",
       "run_25_PD-12H_S384.ACCTCAATATACCGGAATTA-1-12-1    run_25_PD-12H_S384.ACCTCAATATACCGGAATTA\n",
       "Name: cell_id, Length: 11441407, dtype: object"
      ]
     },
     "execution_count": 4,
     "metadata": {},
     "output_type": "execute_result"
    }
   ],
   "source": [
    "adata.obs.cell_id"
   ]
  },
  {
   "cell_type": "code",
   "execution_count": 5,
   "id": "dae55dcb-19c1-44ca-b8df-ccd4b263afde",
   "metadata": {},
   "outputs": [
    {
     "data": {
      "text/plain": [
       "pandas.core.series.Series"
      ]
     },
     "execution_count": 5,
     "metadata": {},
     "output_type": "execute_result"
    }
   ],
   "source": [
    "type(adata.obs.cell_id)"
   ]
  },
  {
   "cell_type": "code",
   "execution_count": null,
   "id": "e59e5d51-e473-445b-a0d6-bdec70f6e1fc",
   "metadata": {},
   "outputs": [],
   "source": []
  },
  {
   "cell_type": "code",
   "execution_count": 9,
   "id": "69d9b1ec-5aa9-45a0-90cf-9efc32be09b5",
   "metadata": {},
   "outputs": [
    {
     "data": {
      "text/html": [
       "<div>\n",
       "<style scoped>\n",
       "    .dataframe tbody tr th:only-of-type {\n",
       "        vertical-align: middle;\n",
       "    }\n",
       "\n",
       "    .dataframe tbody tr th {\n",
       "        vertical-align: top;\n",
       "    }\n",
       "\n",
       "    .dataframe thead th {\n",
       "        text-align: right;\n",
       "    }\n",
       "</style>\n",
       "<table border=\"1\" class=\"dataframe\">\n",
       "  <thead>\n",
       "    <tr style=\"text-align: right;\">\n",
       "      <th></th>\n",
       "      <th>Index</th>\n",
       "    </tr>\n",
       "  </thead>\n",
       "  <tbody>\n",
       "    <tr>\n",
       "      <th>run_4_P2-01A.ATTCAAGCATGTTACGCAAG-0-0</th>\n",
       "      <td>0</td>\n",
       "    </tr>\n",
       "    <tr>\n",
       "      <th>run_4_P2-01A.CCGTCGATTTTATTCTGAG-0-0</th>\n",
       "      <td>1</td>\n",
       "    </tr>\n",
       "    <tr>\n",
       "      <th>run_4_P2-01A.ATGGTAACTTAGCCGGTACC-0-0</th>\n",
       "      <td>2</td>\n",
       "    </tr>\n",
       "    <tr>\n",
       "      <th>run_4_P2-01A.CCGACCAATTTGCGAGGCA-0-0</th>\n",
       "      <td>3</td>\n",
       "    </tr>\n",
       "    <tr>\n",
       "      <th>run_4_P2-01A.ATGCTTCCTAATGCCGCTT-0-0</th>\n",
       "      <td>4</td>\n",
       "    </tr>\n",
       "    <tr>\n",
       "      <th>...</th>\n",
       "      <td>...</td>\n",
       "    </tr>\n",
       "    <tr>\n",
       "      <th>run_25_PD-12H_S384.AAATCGTTCTCAAGTCGACC-1-12-1</th>\n",
       "      <td>11441402</td>\n",
       "    </tr>\n",
       "    <tr>\n",
       "      <th>run_25_PD-12H_S384.CTGCTGAATTCGCGGTTGG-1-12-1</th>\n",
       "      <td>11441403</td>\n",
       "    </tr>\n",
       "    <tr>\n",
       "      <th>run_25_PD-12H_S384.TTAATGAGCTTCGGCCTTAC-1-12-1</th>\n",
       "      <td>11441404</td>\n",
       "    </tr>\n",
       "    <tr>\n",
       "      <th>run_25_PD-12H_S384.ATATCCTACTTTATTCATTC-1-12-1</th>\n",
       "      <td>11441405</td>\n",
       "    </tr>\n",
       "    <tr>\n",
       "      <th>run_25_PD-12H_S384.ACCTCAATATACCGGAATTA-1-12-1</th>\n",
       "      <td>11441406</td>\n",
       "    </tr>\n",
       "  </tbody>\n",
       "</table>\n",
       "<p>11441407 rows × 1 columns</p>\n",
       "</div>"
      ],
      "text/plain": [
       "                                                   Index\n",
       "run_4_P2-01A.ATTCAAGCATGTTACGCAAG-0-0                  0\n",
       "run_4_P2-01A.CCGTCGATTTTATTCTGAG-0-0                   1\n",
       "run_4_P2-01A.ATGGTAACTTAGCCGGTACC-0-0                  2\n",
       "run_4_P2-01A.CCGACCAATTTGCGAGGCA-0-0                   3\n",
       "run_4_P2-01A.ATGCTTCCTAATGCCGCTT-0-0                   4\n",
       "...                                                  ...\n",
       "run_25_PD-12H_S384.AAATCGTTCTCAAGTCGACC-1-12-1  11441402\n",
       "run_25_PD-12H_S384.CTGCTGAATTCGCGGTTGG-1-12-1   11441403\n",
       "run_25_PD-12H_S384.TTAATGAGCTTCGGCCTTAC-1-12-1  11441404\n",
       "run_25_PD-12H_S384.ATATCCTACTTTATTCATTC-1-12-1  11441405\n",
       "run_25_PD-12H_S384.ACCTCAATATACCGGAATTA-1-12-1  11441406\n",
       "\n",
       "[11441407 rows x 1 columns]"
      ]
     },
     "execution_count": 9,
     "metadata": {},
     "output_type": "execute_result"
    }
   ],
   "source": [
    "data = pd.DataFrame({'Index': list(range(adata.n_obs))}, index=adata.obs.index)\n",
    "data"
   ]
  },
  {
   "cell_type": "code",
   "execution_count": 12,
   "id": "571e6482-0f77-444c-a6a1-e79cb1766551",
   "metadata": {},
   "outputs": [
    {
     "data": {
      "text/plain": [
       "(11341407,)"
      ]
     },
     "execution_count": 12,
     "metadata": {},
     "output_type": "execute_result"
    }
   ],
   "source": [
    "indices = data.drop(labels=val.obs.index).Index\n",
    "indices.shape"
   ]
  },
  {
   "cell_type": "code",
   "execution_count": 13,
   "id": "74c4ec38-a87f-4aa1-bd23-74f586cdb57d",
   "metadata": {},
   "outputs": [],
   "source": [
    "obs_indices = np.random.choice(indices, size=10, replace=False)"
   ]
  },
  {
   "cell_type": "code",
   "execution_count": 14,
   "id": "7d38eadf-7656-4fe1-81f7-7fda0a7f4626",
   "metadata": {},
   "outputs": [
    {
     "data": {
      "text/plain": [
       "AnnData object with n_obs × n_vars = 10 × 24552\n",
       "    obs: 'cell_id', 'keep', 'day', 'embryo_id', 'experimental_batch', 'batch', 'cell_cluster', 'celltype', 'cellcluster_moscot'\n",
       "    var: 'gene_type', 'celltype', 'chr'\n",
       "    uns: 'neighbors'\n",
       "    obsm: 'X_pca'\n",
       "    obsp: 'connectivities', 'distances'"
      ]
     },
     "execution_count": 14,
     "metadata": {},
     "output_type": "execute_result"
    }
   ],
   "source": [
    "adata_tmp = adata[obs_indices].to_memory()\n",
    "adata_tmp"
   ]
  },
  {
   "cell_type": "code",
   "execution_count": null,
   "id": "a70431c9-703d-4466-a86c-d2ad4d6ad7be",
   "metadata": {},
   "outputs": [],
   "source": []
  }
 ],
 "metadata": {
  "kernelspec": {
   "display_name": "subsampling",
   "language": "python",
   "name": "subsampling"
  },
  "language_info": {
   "codemirror_mode": {
    "name": "ipython",
    "version": 3
   },
   "file_extension": ".py",
   "mimetype": "text/x-python",
   "name": "python",
   "nbconvert_exporter": "python",
   "pygments_lexer": "ipython3",
   "version": "3.11.6"
  }
 },
 "nbformat": 4,
 "nbformat_minor": 5
}
