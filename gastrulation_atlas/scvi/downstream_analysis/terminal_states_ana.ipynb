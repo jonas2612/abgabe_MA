{
 "cells": [
  {
   "cell_type": "code",
   "execution_count": 1,
   "id": "626786a5-c44c-4e5d-80b7-8116b1ba78a0",
   "metadata": {},
   "outputs": [],
   "source": [
    "import pandas as pd\n",
    "import seaborn as sns\n",
    "import matplotlib.pyplot as plt"
   ]
  },
  {
   "cell_type": "code",
   "execution_count": 8,
   "id": "e870439d-1eb7-4a4e-815f-dd27986765de",
   "metadata": {},
   "outputs": [
    {
     "data": {
      "text/html": [
       "<div>\n",
       "<style scoped>\n",
       "    .dataframe tbody tr th:only-of-type {\n",
       "        vertical-align: middle;\n",
       "    }\n",
       "\n",
       "    .dataframe tbody tr th {\n",
       "        vertical-align: top;\n",
       "    }\n",
       "\n",
       "    .dataframe thead th {\n",
       "        text-align: right;\n",
       "    }\n",
       "</style>\n",
       "<table border=\"1\" class=\"dataframe\">\n",
       "  <thead>\n",
       "    <tr style=\"text-align: right;\">\n",
       "      <th></th>\n",
       "      <th>Unnamed: 0</th>\n",
       "      <th>terminal_states_found</th>\n",
       "      <th>correct_terminal_states</th>\n",
       "      <th>dataset</th>\n",
       "      <th>genes</th>\n",
       "      <th>integration</th>\n",
       "      <th>weighted</th>\n",
       "      <th>model_key</th>\n",
       "      <th>cat</th>\n",
       "    </tr>\n",
       "  </thead>\n",
       "  <tbody>\n",
       "    <tr>\n",
       "      <th>0</th>\n",
       "      <td>0</td>\n",
       "      <td>0.230769</td>\n",
       "      <td>0.461538</td>\n",
       "      <td>gastrulation</td>\n",
       "      <td>10k</td>\n",
       "      <td>integrated</td>\n",
       "      <td>weighted</td>\n",
       "      <td>10k_integrated_weighted</td>\n",
       "      <td>integrated_weighted</td>\n",
       "    </tr>\n",
       "    <tr>\n",
       "      <th>0</th>\n",
       "      <td>0</td>\n",
       "      <td>0.384615</td>\n",
       "      <td>0.769231</td>\n",
       "      <td>gastrulation</td>\n",
       "      <td>10k</td>\n",
       "      <td>integrated</td>\n",
       "      <td>unweighted</td>\n",
       "      <td>10k_integrated_unweighted</td>\n",
       "      <td>integrated_unweighted</td>\n",
       "    </tr>\n",
       "    <tr>\n",
       "      <th>0</th>\n",
       "      <td>0</td>\n",
       "      <td>0.153846</td>\n",
       "      <td>0.461538</td>\n",
       "      <td>gastrulation</td>\n",
       "      <td>10k</td>\n",
       "      <td>unintegrated</td>\n",
       "      <td>weighted</td>\n",
       "      <td>10k_unintegrated_weighted</td>\n",
       "      <td>unintegrated_weighted</td>\n",
       "    </tr>\n",
       "    <tr>\n",
       "      <th>0</th>\n",
       "      <td>0</td>\n",
       "      <td>0.153846</td>\n",
       "      <td>0.461538</td>\n",
       "      <td>gastrulation</td>\n",
       "      <td>10k</td>\n",
       "      <td>unintegrated</td>\n",
       "      <td>unweighted</td>\n",
       "      <td>10k_unintegrated_unweighted</td>\n",
       "      <td>unintegrated_unweighted</td>\n",
       "    </tr>\n",
       "    <tr>\n",
       "      <th>0</th>\n",
       "      <td>0</td>\n",
       "      <td>0.230769</td>\n",
       "      <td>0.384615</td>\n",
       "      <td>gastrulation</td>\n",
       "      <td>all</td>\n",
       "      <td>integrated</td>\n",
       "      <td>unweighted</td>\n",
       "      <td>all_integrated_unweighted</td>\n",
       "      <td>integrated_unweighted</td>\n",
       "    </tr>\n",
       "    <tr>\n",
       "      <th>0</th>\n",
       "      <td>0</td>\n",
       "      <td>0.384615</td>\n",
       "      <td>0.692308</td>\n",
       "      <td>gastrulation</td>\n",
       "      <td>all</td>\n",
       "      <td>unintegrated</td>\n",
       "      <td>weighted</td>\n",
       "      <td>all_unintegrated_weighted</td>\n",
       "      <td>unintegrated_weighted</td>\n",
       "    </tr>\n",
       "    <tr>\n",
       "      <th>0</th>\n",
       "      <td>0</td>\n",
       "      <td>0.363636</td>\n",
       "      <td>0.818182</td>\n",
       "      <td>invito</td>\n",
       "      <td>10k</td>\n",
       "      <td>integrated</td>\n",
       "      <td>weighted</td>\n",
       "      <td>10k_integrated_weighted</td>\n",
       "      <td>integrated_weighted</td>\n",
       "    </tr>\n",
       "    <tr>\n",
       "      <th>0</th>\n",
       "      <td>0</td>\n",
       "      <td>0.363636</td>\n",
       "      <td>0.818182</td>\n",
       "      <td>invito</td>\n",
       "      <td>10k</td>\n",
       "      <td>integrated</td>\n",
       "      <td>unweighted</td>\n",
       "      <td>10k_integrated_unweighted</td>\n",
       "      <td>integrated_unweighted</td>\n",
       "    </tr>\n",
       "    <tr>\n",
       "      <th>0</th>\n",
       "      <td>0</td>\n",
       "      <td>0.454545</td>\n",
       "      <td>0.909091</td>\n",
       "      <td>invito</td>\n",
       "      <td>10k</td>\n",
       "      <td>unintegrated</td>\n",
       "      <td>weighted</td>\n",
       "      <td>10k_unintegrated_weighted</td>\n",
       "      <td>unintegrated_weighted</td>\n",
       "    </tr>\n",
       "    <tr>\n",
       "      <th>0</th>\n",
       "      <td>0</td>\n",
       "      <td>0.272727</td>\n",
       "      <td>0.636364</td>\n",
       "      <td>invito</td>\n",
       "      <td>10k</td>\n",
       "      <td>unintegrated</td>\n",
       "      <td>unweighted</td>\n",
       "      <td>10k_unintegrated_unweighted</td>\n",
       "      <td>unintegrated_unweighted</td>\n",
       "    </tr>\n",
       "    <tr>\n",
       "      <th>0</th>\n",
       "      <td>0</td>\n",
       "      <td>0.272727</td>\n",
       "      <td>0.909091</td>\n",
       "      <td>invito</td>\n",
       "      <td>all</td>\n",
       "      <td>integrated</td>\n",
       "      <td>weighted</td>\n",
       "      <td>all_integrated_weighted</td>\n",
       "      <td>integrated_weighted</td>\n",
       "    </tr>\n",
       "    <tr>\n",
       "      <th>0</th>\n",
       "      <td>0</td>\n",
       "      <td>0.363636</td>\n",
       "      <td>0.909091</td>\n",
       "      <td>invito</td>\n",
       "      <td>all</td>\n",
       "      <td>integrated</td>\n",
       "      <td>unweighted</td>\n",
       "      <td>all_integrated_unweighted</td>\n",
       "      <td>integrated_unweighted</td>\n",
       "    </tr>\n",
       "    <tr>\n",
       "      <th>0</th>\n",
       "      <td>0</td>\n",
       "      <td>0.272727</td>\n",
       "      <td>0.818182</td>\n",
       "      <td>invito</td>\n",
       "      <td>all</td>\n",
       "      <td>unintegrated</td>\n",
       "      <td>weighted</td>\n",
       "      <td>all_unintegrated_weighted</td>\n",
       "      <td>unintegrated_weighted</td>\n",
       "    </tr>\n",
       "    <tr>\n",
       "      <th>0</th>\n",
       "      <td>0</td>\n",
       "      <td>0.272727</td>\n",
       "      <td>0.909091</td>\n",
       "      <td>invito</td>\n",
       "      <td>all</td>\n",
       "      <td>unintegrated</td>\n",
       "      <td>unweighted</td>\n",
       "      <td>all_unintegrated_unweighted</td>\n",
       "      <td>unintegrated_unweighted</td>\n",
       "    </tr>\n",
       "    <tr>\n",
       "      <th>0</th>\n",
       "      <td>0</td>\n",
       "      <td>0.181818</td>\n",
       "      <td>0.818182</td>\n",
       "      <td>exvito</td>\n",
       "      <td>10k</td>\n",
       "      <td>integrated</td>\n",
       "      <td>weighted</td>\n",
       "      <td>10k_integrated_weighted</td>\n",
       "      <td>integrated_weighted</td>\n",
       "    </tr>\n",
       "    <tr>\n",
       "      <th>0</th>\n",
       "      <td>0</td>\n",
       "      <td>0.545455</td>\n",
       "      <td>0.909091</td>\n",
       "      <td>exvito</td>\n",
       "      <td>10k</td>\n",
       "      <td>integrated</td>\n",
       "      <td>unweighted</td>\n",
       "      <td>10k_integrated_unweighted</td>\n",
       "      <td>integrated_unweighted</td>\n",
       "    </tr>\n",
       "    <tr>\n",
       "      <th>0</th>\n",
       "      <td>0</td>\n",
       "      <td>0.545455</td>\n",
       "      <td>1.000000</td>\n",
       "      <td>exvito</td>\n",
       "      <td>10k</td>\n",
       "      <td>unintegrated</td>\n",
       "      <td>weighted</td>\n",
       "      <td>10k_unintegrated_weighted</td>\n",
       "      <td>unintegrated_weighted</td>\n",
       "    </tr>\n",
       "    <tr>\n",
       "      <th>0</th>\n",
       "      <td>0</td>\n",
       "      <td>0.454545</td>\n",
       "      <td>1.000000</td>\n",
       "      <td>exvito</td>\n",
       "      <td>10k</td>\n",
       "      <td>unintegrated</td>\n",
       "      <td>unweighted</td>\n",
       "      <td>10k_unintegrated_unweighted</td>\n",
       "      <td>unintegrated_unweighted</td>\n",
       "    </tr>\n",
       "    <tr>\n",
       "      <th>0</th>\n",
       "      <td>0</td>\n",
       "      <td>0.545455</td>\n",
       "      <td>0.909091</td>\n",
       "      <td>exvito</td>\n",
       "      <td>all</td>\n",
       "      <td>integrated</td>\n",
       "      <td>weighted</td>\n",
       "      <td>all_integrated_weighted</td>\n",
       "      <td>integrated_weighted</td>\n",
       "    </tr>\n",
       "    <tr>\n",
       "      <th>0</th>\n",
       "      <td>0</td>\n",
       "      <td>0.363636</td>\n",
       "      <td>0.909091</td>\n",
       "      <td>exvito</td>\n",
       "      <td>all</td>\n",
       "      <td>integrated</td>\n",
       "      <td>unweighted</td>\n",
       "      <td>all_integrated_unweighted</td>\n",
       "      <td>integrated_unweighted</td>\n",
       "    </tr>\n",
       "    <tr>\n",
       "      <th>0</th>\n",
       "      <td>0</td>\n",
       "      <td>0.363636</td>\n",
       "      <td>0.909091</td>\n",
       "      <td>exvito</td>\n",
       "      <td>all</td>\n",
       "      <td>unintegrated</td>\n",
       "      <td>weighted</td>\n",
       "      <td>all_unintegrated_weighted</td>\n",
       "      <td>unintegrated_weighted</td>\n",
       "    </tr>\n",
       "    <tr>\n",
       "      <th>0</th>\n",
       "      <td>0</td>\n",
       "      <td>0.363636</td>\n",
       "      <td>0.909091</td>\n",
       "      <td>exvito</td>\n",
       "      <td>all</td>\n",
       "      <td>unintegrated</td>\n",
       "      <td>unweighted</td>\n",
       "      <td>all_unintegrated_unweighted</td>\n",
       "      <td>unintegrated_unweighted</td>\n",
       "    </tr>\n",
       "  </tbody>\n",
       "</table>\n",
       "</div>"
      ],
      "text/plain": [
       "   Unnamed: 0  terminal_states_found  correct_terminal_states       dataset  \\\n",
       "0           0               0.230769                 0.461538  gastrulation   \n",
       "0           0               0.384615                 0.769231  gastrulation   \n",
       "0           0               0.153846                 0.461538  gastrulation   \n",
       "0           0               0.153846                 0.461538  gastrulation   \n",
       "0           0               0.230769                 0.384615  gastrulation   \n",
       "0           0               0.384615                 0.692308  gastrulation   \n",
       "0           0               0.363636                 0.818182        invito   \n",
       "0           0               0.363636                 0.818182        invito   \n",
       "0           0               0.454545                 0.909091        invito   \n",
       "0           0               0.272727                 0.636364        invito   \n",
       "0           0               0.272727                 0.909091        invito   \n",
       "0           0               0.363636                 0.909091        invito   \n",
       "0           0               0.272727                 0.818182        invito   \n",
       "0           0               0.272727                 0.909091        invito   \n",
       "0           0               0.181818                 0.818182        exvito   \n",
       "0           0               0.545455                 0.909091        exvito   \n",
       "0           0               0.545455                 1.000000        exvito   \n",
       "0           0               0.454545                 1.000000        exvito   \n",
       "0           0               0.545455                 0.909091        exvito   \n",
       "0           0               0.363636                 0.909091        exvito   \n",
       "0           0               0.363636                 0.909091        exvito   \n",
       "0           0               0.363636                 0.909091        exvito   \n",
       "\n",
       "  genes   integration    weighted                    model_key  \\\n",
       "0   10k    integrated    weighted      10k_integrated_weighted   \n",
       "0   10k    integrated  unweighted    10k_integrated_unweighted   \n",
       "0   10k  unintegrated    weighted    10k_unintegrated_weighted   \n",
       "0   10k  unintegrated  unweighted  10k_unintegrated_unweighted   \n",
       "0   all    integrated  unweighted    all_integrated_unweighted   \n",
       "0   all  unintegrated    weighted    all_unintegrated_weighted   \n",
       "0   10k    integrated    weighted      10k_integrated_weighted   \n",
       "0   10k    integrated  unweighted    10k_integrated_unweighted   \n",
       "0   10k  unintegrated    weighted    10k_unintegrated_weighted   \n",
       "0   10k  unintegrated  unweighted  10k_unintegrated_unweighted   \n",
       "0   all    integrated    weighted      all_integrated_weighted   \n",
       "0   all    integrated  unweighted    all_integrated_unweighted   \n",
       "0   all  unintegrated    weighted    all_unintegrated_weighted   \n",
       "0   all  unintegrated  unweighted  all_unintegrated_unweighted   \n",
       "0   10k    integrated    weighted      10k_integrated_weighted   \n",
       "0   10k    integrated  unweighted    10k_integrated_unweighted   \n",
       "0   10k  unintegrated    weighted    10k_unintegrated_weighted   \n",
       "0   10k  unintegrated  unweighted  10k_unintegrated_unweighted   \n",
       "0   all    integrated    weighted      all_integrated_weighted   \n",
       "0   all    integrated  unweighted    all_integrated_unweighted   \n",
       "0   all  unintegrated    weighted    all_unintegrated_weighted   \n",
       "0   all  unintegrated  unweighted  all_unintegrated_unweighted   \n",
       "\n",
       "                       cat  \n",
       "0      integrated_weighted  \n",
       "0    integrated_unweighted  \n",
       "0    unintegrated_weighted  \n",
       "0  unintegrated_unweighted  \n",
       "0    integrated_unweighted  \n",
       "0    unintegrated_weighted  \n",
       "0      integrated_weighted  \n",
       "0    integrated_unweighted  \n",
       "0    unintegrated_weighted  \n",
       "0  unintegrated_unweighted  \n",
       "0      integrated_weighted  \n",
       "0    integrated_unweighted  \n",
       "0    unintegrated_weighted  \n",
       "0  unintegrated_unweighted  \n",
       "0      integrated_weighted  \n",
       "0    integrated_unweighted  \n",
       "0    unintegrated_weighted  \n",
       "0  unintegrated_unweighted  \n",
       "0      integrated_weighted  \n",
       "0    integrated_unweighted  \n",
       "0    unintegrated_weighted  \n",
       "0  unintegrated_unweighted  "
      ]
     },
     "execution_count": 8,
     "metadata": {},
     "output_type": "execute_result"
    }
   ],
   "source": [
    "terminal_cells = []\n",
    "for d in ['gastrulation', 'invito', 'exvito']:\n",
    "    for g in ['10k', 'all']:\n",
    "        for i in ['integrated', 'unintegrated']:\n",
    "            for w in ['weighted', 'unweighted']:\n",
    "                try:\n",
    "                    data = pd.read_csv(f'{d}/{g}_genes/{i}/{w}/terminal_cells.csv')\n",
    "                    data['dataset'] = d\n",
    "                    data['genes'] = g\n",
    "                    data['integration'] = i\n",
    "                    data['weighted'] = w\n",
    "                    terminal_cells.append(data)\n",
    "                except FileNotFoundError:\n",
    "                    pass\n",
    "terminal_cells = pd.concat(terminal_cells)\n",
    "terminal_cells['model_key'] = terminal_cells['genes']+'_'+terminal_cells['integration']+'_'+terminal_cells['weighted']\n",
    "terminal_cells['cat'] = terminal_cells['integration'] + '_' + terminal_cells['weighted']\n",
    "terminal_cells"
   ]
  },
  {
   "cell_type": "code",
   "execution_count": 9,
   "id": "3993c69f-69c0-4650-8972-79d25ed775ed",
   "metadata": {},
   "outputs": [],
   "source": [
    "terminal_cells_gast = terminal_cells[terminal_cells.dataset=='gastrulation']\n",
    "terminal_cells_in = terminal_cells[terminal_cells.dataset=='invito']\n",
    "terminal_cells_ex = terminal_cells[terminal_cells.dataset=='exvito']"
   ]
  },
  {
   "cell_type": "code",
   "execution_count": 12,
   "id": "e9385375-edf6-45ba-9916-b145ce3c6097",
   "metadata": {},
   "outputs": [
    {
     "data": {
      "text/plain": [
       "<seaborn.axisgrid.FacetGrid at 0x7f5aea9b9d90>"
      ]
     },
     "execution_count": 12,
     "metadata": {},
     "output_type": "execute_result"
    },
    {
     "data": {
      "image/png": "[encoded data removed]",
      "text/plain": [
       "<Figure size 525x360 with 1 Axes>"
      ]
     },
     "metadata": {
      "needs_background": "light"
     },
     "output_type": "display_data"
    }
   ],
   "source": [
    "sns.catplot(terminal_cells_gast, kind='bar', x='genes', y='terminal_states_found', hue='cat')"
   ]
  },
  {
   "cell_type": "code",
   "execution_count": 15,
   "id": "04b8e2b2-a58c-4351-b300-c02c775d4650",
   "metadata": {},
   "outputs": [
    {
     "data": {
      "text/plain": [
       "<seaborn.axisgrid.FacetGrid at 0x7f5aea75f110>"
      ]
     },
     "execution_count": 15,
     "metadata": {},
     "output_type": "execute_result"
    },
    {
     "data": {
      "image/png": "[encoded data removed]",
      "text/plain": [
       "<Figure size 525x360 with 1 Axes>"
      ]
     },
     "metadata": {
      "needs_background": "light"
     },
     "output_type": "display_data"
    }
   ],
   "source": [
    "sns.catplot(terminal_cells_gast, kind='bar', x='genes', y='correct_terminal_states', hue='cat')"
   ]
  },
  {
   "cell_type": "code",
   "execution_count": 13,
   "id": "d91b7257-ae7a-4146-8b88-708f9cb826a2",
   "metadata": {},
   "outputs": [
    {
     "data": {
      "text/plain": [
       "<seaborn.axisgrid.FacetGrid at 0x7f5aea86bdd0>"
      ]
     },
     "execution_count": 13,
     "metadata": {},
     "output_type": "execute_result"
    },
    {
     "data": {
      "image/png": "[encoded data removed]",
      "text/plain": [
       "<Figure size 525x360 with 1 Axes>"
      ]
     },
     "metadata": {
      "needs_background": "light"
     },
     "output_type": "display_data"
    }
   ],
   "source": [
    "sns.catplot(terminal_cells_ex, kind='bar', x='genes', y='terminal_states_found', hue='cat')"
   ]
  },
  {
   "cell_type": "code",
   "execution_count": 16,
   "id": "bcda8655-cdf3-4ec3-bd65-10bcd1265a27",
   "metadata": {},
   "outputs": [
    {
     "data": {
      "text/plain": [
       "<seaborn.axisgrid.FacetGrid at 0x7f5aea7a20d0>"
      ]
     },
     "execution_count": 16,
     "metadata": {},
     "output_type": "execute_result"
    },
    {
     "data": {
      "image/png": "[encoded data removed]",
      "text/plain": [
       "<Figure size 525x360 with 1 Axes>"
      ]
     },
     "metadata": {
      "needs_background": "light"
     },
     "output_type": "display_data"
    }
   ],
   "source": [
    "sns.catplot(terminal_cells_ex, kind='bar', x='genes', y='correct_terminal_states', hue='cat')"
   ]
  },
  {
   "cell_type": "code",
   "execution_count": 14,
   "id": "bc70312f-0656-4643-8eb5-b558f2bfb1eb",
   "metadata": {},
   "outputs": [
    {
     "data": {
      "text/plain": [
       "<seaborn.axisgrid.FacetGrid at 0x7f5aea9a3990>"
      ]
     },
     "execution_count": 14,
     "metadata": {},
     "output_type": "execute_result"
    },
    {
     "data": {
      "image/png": "[encoded data removed]",
      "text/plain": [
       "<Figure size 525x360 with 1 Axes>"
      ]
     },
     "metadata": {
      "needs_background": "light"
     },
     "output_type": "display_data"
    }
   ],
   "source": [
    "sns.catplot(terminal_cells_in, kind='bar', x='genes', y='terminal_states_found', hue='cat')"
   ]
  },
  {
   "cell_type": "code",
   "execution_count": 17,
   "id": "7414217d-84a3-4f2e-a6ae-1025ae917429",
   "metadata": {},
   "outputs": [
    {
     "data": {
      "text/plain": [
       "<seaborn.axisgrid.FacetGrid at 0x7f5aea6be590>"
      ]
     },
     "execution_count": 17,
     "metadata": {},
     "output_type": "execute_result"
    },
    {
     "data": {
      "image/png": "[encoded data removed]",
      "text/plain": [
       "<Figure size 525x360 with 1 Axes>"
      ]
     },
     "metadata": {
      "needs_background": "light"
     },
     "output_type": "display_data"
    }
   ],
   "source": [
    "sns.catplot(terminal_cells_ex, kind='bar', x='genes', y='correct_terminal_states', hue='cat')"
   ]
  },
  {
   "cell_type": "code",
   "execution_count": null,
   "id": "e3eacc61-2fe1-44a6-a02e-0d4805cb1140",
   "metadata": {},
   "outputs": [],
   "source": []
  }
 ],
 "metadata": {
  "kernelspec": {
   "display_name": "scvi",
   "language": "python",
   "name": "scvi"
  },
  "language_info": {
   "codemirror_mode": {
    "name": "ipython",
    "version": 3
   },
   "file_extension": ".py",
   "mimetype": "text/x-python",
   "name": "python",
   "nbconvert_exporter": "python",
   "pygments_lexer": "ipython3",
   "version": "3.11.5"
  }
 },
 "nbformat": 4,
 "nbformat_minor": 5
}
