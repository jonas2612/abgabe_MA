{
 "cells": [
  {
   "cell_type": "code",
   "execution_count": null,
   "id": "e4e1eaca-06c1-443d-ac44-53a96b484818",
   "metadata": {},
   "outputs": [],
   "source": [
    "import scanpy as sc\n",
    "from cellrank.kernels import VelocityKernel\n",
    "from cellrank.estimators import GPCCA\n",
    "import cellrank as cr\n",
    "import scvelo as scv\n",
    "import numpy as np\n",
    "import pandas as pd\n",
    "from pandas import DataFrame\n",
    "import cloudpickle"
   ]
  },
  {
   "cell_type": "code",
   "execution_count": 2,
   "id": "52e6f7c7-c132-4d96-bc54-a2c526b1192b",
   "metadata": {},
   "outputs": [],
   "source": [
    "def preparation(adata, model, x_key, add_spliced):\n",
    "    adata.obsm['velocity'] = np.array(fm.transport(jnp.array(adata.obsm[x_key]), \n",
    "                                   condition=np.expand_dims(adata.obs.day.values, axis=1), \n",
    "                                   forward=True)\n",
    "                      )-adata.obsm[x_key]\n",
    "    if add_spliced:\n",
    "        adata.layers['spliced'] = np.ones((adata.n_obs, adata.n_vars))\n",
    "        adata.layers['unspliced'] = np.ones((adata.n_obs, adata.n_vars))\n",
    "\n",
    "    scv.pp.moments(adata)\n",
    "    return None"
   ]
  },
  {
   "cell_type": "code",
   "execution_count": 6,
   "id": "f2034d82-129b-4b3c-ab6c-09dbddf64a0a",
   "metadata": {},
   "outputs": [],
   "source": [
    "terminal_states = ['Amnion', 'Blood', 'Mid-Hind Gut', 'Foregut/Placodes', 'Mixed mesoderm', 'Extra-Embryonic ectoderm', 'Endothelial', \n",
    "                   'Cardiac', 'Endothelial/Mixed', 'Extra-Embryonic endoderm', 'Placodes/Extra-Embryonic mesoderm']\n",
    "adata = sc.read_h5ad(f'/home/icb/jonas.flor/gastrulation_atlas/scvi/reference_query/scarches/1M/10k_genes/2/2048/invito/invito_adata.h5ad')\n",
    "sc.pp.subsample(adata, n_obs=1000)\n",
    "cluster_key = 'celltype'\n",
    "n_states = int(len(adata.obs.celltype.unique())*1.0)\n",
    "add_spliced=True\n",
    "x_key = 'X_emb'\n",
    "end = '_w'"
   ]
  },
  {
   "cell_type": "code",
   "execution_count": 7,
   "id": "3a8b960d-cacb-492f-ab74-7584e019bb79",
   "metadata": {},
   "outputs": [
    {
     "name": "stdout",
     "output_type": "stream",
     "text": [
      "WARNING: Did not normalize X as it looks processed already. To enforce normalization, set `enforce=True`.\n",
      "Normalized count data: spliced, unspliced.\n",
      "computing neighbors\n",
      "    finished (0:00:11) --> added \n",
      "    'distances' and 'connectivities', weighted adjacency matrices (adata.obsp)\n",
      "computing moments based on connectivities\n",
      "    finished (0:00:03) --> added \n",
      "    'Ms' and 'Mu', moments of un/spliced abundances (adata.layers)\n"
     ]
    }
   ],
   "source": [
    "with open(f'/home/icb/jonas.flor/gastrulation_atlas/scvi/reference_query/divergences/flow/1M/10k_genes/2/2048/integrated_cond_model{end}.pt', mode='rb') as file:\n",
    "       fm = cloudpickle.load(file)\n",
    "\n",
    "preparation(adata, fm, x_key, add_spliced)"
   ]
  },
  {
   "cell_type": "code",
   "execution_count": 9,
   "id": "7ba4b5dd-b8ee-4f51-b925-876bf431671e",
   "metadata": {},
   "outputs": [
    {
     "name": "stderr",
     "output_type": "stream",
     "text": [
      "100%|█████████████████████████████████████████████████████████████████████████████████████████████████████████████████████████████████████████████████████████████████████████████████████████████████████████| 1000/1000 [00:01<00:00, 994.30cell/s]\n",
      "100%|████████████████████████████████████████████████████████████████████████████████████████████████████████████████████████████████████████████████████████████████████████████████████████████████████████| 1000/1000 [00:00<00:00, 5463.88cell/s]\n"
     ]
    },
    {
     "data": {
      "text/plain": [
       "GPCCA[kernel=VelocityKernel[n=1000], initial_states=None, terminal_states=['Blood_2', 'Blood_3', 'Blood_4', 'Blood_5', 'Extra-Embryonic endoderm_2', 'Extra-Embryonic mesoderm', 'Mixed mesoderm', 'Neural Crest/Mid-HindBrain_1', 'Neural Crest/Mid-HindBrain_3', 'Pharyngeal Mesoderm/Neural Crest']]"
      ]
     },
     "execution_count": 9,
     "metadata": {},
     "output_type": "execute_result"
    }
   ],
   "source": [
    "vk = VelocityKernel(adata, attr='obsm', xkey=x_key, vkey=\"velocity\").compute_transition_matrix()\n",
    "g = GPCCA(vk)\n",
    "\n",
    "g.compute_macrostates(cluster_key=cluster_key, n_states=n_states)\n",
    "g.predict_terminal_states(n_states=len(terminal_states), method='top_n')"
   ]
  },
  {
   "cell_type": "code",
   "execution_count": 10,
   "id": "2f200e7d-06ca-4285-a87d-4ce330242818",
   "metadata": {},
   "outputs": [],
   "source": [
    "terminal_states_contained = 0\n",
    "for state in terminal_states:\n",
    "    if any([terminal_state.startswith(state) for terminal_state in g.terminal_states.cat.categories.astype('string')]):\n",
    "        terminal_states_contained = terminal_states_contained+1\n",
    "terminal_states_found = terminal_states_contained/len(terminal_states)\n",
    "\n",
    "corrcet_terminal_states = 0\n",
    "for terminal_state in g.terminal_states.cat.categories.astype('string'):\n",
    "    if any([terminal_state.startswith(state) for state in terminal_states]):\n",
    "        corrcet_terminal_states = corrcet_terminal_states+1\n",
    "corrcet_terminal_states = corrcet_terminal_states/len(g.terminal_states.cat.categories)"
   ]
  },
  {
   "cell_type": "code",
   "execution_count": 11,
   "id": "e7db3a71-fb4f-459f-9478-4d4cefff7bc5",
   "metadata": {},
   "outputs": [
    {
     "data": {
      "text/plain": [
       "['Mixed mesoderm',\n",
       " 'Neural Crest/Mid-HindBrain_1',\n",
       " 'Extra-Embryonic endoderm_1',\n",
       " 'Mixed',\n",
       " 'Blood_1',\n",
       " 'Blood_2',\n",
       " 'Extra-Embryonic endoderm_2',\n",
       " 'Blood_3',\n",
       " 'Amnion',\n",
       " 'Neural Crest/Mid-HindBrain_2',\n",
       " 'Blood_4',\n",
       " 'Blood_5',\n",
       " 'Pharyngeal Mesoderm/Neural Crest',\n",
       " 'Neural Crest/Mid-HindBrain_3',\n",
       " 'Extra-Embryonic mesoderm']"
      ]
     },
     "execution_count": 11,
     "metadata": {},
     "output_type": "execute_result"
    }
   ],
   "source": [
    "terminal_state_anno = []\n",
    "for state in g.macrostates.cat.categories.astype('string'):\n",
    "    if any([terminal_state.startswith(state) for state in terminal_states]):\n",
    "        terminal_state_anno.append(state)\n",
    "terminal_state_anno"
   ]
  },
  {
   "cell_type": "code",
   "execution_count": 12,
   "id": "e3fc3b02-4c4c-44df-9e39-94b4b40062a5",
   "metadata": {},
   "outputs": [
    {
     "data": {
      "text/plain": [
       "Index(['Mixed mesoderm', 'Neural Crest/Mid-HindBrain_1',\n",
       "       'Extra-Embryonic endoderm_1', 'Mixed', 'Blood_1', 'Blood_2',\n",
       "       'Extra-Embryonic endoderm_2', 'Blood_3', 'Amnion',\n",
       "       'Neural Crest/Mid-HindBrain_2', 'Blood_4', 'Blood_5',\n",
       "       'Pharyngeal Mesoderm/Neural Crest', 'Neural Crest/Mid-HindBrain_3',\n",
       "       'Extra-Embryonic mesoderm'],\n",
       "      dtype='string')"
      ]
     },
     "execution_count": 12,
     "metadata": {},
     "output_type": "execute_result"
    }
   ],
   "source": [
    "g.macrostates.cat.categories.astype('string')"
   ]
  },
  {
   "cell_type": "code",
   "execution_count": 18,
   "id": "47e74563-ece0-4e2e-a2ab-ea6937a5437f",
   "metadata": {},
   "outputs": [
    {
     "data": {
      "text/plain": [
       "GPCCA[kernel=VelocityKernel[n=1000], initial_states=None, terminal_states=['Amnion', 'Blood_1', 'Blood_2', 'Blood_3', 'Blood_4', 'Blood_5', 'Extra-Embryonic endoderm_1', 'Extra-Embryonic endoderm_2', 'Extra-Embryonic mesoderm', 'Mixed', 'Mixed mesoderm', 'Neural Crest/Mid-HindBrain_1', 'Neural Crest/Mid-HindBrain_2', 'Neural Crest/Mid-HindBrain_3', 'Pharyngeal Mesoderm/Neural Crest']]"
      ]
     },
     "execution_count": 18,
     "metadata": {},
     "output_type": "execute_result"
    }
   ],
   "source": [
    "g.set_terminal_states(terminal_state_anno)"
   ]
  },
  {
   "cell_type": "code",
   "execution_count": 17,
   "id": "ac3cbf0c-da5d-4d3f-81f8-8c7aada32773",
   "metadata": {},
   "outputs": [
    {
     "data": {
      "text/plain": [
       "['Blood', 'Extra-Embryonic mesoderm', 'Extra-Embryonic endoderm', 'Extra-Embryonic ectoderm', 'Pharyngeal Mesoderm/Neural Crest', ..., 'Cardiac', 'Foregut/Placodes', 'Mixed', 'Endothelial/Mixed', 'Placodes/Extra-Embryonic mesoderm']\n",
       "Length: 15\n",
       "Categories (15, object): ['Amnion', 'Blood', 'Cardiac', 'Endothelial', ..., 'Mixed mesoderm', 'Neural Crest/Mid-HindBrain', 'Pharyngeal Mesoderm/Neural Crest', 'Placodes/Extra-Embryonic mesoderm']"
      ]
     },
     "execution_count": 17,
     "metadata": {},
     "output_type": "execute_result"
    }
   ],
   "source": [
    "tmp = sc.read_h5ad('/home/icb/jonas.flor/gastrulation_atlas/scvi/reference_query/scarches/1M/10k_genes/2/2048/exvito/exvito_adata.h5ad', backed='r')\n",
    "tmp.obs.celltype.unique()"
   ]
  },
  {
   "cell_type": "code",
   "execution_count": 24,
   "id": "74765fee-432b-4ad4-b9e4-d572b0c228d4",
   "metadata": {},
   "outputs": [],
   "source": [
    "t = np.var(sc.read_h5ad('/home/icb/jonas.flor/gastrulation_atlas/scvi/reference_query/scarches/1M/10k_genes/2/2048/gastrulation/gastrulation_adata.h5ad', backed='r').obsm['X_emb'], axis=1)"
   ]
  },
  {
   "cell_type": "code",
   "execution_count": 25,
   "id": "e2014434-b4fc-4fe6-8a53-05aca638df6a",
   "metadata": {},
   "outputs": [
    {
     "data": {
      "text/plain": [
       "2.2796607"
      ]
     },
     "execution_count": 25,
     "metadata": {},
     "output_type": "execute_result"
    }
   ],
   "source": [
    "np.min(t)"
   ]
  },
  {
   "cell_type": "code",
   "execution_count": 26,
   "id": "8a3167b5-0233-4baf-ad3e-faf00a3064f1",
   "metadata": {},
   "outputs": [
    {
     "data": {
      "text/plain": [
       "16.442469"
      ]
     },
     "execution_count": 26,
     "metadata": {},
     "output_type": "execute_result"
    }
   ],
   "source": [
    "np.max(t)"
   ]
  },
  {
   "cell_type": "code",
   "execution_count": 1,
   "id": "a0bd4d17-0139-4bb3-a522-a99b79335e3d",
   "metadata": {},
   "outputs": [],
   "source": [
    "import scanpy as sc"
   ]
  },
  {
   "cell_type": "code",
   "execution_count": null,
   "id": "91cd390e-253b-47e8-8d1e-a2c9c8934252",
   "metadata": {},
   "outputs": [],
   "source": [
    "tmp = sc.read_h5ad('/lustre/groups/ml01/workspace/monge_velo/data/mouse_gastrulation_atlas/gastrulation_atlas_neighbors.h5ad', backed='r')"
   ]
  },
  {
   "cell_type": "code",
   "execution_count": null,
   "id": "973756cf-b302-4a1d-9521-249ea3b5692b",
   "metadata": {},
   "outputs": [],
   "source": [
    "tmp.X[:10,]"
   ]
  }
 ],
 "metadata": {
  "kernelspec": {
   "display_name": "cellrank_new",
   "language": "python",
   "name": "cellrank_new"
  },
  "language_info": {
   "codemirror_mode": {
    "name": "ipython",
    "version": 3
   },
   "file_extension": ".py",
   "mimetype": "text/x-python",
   "name": "python",
   "nbconvert_exporter": "python",
   "pygments_lexer": "ipython3",
   "version": "3.11.7"
  }
 },
 "nbformat": 4,
 "nbformat_minor": 5
}
