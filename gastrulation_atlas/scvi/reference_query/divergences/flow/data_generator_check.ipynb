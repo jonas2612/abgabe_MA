{
 "cells": [
  {
   "cell_type": "code",
   "execution_count": 1,
   "id": "2f89fc11-77e8-4dd3-88d8-2425b7963c04",
   "metadata": {},
   "outputs": [],
   "source": [
    "from ott.neural.flows.models import VelocityField\n",
    "from ott.neural.flows.flows import ConstantNoiseFlow\n",
    "from ott.neural.flows.samplers import sample_uniformly\n",
    "from ott.neural.flows.otfm import OTFlowMatching\n",
    "from ott.solvers.linear import sinkhorn\n",
    "from ott.tools import sinkhorn_divergence\n",
    "from ott.geometry import pointcloud\n",
    "from ott.neural.data.dataloaders import OTDataLoader, ConditionalDataLoader\n",
    "\n",
    "import optax\n",
    "import scanpy as sc\n",
    "\n",
    "import jax.numpy as jnp\n",
    "\n",
    "import numpy as np\n",
    "import pandas as pd\n",
    "\n",
    "from ott.tools import sinkhorn_divergence\n",
    "from ott.geometry import pointcloud\n",
    "\n",
    "from fractions import Fraction\n",
    "import anndata as ad"
   ]
  },
  {
   "cell_type": "code",
   "execution_count": 11,
   "id": "ddeaf6cc-7090-4849-8138-1245cc7c7775",
   "metadata": {},
   "outputs": [],
   "source": [
    "def dataGeneration(data: ad.AnnData, weights: pd.DataFrame): #adjustment of data according to weights wrt to cellcluster_moscot\n",
    "    weight = []\n",
    "    mass_rel = []\n",
    "    clusters = []\n",
    "    for cluster in data.obs.cellcluster_moscot.values.unique():\n",
    "        if cluster in weights['celltype'].values:\n",
    "            weight.append(float(sum(Fraction(s) for s in weights.loc[weights['celltype']==cluster, 'weight'].values[0].split())))\n",
    "        else:\n",
    "            weight.append(1.)\n",
    "        mass_rel.append(data[data.obs.cellcluster_moscot==cluster].n_obs)\n",
    "        clusters.append(cluster)\n",
    "    \n",
    "    mass_rel = np.array(mass_rel)/data.n_obs\n",
    "    weight = np.array(weight)\n",
    "\n",
    "    mass = np.sum(mass_rel*weight)\n",
    "    weight_adjusted = weight/mass\n",
    "\n",
    "    weight_adjusted = pd.DataFrame(data={'cluster': clusters, 'weight': weight_adjusted})\n",
    "\n",
    "    \n",
    "    adata_collection = []\n",
    "\n",
    "    for cluster in data.obs.cellcluster_moscot.values.unique(): #for each cluster get samples with replacement and sample according to these indices\n",
    "        data_cluster = data[data.obs.cellcluster_moscot==cluster]\n",
    "        old_n_obs = data_cluster.n_obs\n",
    "        obs_indices = np.random.choice(\n",
    "            old_n_obs,\n",
    "            size=int(old_n_obs*weight_adjusted.loc[weight_adjusted['cluster']==cluster, 'weight'].values[0]),\n",
    "            replace=True)\n",
    "        adata_collection.append(data[obs_indices])\n",
    "\n",
    "    return ad.concat(adata_collection) #concatenate all cluster\n",
    "\n",
    "def dataGenerator(data: ad.AnnData, day_source: float, day_target: float, weights: pd.DataFrame): #prepare source and target for dataGeneration\n",
    "    weights_time = weights[weights['timepoint']==day_source]\n",
    "    weights_source = weights_time[weights_time['marginal']=='source_marginals']\n",
    "    weights_target = weights_time[weights_time['marginal']=='target_marginals']\n",
    "    \n",
    "    data_source_prelim = data[data.obs.day==day_source]\n",
    "    data_target_prelim = data[data.obs.day==day_target]\n",
    "\n",
    "    data_source = dataGeneration(data_source_prelim, weights_source)\n",
    "    data_target = dataGeneration(data_target_prelim, weights_target)\n",
    "\n",
    "    return data_source, data_target"
   ]
  },
  {
   "cell_type": "code",
   "execution_count": 3,
   "id": "250ffe84-7e79-45e9-98ff-d99c3647b4e4",
   "metadata": {},
   "outputs": [
    {
     "data": {
      "text/html": [
       "<div>\n",
       "<style scoped>\n",
       "    .dataframe tbody tr th:only-of-type {\n",
       "        vertical-align: middle;\n",
       "    }\n",
       "\n",
       "    .dataframe tbody tr th {\n",
       "        vertical-align: top;\n",
       "    }\n",
       "\n",
       "    .dataframe thead th {\n",
       "        text-align: right;\n",
       "    }\n",
       "</style>\n",
       "<table border=\"1\" class=\"dataframe\">\n",
       "  <thead>\n",
       "    <tr style=\"text-align: right;\">\n",
       "      <th></th>\n",
       "      <th>Unnamed: 0</th>\n",
       "      <th>timepoint</th>\n",
       "      <th>weight</th>\n",
       "      <th>marginal</th>\n",
       "      <th>celltype</th>\n",
       "    </tr>\n",
       "  </thead>\n",
       "  <tbody>\n",
       "    <tr>\n",
       "      <th>0</th>\n",
       "      <td>0</td>\n",
       "      <td>8.50</td>\n",
       "      <td>1/16</td>\n",
       "      <td>target_marginals</td>\n",
       "      <td>Mesoderm</td>\n",
       "    </tr>\n",
       "    <tr>\n",
       "      <th>1</th>\n",
       "      <td>1</td>\n",
       "      <td>8.50</td>\n",
       "      <td>1/16</td>\n",
       "      <td>target_marginals</td>\n",
       "      <td>Neuroectoderm_and_glia</td>\n",
       "    </tr>\n",
       "    <tr>\n",
       "      <th>2</th>\n",
       "      <td>2</td>\n",
       "      <td>8.50</td>\n",
       "      <td>1/4</td>\n",
       "      <td>target_marginals</td>\n",
       "      <td>Endothelium</td>\n",
       "    </tr>\n",
       "    <tr>\n",
       "      <th>3</th>\n",
       "      <td>3</td>\n",
       "      <td>8.50</td>\n",
       "      <td>1/4</td>\n",
       "      <td>target_marginals</td>\n",
       "      <td>Epithelial_cells</td>\n",
       "    </tr>\n",
       "    <tr>\n",
       "      <th>4</th>\n",
       "      <td>4</td>\n",
       "      <td>8.50</td>\n",
       "      <td>1/4</td>\n",
       "      <td>target_marginals</td>\n",
       "      <td>Neural_crest_PNS_glia</td>\n",
       "    </tr>\n",
       "    <tr>\n",
       "      <th>...</th>\n",
       "      <td>...</td>\n",
       "      <td>...</td>\n",
       "      <td>...</td>\n",
       "      <td>...</td>\n",
       "      <td>...</td>\n",
       "    </tr>\n",
       "    <tr>\n",
       "      <th>1013</th>\n",
       "      <td>1013</td>\n",
       "      <td>18.75</td>\n",
       "      <td>100</td>\n",
       "      <td>target_marginals</td>\n",
       "      <td>Olidendrocytes</td>\n",
       "    </tr>\n",
       "    <tr>\n",
       "      <th>1014</th>\n",
       "      <td>1014</td>\n",
       "      <td>18.75</td>\n",
       "      <td>500</td>\n",
       "      <td>target_marginals</td>\n",
       "      <td>Primordial_germ_cells</td>\n",
       "    </tr>\n",
       "    <tr>\n",
       "      <th>1015</th>\n",
       "      <td>1015</td>\n",
       "      <td>18.75</td>\n",
       "      <td>100</td>\n",
       "      <td>target_marginals</td>\n",
       "      <td>T_cells</td>\n",
       "    </tr>\n",
       "    <tr>\n",
       "      <th>1016</th>\n",
       "      <td>1016</td>\n",
       "      <td>18.75</td>\n",
       "      <td>1000</td>\n",
       "      <td>target_marginals</td>\n",
       "      <td>Testis_and_adrenal</td>\n",
       "    </tr>\n",
       "    <tr>\n",
       "      <th>1017</th>\n",
       "      <td>1017</td>\n",
       "      <td>18.75</td>\n",
       "      <td>30</td>\n",
       "      <td>target_marginals</td>\n",
       "      <td>White_blood_cells</td>\n",
       "    </tr>\n",
       "  </tbody>\n",
       "</table>\n",
       "<p>1018 rows × 5 columns</p>\n",
       "</div>"
      ],
      "text/plain": [
       "      Unnamed: 0  timepoint weight          marginal                celltype\n",
       "0              0       8.50   1/16  target_marginals                Mesoderm\n",
       "1              1       8.50   1/16  target_marginals  Neuroectoderm_and_glia\n",
       "2              2       8.50    1/4  target_marginals             Endothelium\n",
       "3              3       8.50    1/4  target_marginals        Epithelial_cells\n",
       "4              4       8.50    1/4  target_marginals   Neural_crest_PNS_glia\n",
       "...          ...        ...    ...               ...                     ...\n",
       "1013        1013      18.75    100  target_marginals          Olidendrocytes\n",
       "1014        1014      18.75    500  target_marginals   Primordial_germ_cells\n",
       "1015        1015      18.75    100  target_marginals                 T_cells\n",
       "1016        1016      18.75   1000  target_marginals      Testis_and_adrenal\n",
       "1017        1017      18.75     30  target_marginals       White_blood_cells\n",
       "\n",
       "[1018 rows x 5 columns]"
      ]
     },
     "execution_count": 3,
     "metadata": {},
     "output_type": "execute_result"
    }
   ],
   "source": [
    "weights = pd.read_csv('/home/icb/jonas.flor/gastrulation_atlas/moscot/weights_together.csv')\n",
    "weights"
   ]
  },
  {
   "cell_type": "code",
   "execution_count": 4,
   "id": "10085d11-12de-4e5b-a1cf-1d2d737e381f",
   "metadata": {},
   "outputs": [
    {
     "data": {
      "text/plain": [
       "AnnData object with n_obs × n_vars = 10000 × 2000\n",
       "    obs: 'cell_id', 'keep', 'day', 'embryo_id', 'experimental_batch', 'batch', 'cell_cluster', 'celltype', 'cellcluster_moscot', '_scvi_batch', '_scvi_labels', 'dpt_pseudotime'\n",
       "    uns: 'diffmap_evals', 'iroot', 'log1p', 'neighbors'\n",
       "    obsm: 'X_diffmap', 'X_emb'\n",
       "    obsp: 'connectivities', 'distances'"
      ]
     },
     "execution_count": 4,
     "metadata": {},
     "output_type": "execute_result"
    }
   ],
   "source": [
    "adata = sc.read_h5ad(f'/home/icb/jonas.flor/gastrulation_atlas/scvi/training/10k/2k_genes/1/128/integrated_adata.h5ad')\n",
    "day_sort=adata.obs.day.unique()\n",
    "day_sort.sort()\n",
    "adata"
   ]
  },
  {
   "cell_type": "code",
   "execution_count": 6,
   "id": "41567934-96eb-4ff0-8efa-1aab7b82b212",
   "metadata": {
    "scrolled": true
   },
   "outputs": [
    {
     "name": "stderr",
     "output_type": "stream",
     "text": [
      "/home/icb/jonas.flor/mambaforge/envs/moscot_flow/lib/python3.11/site-packages/anndata/_core/anndata.py:1897: UserWarning: Observation names are not unique. To make them unique, call `.obs_names_make_unique`.\n",
      "  utils.warn_names_duplicates(\"obs\")\n",
      "/home/icb/jonas.flor/mambaforge/envs/moscot_flow/lib/python3.11/site-packages/anndata/_core/anndata.py:1897: UserWarning: Observation names are not unique. To make them unique, call `.obs_names_make_unique`.\n",
      "  utils.warn_names_duplicates(\"obs\")\n",
      "/home/icb/jonas.flor/mambaforge/envs/moscot_flow/lib/python3.11/site-packages/anndata/_core/anndata.py:1897: UserWarning: Observation names are not unique. To make them unique, call `.obs_names_make_unique`.\n",
      "  utils.warn_names_duplicates(\"obs\")\n",
      "/home/icb/jonas.flor/mambaforge/envs/moscot_flow/lib/python3.11/site-packages/anndata/_core/anndata.py:1897: UserWarning: Observation names are not unique. To make them unique, call `.obs_names_make_unique`.\n",
      "  utils.warn_names_duplicates(\"obs\")\n",
      "/home/icb/jonas.flor/mambaforge/envs/moscot_flow/lib/python3.11/site-packages/anndata/_core/anndata.py:1897: UserWarning: Observation names are not unique. To make them unique, call `.obs_names_make_unique`.\n",
      "  utils.warn_names_duplicates(\"obs\")\n",
      "/home/icb/jonas.flor/mambaforge/envs/moscot_flow/lib/python3.11/site-packages/anndata/_core/anndata.py:1897: UserWarning: Observation names are not unique. To make them unique, call `.obs_names_make_unique`.\n",
      "  utils.warn_names_duplicates(\"obs\")\n",
      "/home/icb/jonas.flor/mambaforge/envs/moscot_flow/lib/python3.11/site-packages/anndata/_core/anndata.py:1897: UserWarning: Observation names are not unique. To make them unique, call `.obs_names_make_unique`.\n",
      "  utils.warn_names_duplicates(\"obs\")\n",
      "/home/icb/jonas.flor/mambaforge/envs/moscot_flow/lib/python3.11/site-packages/anndata/_core/anndata.py:1897: UserWarning: Observation names are not unique. To make them unique, call `.obs_names_make_unique`.\n",
      "  utils.warn_names_duplicates(\"obs\")\n",
      "/home/icb/jonas.flor/mambaforge/envs/moscot_flow/lib/python3.11/site-packages/anndata/_core/anndata.py:1897: UserWarning: Observation names are not unique. To make them unique, call `.obs_names_make_unique`.\n",
      "  utils.warn_names_duplicates(\"obs\")\n",
      "/home/icb/jonas.flor/mambaforge/envs/moscot_flow/lib/python3.11/site-packages/anndata/_core/anndata.py:1897: UserWarning: Observation names are not unique. To make them unique, call `.obs_names_make_unique`.\n",
      "  utils.warn_names_duplicates(\"obs\")\n",
      "/home/icb/jonas.flor/mambaforge/envs/moscot_flow/lib/python3.11/site-packages/anndata/_core/anndata.py:1897: UserWarning: Observation names are not unique. To make them unique, call `.obs_names_make_unique`.\n",
      "  utils.warn_names_duplicates(\"obs\")\n",
      "/home/icb/jonas.flor/mambaforge/envs/moscot_flow/lib/python3.11/site-packages/anndata/_core/anndata.py:1897: UserWarning: Observation names are not unique. To make them unique, call `.obs_names_make_unique`.\n",
      "  utils.warn_names_duplicates(\"obs\")\n",
      "/home/icb/jonas.flor/mambaforge/envs/moscot_flow/lib/python3.11/site-packages/anndata/_core/anndata.py:1897: UserWarning: Observation names are not unique. To make them unique, call `.obs_names_make_unique`.\n",
      "  utils.warn_names_duplicates(\"obs\")\n",
      "/home/icb/jonas.flor/mambaforge/envs/moscot_flow/lib/python3.11/site-packages/anndata/_core/anndata.py:1897: UserWarning: Observation names are not unique. To make them unique, call `.obs_names_make_unique`.\n",
      "  utils.warn_names_duplicates(\"obs\")\n",
      "/home/icb/jonas.flor/mambaforge/envs/moscot_flow/lib/python3.11/site-packages/anndata/_core/anndata.py:1897: UserWarning: Observation names are not unique. To make them unique, call `.obs_names_make_unique`.\n",
      "  utils.warn_names_duplicates(\"obs\")\n",
      "/home/icb/jonas.flor/mambaforge/envs/moscot_flow/lib/python3.11/site-packages/anndata/_core/anndata.py:1897: UserWarning: Observation names are not unique. To make them unique, call `.obs_names_make_unique`.\n",
      "  utils.warn_names_duplicates(\"obs\")\n",
      "/home/icb/jonas.flor/mambaforge/envs/moscot_flow/lib/python3.11/site-packages/anndata/_core/anndata.py:1897: UserWarning: Observation names are not unique. To make them unique, call `.obs_names_make_unique`.\n",
      "  utils.warn_names_duplicates(\"obs\")\n",
      "/home/icb/jonas.flor/mambaforge/envs/moscot_flow/lib/python3.11/site-packages/anndata/_core/anndata.py:1897: UserWarning: Observation names are not unique. To make them unique, call `.obs_names_make_unique`.\n",
      "  utils.warn_names_duplicates(\"obs\")\n",
      "/home/icb/jonas.flor/mambaforge/envs/moscot_flow/lib/python3.11/site-packages/anndata/_core/anndata.py:1897: UserWarning: Observation names are not unique. To make them unique, call `.obs_names_make_unique`.\n",
      "  utils.warn_names_duplicates(\"obs\")\n",
      "/home/icb/jonas.flor/mambaforge/envs/moscot_flow/lib/python3.11/site-packages/anndata/_core/anndata.py:1897: UserWarning: Observation names are not unique. To make them unique, call `.obs_names_make_unique`.\n",
      "  utils.warn_names_duplicates(\"obs\")\n",
      "/home/icb/jonas.flor/mambaforge/envs/moscot_flow/lib/python3.11/site-packages/anndata/_core/anndata.py:1897: UserWarning: Observation names are not unique. To make them unique, call `.obs_names_make_unique`.\n",
      "  utils.warn_names_duplicates(\"obs\")\n",
      "/home/icb/jonas.flor/mambaforge/envs/moscot_flow/lib/python3.11/site-packages/anndata/_core/anndata.py:1897: UserWarning: Observation names are not unique. To make them unique, call `.obs_names_make_unique`.\n",
      "  utils.warn_names_duplicates(\"obs\")\n",
      "/home/icb/jonas.flor/mambaforge/envs/moscot_flow/lib/python3.11/site-packages/anndata/_core/anndata.py:1897: UserWarning: Observation names are not unique. To make them unique, call `.obs_names_make_unique`.\n",
      "  utils.warn_names_duplicates(\"obs\")\n",
      "/home/icb/jonas.flor/mambaforge/envs/moscot_flow/lib/python3.11/site-packages/anndata/_core/anndata.py:1897: UserWarning: Observation names are not unique. To make them unique, call `.obs_names_make_unique`.\n",
      "  utils.warn_names_duplicates(\"obs\")\n",
      "/home/icb/jonas.flor/mambaforge/envs/moscot_flow/lib/python3.11/site-packages/anndata/_core/anndata.py:1897: UserWarning: Observation names are not unique. To make them unique, call `.obs_names_make_unique`.\n",
      "  utils.warn_names_duplicates(\"obs\")\n",
      "/home/icb/jonas.flor/mambaforge/envs/moscot_flow/lib/python3.11/site-packages/anndata/_core/anndata.py:1897: UserWarning: Observation names are not unique. To make them unique, call `.obs_names_make_unique`.\n",
      "  utils.warn_names_duplicates(\"obs\")\n",
      "/home/icb/jonas.flor/mambaforge/envs/moscot_flow/lib/python3.11/site-packages/anndata/_core/anndata.py:1897: UserWarning: Observation names are not unique. To make them unique, call `.obs_names_make_unique`.\n",
      "  utils.warn_names_duplicates(\"obs\")\n",
      "/home/icb/jonas.flor/mambaforge/envs/moscot_flow/lib/python3.11/site-packages/anndata/_core/anndata.py:1897: UserWarning: Observation names are not unique. To make them unique, call `.obs_names_make_unique`.\n",
      "  utils.warn_names_duplicates(\"obs\")\n",
      "/home/icb/jonas.flor/mambaforge/envs/moscot_flow/lib/python3.11/site-packages/anndata/_core/anndata.py:1897: UserWarning: Observation names are not unique. To make them unique, call `.obs_names_make_unique`.\n",
      "  utils.warn_names_duplicates(\"obs\")\n",
      "/home/icb/jonas.flor/mambaforge/envs/moscot_flow/lib/python3.11/site-packages/anndata/_core/anndata.py:1897: UserWarning: Observation names are not unique. To make them unique, call `.obs_names_make_unique`.\n",
      "  utils.warn_names_duplicates(\"obs\")\n",
      "/home/icb/jonas.flor/mambaforge/envs/moscot_flow/lib/python3.11/site-packages/anndata/_core/anndata.py:1897: UserWarning: Observation names are not unique. To make them unique, call `.obs_names_make_unique`.\n",
      "  utils.warn_names_duplicates(\"obs\")\n",
      "/home/icb/jonas.flor/mambaforge/envs/moscot_flow/lib/python3.11/site-packages/anndata/_core/anndata.py:1897: UserWarning: Observation names are not unique. To make them unique, call `.obs_names_make_unique`.\n",
      "  utils.warn_names_duplicates(\"obs\")\n",
      "/home/icb/jonas.flor/mambaforge/envs/moscot_flow/lib/python3.11/site-packages/anndata/_core/anndata.py:1897: UserWarning: Observation names are not unique. To make them unique, call `.obs_names_make_unique`.\n",
      "  utils.warn_names_duplicates(\"obs\")\n",
      "/home/icb/jonas.flor/mambaforge/envs/moscot_flow/lib/python3.11/site-packages/anndata/_core/anndata.py:1897: UserWarning: Observation names are not unique. To make them unique, call `.obs_names_make_unique`.\n",
      "  utils.warn_names_duplicates(\"obs\")\n",
      "/home/icb/jonas.flor/mambaforge/envs/moscot_flow/lib/python3.11/site-packages/anndata/_core/anndata.py:1897: UserWarning: Observation names are not unique. To make them unique, call `.obs_names_make_unique`.\n",
      "  utils.warn_names_duplicates(\"obs\")\n",
      "/home/icb/jonas.flor/mambaforge/envs/moscot_flow/lib/python3.11/site-packages/anndata/_core/anndata.py:1897: UserWarning: Observation names are not unique. To make them unique, call `.obs_names_make_unique`.\n",
      "  utils.warn_names_duplicates(\"obs\")\n",
      "/home/icb/jonas.flor/mambaforge/envs/moscot_flow/lib/python3.11/site-packages/anndata/_core/anndata.py:1897: UserWarning: Observation names are not unique. To make them unique, call `.obs_names_make_unique`.\n",
      "  utils.warn_names_duplicates(\"obs\")\n",
      "/home/icb/jonas.flor/mambaforge/envs/moscot_flow/lib/python3.11/site-packages/anndata/_core/anndata.py:1897: UserWarning: Observation names are not unique. To make them unique, call `.obs_names_make_unique`.\n",
      "  utils.warn_names_duplicates(\"obs\")\n",
      "/home/icb/jonas.flor/mambaforge/envs/moscot_flow/lib/python3.11/site-packages/anndata/_core/anndata.py:1897: UserWarning: Observation names are not unique. To make them unique, call `.obs_names_make_unique`.\n",
      "  utils.warn_names_duplicates(\"obs\")\n",
      "/home/icb/jonas.flor/mambaforge/envs/moscot_flow/lib/python3.11/site-packages/anndata/_core/anndata.py:1897: UserWarning: Observation names are not unique. To make them unique, call `.obs_names_make_unique`.\n",
      "  utils.warn_names_duplicates(\"obs\")\n",
      "/home/icb/jonas.flor/mambaforge/envs/moscot_flow/lib/python3.11/site-packages/anndata/_core/anndata.py:1897: UserWarning: Observation names are not unique. To make them unique, call `.obs_names_make_unique`.\n",
      "  utils.warn_names_duplicates(\"obs\")\n",
      "/home/icb/jonas.flor/mambaforge/envs/moscot_flow/lib/python3.11/site-packages/anndata/_core/anndata.py:1897: UserWarning: Observation names are not unique. To make them unique, call `.obs_names_make_unique`.\n",
      "  utils.warn_names_duplicates(\"obs\")\n",
      "/home/icb/jonas.flor/mambaforge/envs/moscot_flow/lib/python3.11/site-packages/anndata/_core/anndata.py:1897: UserWarning: Observation names are not unique. To make them unique, call `.obs_names_make_unique`.\n",
      "  utils.warn_names_duplicates(\"obs\")\n",
      "/home/icb/jonas.flor/mambaforge/envs/moscot_flow/lib/python3.11/site-packages/anndata/_core/anndata.py:1897: UserWarning: Observation names are not unique. To make them unique, call `.obs_names_make_unique`.\n",
      "  utils.warn_names_duplicates(\"obs\")\n",
      "/home/icb/jonas.flor/mambaforge/envs/moscot_flow/lib/python3.11/site-packages/anndata/_core/anndata.py:1897: UserWarning: Observation names are not unique. To make them unique, call `.obs_names_make_unique`.\n",
      "  utils.warn_names_duplicates(\"obs\")\n",
      "/home/icb/jonas.flor/mambaforge/envs/moscot_flow/lib/python3.11/site-packages/anndata/_core/anndata.py:1897: UserWarning: Observation names are not unique. To make them unique, call `.obs_names_make_unique`.\n",
      "  utils.warn_names_duplicates(\"obs\")\n",
      "/home/icb/jonas.flor/mambaforge/envs/moscot_flow/lib/python3.11/site-packages/anndata/_core/anndata.py:1897: UserWarning: Observation names are not unique. To make them unique, call `.obs_names_make_unique`.\n",
      "  utils.warn_names_duplicates(\"obs\")\n",
      "/home/icb/jonas.flor/mambaforge/envs/moscot_flow/lib/python3.11/site-packages/anndata/_core/anndata.py:1897: UserWarning: Observation names are not unique. To make them unique, call `.obs_names_make_unique`.\n",
      "  utils.warn_names_duplicates(\"obs\")\n",
      "/home/icb/jonas.flor/mambaforge/envs/moscot_flow/lib/python3.11/site-packages/anndata/_core/anndata.py:1897: UserWarning: Observation names are not unique. To make them unique, call `.obs_names_make_unique`.\n",
      "  utils.warn_names_duplicates(\"obs\")\n",
      "/home/icb/jonas.flor/mambaforge/envs/moscot_flow/lib/python3.11/site-packages/anndata/_core/anndata.py:1897: UserWarning: Observation names are not unique. To make them unique, call `.obs_names_make_unique`.\n",
      "  utils.warn_names_duplicates(\"obs\")\n",
      "/home/icb/jonas.flor/mambaforge/envs/moscot_flow/lib/python3.11/site-packages/anndata/_core/anndata.py:1897: UserWarning: Observation names are not unique. To make them unique, call `.obs_names_make_unique`.\n",
      "  utils.warn_names_duplicates(\"obs\")\n",
      "/home/icb/jonas.flor/mambaforge/envs/moscot_flow/lib/python3.11/site-packages/anndata/_core/anndata.py:1897: UserWarning: Observation names are not unique. To make them unique, call `.obs_names_make_unique`.\n",
      "  utils.warn_names_duplicates(\"obs\")\n",
      "/home/icb/jonas.flor/mambaforge/envs/moscot_flow/lib/python3.11/site-packages/anndata/_core/anndata.py:1897: UserWarning: Observation names are not unique. To make them unique, call `.obs_names_make_unique`.\n",
      "  utils.warn_names_duplicates(\"obs\")\n"
     ]
    }
   ],
   "source": [
    "dataloaders = {}\n",
    "for day_ind in range(day_sort.shape[0]-1):\n",
    "        source, target = dataGenerator(adata, day_sort[day_ind], day_sort[day_ind+1], weights)\n",
    "        \n",
    "        dataloaders[day_sort[day_ind]] = OTDataLoader(\n",
    "            1024, \n",
    "            source_lin=source.obsm['X_emb'], \n",
    "            target_lin=target.obsm['X_emb'], \n",
    "            source_conditions=np.expand_dims(source.obs.day.values, axis=1)\n",
    "            )"
   ]
  },
  {
   "cell_type": "code",
   "execution_count": 114,
   "id": "ce2244f6-6ff1-4cde-96d1-23bea07427fb",
   "metadata": {},
   "outputs": [
    {
     "data": {
      "text/plain": [
       "AnnData object with n_obs × n_vars = 304 × 2000\n",
       "    obs: 'cell_id', 'keep', 'day', 'embryo_id', 'experimental_batch', 'batch', 'cell_cluster', 'celltype', 'cellcluster_moscot', '_scvi_batch', '_scvi_labels', 'dpt_pseudotime'\n",
       "    obsm: 'X_diffmap', 'X_emb'"
      ]
     },
     "execution_count": 114,
     "metadata": {},
     "output_type": "execute_result"
    }
   ],
   "source": [
    "#data_target = dataGeneration(data_target_prelim, weights_target)\n",
    "#need_adjustment = []\n",
    "#no_adjustment = []\n",
    "#for x in data_target_prelim.obs.cellcluster_moscot.values.unique():\n",
    "#    if x in weights_target['celltype'].values:\n",
    "#        need_adjustment.append(x)\n",
    "#    else:\n",
    "#        no_adjustment.append(x)\n",
    "#\n",
    "#adata_collection = [data_target_prelim[[x in no_adjustment for x in data_target_prelim.obs.cellcluster_moscot]]]\n",
    "#\n",
    "#for cluster in need_adjustment:\n",
    "#    data_cluster = data_target_prelim[data_target_prelim.obs.cellcluster_moscot==cluster]\n",
    "#    old_n_obs = data_cluster.n_obs\n",
    "#    obs_indices = np.random.choice(old_n_obs, size=int(old_n_obs*float(sum(Fraction(s) for s in weights_target.loc[weights_target['celltype']==cluster, 'weight'].values[0].split()))), replace=True)\n",
    "#    adata_collection.append(data_target_prelim[obs_indices])\n",
    "#data_target = ad.concat(adata_collection)\n",
    "target"
   ]
  },
  {
   "cell_type": "code",
   "execution_count": 17,
   "id": "aefde584-a707-47d7-9b58-4209305fb71c",
   "metadata": {},
   "outputs": [
    {
     "name": "stderr",
     "output_type": "stream",
     "text": [
      "/home/icb/jonas.flor/mambaforge/envs/moscot_flow/lib/python3.11/site-packages/anndata/_core/anndata.py:1897: UserWarning: Observation names are not unique. To make them unique, call `.obs_names_make_unique`.\n",
      "  utils.warn_names_duplicates(\"obs\")\n",
      "/home/icb/jonas.flor/mambaforge/envs/moscot_flow/lib/python3.11/site-packages/anndata/_core/anndata.py:1897: UserWarning: Observation names are not unique. To make them unique, call `.obs_names_make_unique`.\n",
      "  utils.warn_names_duplicates(\"obs\")\n"
     ]
    }
   ],
   "source": [
    "source, target = dataGenerator(adata, 8.75, 9.0, weights)"
   ]
  },
  {
   "cell_type": "code",
   "execution_count": 18,
   "id": "b3f7e79e-a940-4ea2-b865-a8a437345e1c",
   "metadata": {},
   "outputs": [
    {
     "data": {
      "text/plain": [
       "View of AnnData object with n_obs × n_vars = 32 × 2000\n",
       "    obs: 'cell_id', 'keep', 'day', 'embryo_id', 'experimental_batch', 'batch', 'cell_cluster', 'celltype', 'cellcluster_moscot', '_scvi_batch', '_scvi_labels', 'dpt_pseudotime'\n",
       "    uns: 'diffmap_evals', 'iroot', 'log1p', 'neighbors'\n",
       "    obsm: 'X_diffmap', 'X_emb'\n",
       "    obsp: 'connectivities', 'distances'"
      ]
     },
     "execution_count": 18,
     "metadata": {},
     "output_type": "execute_result"
    }
   ],
   "source": [
    "adata[adata.obs.day==8.75]"
   ]
  },
  {
   "cell_type": "code",
   "execution_count": 19,
   "id": "35546e52-ebc3-4851-bab7-f114f12b3af8",
   "metadata": {},
   "outputs": [
    {
     "data": {
      "text/plain": [
       "AnnData object with n_obs × n_vars = 32 × 2000\n",
       "    obs: 'cell_id', 'keep', 'day', 'embryo_id', 'experimental_batch', 'batch', 'cell_cluster', 'celltype', 'cellcluster_moscot', '_scvi_batch', '_scvi_labels', 'dpt_pseudotime'\n",
       "    obsm: 'X_diffmap', 'X_emb'"
      ]
     },
     "execution_count": 19,
     "metadata": {},
     "output_type": "execute_result"
    }
   ],
   "source": [
    "source"
   ]
  },
  {
   "cell_type": "code",
   "execution_count": 20,
   "id": "4258ab2f-0713-4960-bdda-1fafd960d7c4",
   "metadata": {},
   "outputs": [
    {
     "data": {
      "text/plain": [
       "View of AnnData object with n_obs × n_vars = 91 × 2000\n",
       "    obs: 'cell_id', 'keep', 'day', 'embryo_id', 'experimental_batch', 'batch', 'cell_cluster', 'celltype', 'cellcluster_moscot', '_scvi_batch', '_scvi_labels', 'dpt_pseudotime'\n",
       "    uns: 'diffmap_evals', 'iroot', 'log1p', 'neighbors'\n",
       "    obsm: 'X_diffmap', 'X_emb'\n",
       "    obsp: 'connectivities', 'distances'"
      ]
     },
     "execution_count": 20,
     "metadata": {},
     "output_type": "execute_result"
    }
   ],
   "source": [
    "adata[adata.obs.day==9.0]"
   ]
  },
  {
   "cell_type": "code",
   "execution_count": 21,
   "id": "ce343edb-473a-4371-a8b0-d72ba1f1a42a",
   "metadata": {},
   "outputs": [
    {
     "data": {
      "text/plain": [
       "AnnData object with n_obs × n_vars = 87 × 2000\n",
       "    obs: 'cell_id', 'keep', 'day', 'embryo_id', 'experimental_batch', 'batch', 'cell_cluster', 'celltype', 'cellcluster_moscot', '_scvi_batch', '_scvi_labels', 'dpt_pseudotime'\n",
       "    obsm: 'X_diffmap', 'X_emb'"
      ]
     },
     "execution_count": 21,
     "metadata": {},
     "output_type": "execute_result"
    }
   ],
   "source": [
    "target"
   ]
  },
  {
   "cell_type": "code",
   "execution_count": 75,
   "id": "df7b4ad7-e4d5-420b-aa80-2485d7853e77",
   "metadata": {},
   "outputs": [
    {
     "data": {
      "text/plain": [
       "array(['Mesoderm', 'Neuroectoderm_and_glia', 'Endothelium',\n",
       "       'Epithelial_cells', 'Neural_crest_PNS_glia', 'Primitive_erythroid',\n",
       "       'CNS_Neurons', 'Hepatocytes', 'Primordial_germ_cells',\n",
       "       'Neural_crest_PNS_neurons', 'Muscle_cells'], dtype=object)"
      ]
     },
     "execution_count": 75,
     "metadata": {},
     "output_type": "execute_result"
    }
   ],
   "source": [
    "weights_target['celltype'].values"
   ]
  }
 ],
 "metadata": {
  "kernelspec": {
   "display_name": "moscot_flow",
   "language": "python",
   "name": "moscot_flow"
  },
  "language_info": {
   "codemirror_mode": {
    "name": "ipython",
    "version": 3
   },
   "file_extension": ".py",
   "mimetype": "text/x-python",
   "name": "python",
   "nbconvert_exporter": "python",
   "pygments_lexer": "ipython3",
   "version": "3.11.6"
  }
 },
 "nbformat": 4,
 "nbformat_minor": 5
}
