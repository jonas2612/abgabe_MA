{
 "cells": [
  {
   "cell_type": "code",
   "execution_count": 1,
   "id": "1558063f-9b37-4430-b14d-105e41106474",
   "metadata": {},
   "outputs": [
    {
     "name": "stderr",
     "output_type": "stream",
     "text": [
      "/home/icb/jonas.flor/mambaforge/envs/scvi/lib/python3.11/site-packages/scvi/_settings.py:63: UserWarning: Since v1.0.0, scvi-tools no longer uses a random seed by default. Run `scvi.settings.seed = 0` to reproduce results from previous versions.\n",
      "  self.seed = seed\n",
      "/home/icb/jonas.flor/mambaforge/envs/scvi/lib/python3.11/site-packages/scvi/_settings.py:70: UserWarning: Setting `dl_pin_memory_gpu_training` is deprecated in v1.0 and will be removed in v1.1. Please pass in `pin_memory` to the data loaders instead.\n",
      "  self.dl_pin_memory_gpu_training = (\n"
     ]
    }
   ],
   "source": [
    "import scvi\n",
    "import scanpy as sc\n",
    "import numpy as np\n",
    "import pandas as pd\n",
    "import anndata as ad"
   ]
  },
  {
   "cell_type": "code",
   "execution_count": 68,
   "id": "6c40e6cc-41a2-422b-a324-7713590b48b9",
   "metadata": {},
   "outputs": [],
   "source": [
    "condition_key = 'embryo_id'\n",
    "label_key = 'cellcluster_moscot'\n",
    "adata = sc.read_h5ad(f'/lustre/groups/ml01/workspace/monge_velo/data/mouse_gastrulation_atlas/training/adata_500k.h5ad')\n",
    "obsp = adata.obsp\n",
    "highly_variable = adata.var_names"
   ]
  },
  {
   "cell_type": "code",
   "execution_count": 69,
   "id": "308d9921-8f74-4a28-be9d-925fd4de5e00",
   "metadata": {},
   "outputs": [],
   "source": [
    "adata_copy = adata.copy()\n",
    "sc.pp.normalize_total(adata_copy)\n",
    "sc.pp.log1p(adata_copy)\n",
    "sc.pp.highly_variable_genes(\n",
    "    adata_copy,\n",
    "    n_top_genes=2000,\n",
    "    batch_key=condition_key,\n",
    ")\n",
    "highly_variable = adata_copy.var[\"highly_variable\"]\n",
    "del adata_copy"
   ]
  },
  {
   "cell_type": "code",
   "execution_count": 70,
   "id": "f19b7c59-eb7a-4fce-9037-68eafff5739a",
   "metadata": {},
   "outputs": [],
   "source": [
    "adata._inplace_subset_var(highly_variable)\n",
    "var = adata.var"
   ]
  },
  {
   "cell_type": "code",
   "execution_count": 21,
   "id": "12542cc3-cb3b-4c42-881f-56cd86476652",
   "metadata": {},
   "outputs": [
    {
     "name": "stderr",
     "output_type": "stream",
     "text": [
      "/home/icb/jonas.flor/mambaforge/envs/scvi/lib/python3.11/site-packages/lightning/fabric/plugins/environments/slurm.py:168: PossibleUserWarning: The `srun` command is available on your system but is not used. HINT: If your intention is to run Lightning on SLURM, prepend your python command with `srun` like so: srun python /home/icb/jonas.flor/mambaforge/envs/scvi/lib/python ...\n",
      "  rank_zero_warn(\n",
      "GPU available: True (cuda), used: True\n",
      "TPU available: False, using: 0 TPU cores\n",
      "IPU available: False, using: 0 IPUs\n",
      "HPU available: False, using: 0 HPUs\n",
      "/home/icb/jonas.flor/mambaforge/envs/scvi/lib/python3.11/site-packages/lightning/fabric/plugins/environments/slurm.py:168: PossibleUserWarning: The `srun` command is available on your system but is not used. HINT: If your intention is to run Lightning on SLURM, prepend your python command with `srun` like so: srun python /home/icb/jonas.flor/mambaforge/envs/scvi/lib/python ...\n",
      "  rank_zero_warn(\n",
      "LOCAL_RANK: 0 - CUDA_VISIBLE_DEVICES: [MIG-7f7d366f-7513-5448-b61b-32bfe54672cc]\n"
     ]
    },
    {
     "name": "stdout",
     "output_type": "stream",
     "text": [
      "Epoch 400/400: 100%|███████████████████████████████████████████████████████████████████████████████████████████████████████████████████████████████████████████| 400/400 [05:14<00:00,  1.46it/s, v_num=1, train_loss_step=860, train_loss_epoch=836]"
     ]
    },
    {
     "name": "stderr",
     "output_type": "stream",
     "text": [
      "`Trainer.fit` stopped: `max_epochs=400` reached.\n"
     ]
    },
    {
     "name": "stdout",
     "output_type": "stream",
     "text": [
      "Epoch 400/400: 100%|███████████████████████████████████████████████████████████████████████████████████████████████████████████████████████████████████████████| 400/400 [05:14<00:00,  1.27it/s, v_num=1, train_loss_step=860, train_loss_epoch=836]\n"
     ]
    }
   ],
   "source": [
    "scvi.model.SCVI.setup_anndata(adata, batch_key=condition_key)\n",
    "vae = scvi.model.SCVI(adata)\n",
    "vae.train()"
   ]
  },
  {
   "cell_type": "code",
   "execution_count": 22,
   "id": "e182bdaf-37b0-465c-adcd-d50d7d9b95f1",
   "metadata": {},
   "outputs": [],
   "source": [
    "adata_int = ad.AnnData(vae.posterior_predictive_sample().to_scipy_sparse())\n",
    "adata_int.obs = adata.obs\n",
    "adata_int.var = adata.var\n",
    "adata_int.obsm[\"X_emb\"] = vae.get_latent_representation()"
   ]
  },
  {
   "cell_type": "code",
   "execution_count": 23,
   "id": "0704b06b-4948-470a-9b4f-b588156cea99",
   "metadata": {},
   "outputs": [],
   "source": [
    "adata_int.write('scvi_adata_default_param.h5ad')"
   ]
  },
  {
   "cell_type": "code",
   "execution_count": 25,
   "id": "f3a9af4c-2722-4981-85ca-e667972d0fd0",
   "metadata": {},
   "outputs": [
    {
     "data": {
      "text/plain": [
       "array([0.45612663, 0.5672042 , 1.6021448 , ..., 1.5625286 , 1.0140637 ,\n",
       "       1.4302133 ], dtype=float32)"
      ]
     },
     "execution_count": 25,
     "metadata": {},
     "output_type": "execute_result"
    }
   ],
   "source": [
    "np.var(adata_int.obsm[\"X_emb\"], axis=1)"
   ]
  },
  {
   "cell_type": "markdown",
   "id": "374cb6c0-66ac-450b-ad1c-cbdddd2c25ea",
   "metadata": {},
   "source": [
    "# increase number of nodes/layer (double)"
   ]
  },
  {
   "cell_type": "code",
   "execution_count": 82,
   "id": "e0a184ee-6b60-423a-aa46-ff51d55cd81a",
   "metadata": {},
   "outputs": [
    {
     "name": "stderr",
     "output_type": "stream",
     "text": [
      "/home/icb/jonas.flor/mambaforge/envs/scvi/lib/python3.11/site-packages/lightning/fabric/plugins/environments/slurm.py:168: PossibleUserWarning: The `srun` command is available on your system but is not used. HINT: If your intention is to run Lightning on SLURM, prepend your python command with `srun` like so: srun python /home/icb/jonas.flor/mambaforge/envs/scvi/lib/python ...\n",
      "  rank_zero_warn(\n",
      "GPU available: True (cuda), used: True\n",
      "TPU available: False, using: 0 TPU cores\n",
      "IPU available: False, using: 0 IPUs\n",
      "HPU available: False, using: 0 HPUs\n",
      "/home/icb/jonas.flor/mambaforge/envs/scvi/lib/python3.11/site-packages/lightning/fabric/plugins/environments/slurm.py:168: PossibleUserWarning: The `srun` command is available on your system but is not used. HINT: If your intention is to run Lightning on SLURM, prepend your python command with `srun` like so: srun python /home/icb/jonas.flor/mambaforge/envs/scvi/lib/python ...\n",
      "  rank_zero_warn(\n",
      "LOCAL_RANK: 0 - CUDA_VISIBLE_DEVICES: [MIG-7f7d366f-7513-5448-b61b-32bfe54672cc]\n"
     ]
    },
    {
     "name": "stdout",
     "output_type": "stream",
     "text": [
      "Epoch 16/16: 100%|███████████████████████████████████████████████████████████████████████████████████████████████████████████████████████████████████████████████| 16/16 [14:32<00:00, 53.61s/it, v_num=1, train_loss_step=603, train_loss_epoch=611]"
     ]
    },
    {
     "name": "stderr",
     "output_type": "stream",
     "text": [
      "`Trainer.fit` stopped: `max_epochs=16` reached.\n"
     ]
    },
    {
     "name": "stdout",
     "output_type": "stream",
     "text": [
      "Epoch 16/16: 100%|███████████████████████████████████████████████████████████████████████████████████████████████████████████████████████████████████████████████| 16/16 [14:32<00:00, 54.55s/it, v_num=1, train_loss_step=603, train_loss_epoch=611]\n"
     ]
    }
   ],
   "source": [
    "scvi.model.SCVI.setup_anndata(adata, batch_key=condition_key)\n",
    "vae = scvi.model.SCVI(adata, n_hidden=4096, n_latent=50)\n",
    "vae.train()"
   ]
  },
  {
   "cell_type": "code",
   "execution_count": 83,
   "id": "df5631ce-26c4-4ab0-970f-c49c56751db5",
   "metadata": {},
   "outputs": [],
   "source": [
    "adata_int_2 = ad.AnnData(vae.posterior_predictive_sample().to_scipy_sparse())\n",
    "adata_int_2.obs = adata.obs\n",
    "adata_int_2.var = adata.var\n",
    "adata_int_2.obsm[\"X_emb\"] = vae.get_latent_representation()"
   ]
  },
  {
   "cell_type": "code",
   "execution_count": 84,
   "id": "10695013-b638-4e78-969a-ab6443997ae9",
   "metadata": {},
   "outputs": [
    {
     "data": {
      "text/plain": [
       "array([1.2077645 , 0.5628029 , 1.3952457 , ..., 1.950102  , 1.5745648 ,\n",
       "       0.71195626], dtype=float32)"
      ]
     },
     "execution_count": 84,
     "metadata": {},
     "output_type": "execute_result"
    }
   ],
   "source": [
    "np.var(adata_int_2.obsm[\"X_emb\"], axis=1)"
   ]
  },
  {
   "cell_type": "code",
   "execution_count": 85,
   "id": "2ef02958-9355-40a7-ba2e-dedbe9ec664d",
   "metadata": {},
   "outputs": [],
   "source": [
    "adata_int_2.write('scvi_adata_32x_hidden_500k.h5ad')"
   ]
  },
  {
   "cell_type": "markdown",
   "id": "1eb36bae-0df6-4d63-a224-74d900b8321f",
   "metadata": {},
   "source": [
    "# increase layers"
   ]
  },
  {
   "cell_type": "code",
   "execution_count": 44,
   "id": "84811b35-e256-4081-9979-bfbecd04428c",
   "metadata": {},
   "outputs": [
    {
     "name": "stderr",
     "output_type": "stream",
     "text": [
      "/home/icb/jonas.flor/mambaforge/envs/scvi/lib/python3.11/site-packages/lightning/fabric/plugins/environments/slurm.py:168: PossibleUserWarning: The `srun` command is available on your system but is not used. HINT: If your intention is to run Lightning on SLURM, prepend your python command with `srun` like so: srun python /home/icb/jonas.flor/mambaforge/envs/scvi/lib/python ...\n",
      "  rank_zero_warn(\n",
      "GPU available: True (cuda), used: True\n",
      "TPU available: False, using: 0 TPU cores\n",
      "IPU available: False, using: 0 IPUs\n",
      "HPU available: False, using: 0 HPUs\n",
      "/home/icb/jonas.flor/mambaforge/envs/scvi/lib/python3.11/site-packages/lightning/fabric/plugins/environments/slurm.py:168: PossibleUserWarning: The `srun` command is available on your system but is not used. HINT: If your intention is to run Lightning on SLURM, prepend your python command with `srun` like so: srun python /home/icb/jonas.flor/mambaforge/envs/scvi/lib/python ...\n",
      "  rank_zero_warn(\n",
      "LOCAL_RANK: 0 - CUDA_VISIBLE_DEVICES: [MIG-7f7d366f-7513-5448-b61b-32bfe54672cc]\n"
     ]
    },
    {
     "name": "stdout",
     "output_type": "stream",
     "text": [
      "Epoch 400/400: 100%|███████████████████████████████████████████████████████████████████████████████████████████████████████████████████████████████████████████| 400/400 [06:38<00:00,  1.21it/s, v_num=1, train_loss_step=770, train_loss_epoch=821]"
     ]
    },
    {
     "name": "stderr",
     "output_type": "stream",
     "text": [
      "`Trainer.fit` stopped: `max_epochs=400` reached.\n"
     ]
    },
    {
     "name": "stdout",
     "output_type": "stream",
     "text": [
      "Epoch 400/400: 100%|███████████████████████████████████████████████████████████████████████████████████████████████████████████████████████████████████████████| 400/400 [06:38<00:00,  1.00it/s, v_num=1, train_loss_step=770, train_loss_epoch=821]\n"
     ]
    }
   ],
   "source": [
    "scvi.model.SCVI.setup_anndata(adata, batch_key=condition_key)\n",
    "vae = scvi.model.SCVI(adata, n_layers=4, n_latent=50)\n",
    "vae.train()"
   ]
  },
  {
   "cell_type": "code",
   "execution_count": 45,
   "id": "0f751616-beef-4e99-9882-0e17c16f5136",
   "metadata": {},
   "outputs": [],
   "source": [
    "adata_int_3 = ad.AnnData(vae.posterior_predictive_sample().to_scipy_sparse())\n",
    "adata_int_3.obs = adata.obs\n",
    "adata_int_3.var = adata.var\n",
    "adata_int_3.obsm[\"X_emb\"] = vae.get_latent_representation()"
   ]
  },
  {
   "cell_type": "code",
   "execution_count": 46,
   "id": "f9d0fa6a-42d6-41ba-a1f7-693437a0fb8c",
   "metadata": {},
   "outputs": [
    {
     "data": {
      "text/plain": [
       "array([0.15621844, 0.06291452, 0.1715981 , ..., 0.12979366, 0.20669822,\n",
       "       0.16187137], dtype=float32)"
      ]
     },
     "execution_count": 46,
     "metadata": {},
     "output_type": "execute_result"
    }
   ],
   "source": [
    "np.var(adata_int_3.obsm[\"X_emb\"], axis=1)"
   ]
  },
  {
   "cell_type": "code",
   "execution_count": 43,
   "id": "9bdeaa09-0071-43be-93ed-71fbde468a4e",
   "metadata": {},
   "outputs": [],
   "source": [
    "adata_int_3.write('scvi_adata_2x_layers.h5ad')"
   ]
  },
  {
   "cell_type": "markdown",
   "id": "87143816-8dd6-4a13-a327-b610c02209d9",
   "metadata": {},
   "source": [
    "# quick transfer"
   ]
  },
  {
   "cell_type": "code",
   "execution_count": 2,
   "id": "bf4bec24-d723-4ff5-8df0-f40a9d9857a3",
   "metadata": {},
   "outputs": [
    {
     "data": {
      "text/plain": [
       "AnnData object with n_obs × n_vars = 600000 × 24552\n",
       "    obs: 'cell_id', 'keep', 'day', 'embryo_id', 'experimental_batch', 'batch', 'cell_cluster', 'celltype', 'cellcluster_moscot', '_scvi_batch', '_scvi_labels'\n",
       "    uns: '_scvi_manager_uuid', '_scvi_uuid'\n",
       "    obsm: 'X_pca'"
      ]
     },
     "execution_count": 2,
     "metadata": {},
     "output_type": "execute_result"
    }
   ],
   "source": [
    "adata_un = sc.read_h5ad('/home/icb/jonas.flor/gastrulation_atlas/scvi/training/500k/all_genes/unintegrated_adata_fixed.h5ad')\n",
    "adata_un"
   ]
  },
  {
   "cell_type": "code",
   "execution_count": 3,
   "id": "1edc7296-1427-4a99-beed-20d5dd93de3c",
   "metadata": {},
   "outputs": [
    {
     "name": "stdout",
     "output_type": "stream",
     "text": [
      "\u001b[34mINFO    \u001b[0m File \u001b[35m/home/icb/jonas.flor/gastrulation_atlas/scvi/training/500k/all_genes/\u001b[0m\u001b[95mmodel.pt\u001b[0m already downloaded     \n"
     ]
    },
    {
     "name": "stderr",
     "output_type": "stream",
     "text": [
      "/home/icb/jonas.flor/mambaforge/envs/scvi/lib/python3.11/site-packages/lightning/fabric/plugins/environments/slurm.py:168: PossibleUserWarning: The `srun` command is available on your system but is not used. HINT: If your intention is to run Lightning on SLURM, prepend your python command with `srun` like so: srun python /home/icb/jonas.flor/mambaforge/envs/scvi/lib/python ...\n",
      "  rank_zero_warn(\n",
      "WARNING: All log messages before absl::InitializeLog() is called are written to STDERR\n",
      "I0000 00:00:1702374495.171838 3979100 tfrt_cpu_pjrt_client.cc:349] TfrtCpuClient created.\n"
     ]
    }
   ],
   "source": [
    "vae = scvi.model.SCVI.load(dir_path='/home/icb/jonas.flor/gastrulation_atlas/scvi/training/500k/all_genes', adata=adata_un)"
   ]
  },
  {
   "cell_type": "code",
   "execution_count": 5,
   "id": "f273157e-0c43-4477-ad39-0712302b1ea6",
   "metadata": {},
   "outputs": [],
   "source": [
    "adata_int = ad.AnnData(vae.posterior_predictive_sample().to_scipy_sparse())\n",
    "adata_int.obs = adata_un.obs\n",
    "adata_int.var = adata_un.var\n",
    "adata_int.obsm[\"X_emb\"] = vae.get_latent_representation()\n",
    "adata_int.write('500k_example.h5ad')"
   ]
  },
  {
   "cell_type": "code",
   "execution_count": null,
   "id": "71ec9d07-39d6-4513-98f9-7afce17b8156",
   "metadata": {},
   "outputs": [],
   "source": []
  }
 ],
 "metadata": {
  "kernelspec": {
   "display_name": "scvi",
   "language": "python",
   "name": "scvi"
  },
  "language_info": {
   "codemirror_mode": {
    "name": "ipython",
    "version": 3
   },
   "file_extension": ".py",
   "mimetype": "text/x-python",
   "name": "python",
   "nbconvert_exporter": "python",
   "pygments_lexer": "ipython3",
   "version": "3.11.5"
  }
 },
 "nbformat": 4,
 "nbformat_minor": 5
}
