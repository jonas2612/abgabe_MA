{
 "cells": [
  {
   "cell_type": "code",
   "execution_count": 1,
   "id": "fb65b778-e827-413b-acf5-725e77a78f4b",
   "metadata": {},
   "outputs": [],
   "source": [
    "from scanpy import read_h5ad\n",
    "import numpy as np\n",
    "import pandas as pd"
   ]
  },
  {
   "cell_type": "code",
   "execution_count": 2,
   "id": "7e460952-658a-47cb-a693-3d10bdfef119",
   "metadata": {},
   "outputs": [],
   "source": [
    "data = ['2/1024', '2/4096', '2/2048', '2/8192', '1/2048', '1/4096', '1/8192']\n",
    "genes = ['2k_genes', '10k_genes', 'all_genes']"
   ]
  },
  {
   "cell_type": "code",
   "execution_count": 3,
   "id": "557587f1-ae02-4811-9d7d-dbbb91924876",
   "metadata": {},
   "outputs": [
    {
     "data": {
      "text/plain": [
       "{'2k_genes/2/1024': array([0.17129153, 0.17291853, 0.20510587, ..., 0.49915227, 0.20681863,\n",
       "        0.42730606], dtype=float32),\n",
       " '10k_genes/2/1024': array([0.28280532, 0.28934705, 0.4031991 , ..., 0.55234545, 0.3210329 ,\n",
       "        0.57437116], dtype=float32),\n",
       " 'all_genes/2/1024': array([0.39672473, 0.35799667, 0.5369827 , ..., 0.6301811 , 0.380332  ,\n",
       "        0.64655375], dtype=float32),\n",
       " '2k_genes/2/4096': array([0.24013872, 0.26892176, 0.4683887 , ..., 0.71776634, 0.3204735 ,\n",
       "        0.7222618 ], dtype=float32),\n",
       " '10k_genes/2/4096': array([0.4064504 , 0.56482905, 0.7619857 , ..., 0.8571677 , 0.5660529 ,\n",
       "        1.0698626 ], dtype=float32),\n",
       " '2k_genes/2/2048': array([0.22276655, 0.16653982, 0.2656655 , ..., 0.56728196, 0.1883474 ,\n",
       "        0.45504302], dtype=float32),\n",
       " '10k_genes/2/2048': array([0.3778387 , 0.38137427, 0.56980234, ..., 0.6315641 , 0.36627743,\n",
       "        0.6894566 ], dtype=float32),\n",
       " 'all_genes/2/2048': array([0.38980523, 0.45087364, 0.64243287, ..., 0.6839655 , 0.41910398,\n",
       "        0.71315306], dtype=float32),\n",
       " '2k_genes/2/8192': array([0.56021595, 0.5291113 , 0.6606161 , ..., 1.0296992 , 0.562084  ,\n",
       "        1.1823435 ], dtype=float32),\n",
       " '10k_genes/2/8192': array([0.46409744, 0.64871573, 0.78797317, ..., 1.0681401 , 0.73353773,\n",
       "        1.0429084 ], dtype=float32),\n",
       " 'all_genes/2/8192': array([0.5423048 , 0.6578844 , 0.83049494, ..., 1.2021791 , 0.6140771 ,\n",
       "        1.0254042 ], dtype=float32),\n",
       " '2k_genes/1/2048': array([0.19469643, 0.1860586 , 0.34168184, ..., 0.5697277 , 0.269163  ,\n",
       "        0.5552636 ], dtype=float32),\n",
       " '10k_genes/1/2048': array([0.3753575 , 0.4120057 , 0.78286195, ..., 0.8800465 , 0.42191666,\n",
       "        0.9724243 ], dtype=float32),\n",
       " 'all_genes/1/2048': array([0.4839553 , 0.43424335, 0.7638496 , ..., 1.0288445 , 0.41699955,\n",
       "        1.0071383 ], dtype=float32),\n",
       " '2k_genes/1/4096': array([0.23809291, 0.20909002, 0.37753844, ..., 0.6751354 , 0.2950117 ,\n",
       "        0.6986338 ], dtype=float32),\n",
       " '10k_genes/1/4096': array([0.42773497, 0.47005394, 0.90125227, ..., 0.95804596, 0.37748587,\n",
       "        1.0209584 ], dtype=float32),\n",
       " 'all_genes/1/4096': array([0.4991853 , 0.59511995, 0.96125174, ..., 1.0792106 , 0.43664846,\n",
       "        1.0897973 ], dtype=float32),\n",
       " '2k_genes/1/8192': array([0.34782836, 0.31298593, 0.5303848 , ..., 0.9459725 , 0.33845672,\n",
       "        1.1290157 ], dtype=float32)}"
      ]
     },
     "execution_count": 3,
     "metadata": {},
     "output_type": "execute_result"
    }
   ],
   "source": [
    "vars = {}\n",
    "for d in data:\n",
    "    for g in genes:\n",
    "        try:\n",
    "            path = f'/home/icb/jonas.flor/gastrulation_atlas/scvi/training/1M/{g}/{d}/integrated_adata.h5ad'\n",
    "            vars[f'{g}/{d}'] = np.var(read_h5ad(path).obsm['X_emb'], axis=1)\n",
    "        except FileNotFoundError:\n",
    "            pass\n",
    "vars"
   ]
  },
  {
   "cell_type": "code",
   "execution_count": 4,
   "id": "0150c824-4362-4796-bc3a-593f7480a76f",
   "metadata": {},
   "outputs": [],
   "source": [
    "models = pd.DataFrame(data=vars).to_csv('/home/icb/jonas.flor/gastrulation_atlas/scvi/training/variances_1M.csv')\n",
    "models"
   ]
  },
  {
   "cell_type": "code",
   "execution_count": 5,
   "id": "dbcf981a-1e91-4052-b91e-d12b2a0af702",
   "metadata": {},
   "outputs": [
    {
     "ename": "AttributeError",
     "evalue": "'NoneType' object has no attribute 'max'",
     "output_type": "error",
     "traceback": [
      "\u001b[0;31m---------------------------------------------------------------------------\u001b[0m",
      "\u001b[0;31mAttributeError\u001b[0m                            Traceback (most recent call last)",
      "Cell \u001b[0;32mIn[5], line 1\u001b[0m\n\u001b[0;32m----> 1\u001b[0m models\u001b[38;5;241m.\u001b[39mmax(axis\u001b[38;5;241m=\u001b[39m\u001b[38;5;241m0\u001b[39m)\n",
      "\u001b[0;31mAttributeError\u001b[0m: 'NoneType' object has no attribute 'max'"
     ]
    }
   ],
   "source": [
    "models.max(axis=0)"
   ]
  },
  {
   "cell_type": "code",
   "execution_count": null,
   "id": "6474837c-9c81-41bc-b925-c9bef586ea05",
   "metadata": {},
   "outputs": [],
   "source": [
    "models.min(axis=0)"
   ]
  },
  {
   "cell_type": "code",
   "execution_count": null,
   "id": "1e0a5a60-66f5-4e2d-a7f1-ff314a4a4c8e",
   "metadata": {},
   "outputs": [],
   "source": [
    "pd.DataFrame(data=vars).to_csv('/home/icb/jonas.flor/gastrulation_atlas/scvi/training/variances_1M.csv')"
   ]
  }
 ],
 "metadata": {
  "kernelspec": {
   "display_name": "scvi",
   "language": "python",
   "name": "scvi"
  },
  "language_info": {
   "codemirror_mode": {
    "name": "ipython",
    "version": 3
   },
   "file_extension": ".py",
   "mimetype": "text/x-python",
   "name": "python",
   "nbconvert_exporter": "python",
   "pygments_lexer": "ipython3",
   "version": "3.11.5"
  }
 },
 "nbformat": 4,
 "nbformat_minor": 5
}
