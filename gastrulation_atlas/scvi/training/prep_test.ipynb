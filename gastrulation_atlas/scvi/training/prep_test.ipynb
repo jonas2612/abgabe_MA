{
 "cells": [
  {
   "cell_type": "code",
   "execution_count": 1,
   "id": "e6065532-b1fb-4bb0-bbf1-8e9b2cd46bcd",
   "metadata": {},
   "outputs": [],
   "source": [
    "import numpy as np\n",
    "import pandas as pd\n",
    "\n",
    "import scanpy\n",
    "import anndata as ad\n",
    "\n",
    "import dask\n",
    "import dask.array as da\n",
    "\n",
    "from dask_ml.decomposition import IncrementalPCA\n",
    "from multiprocessing.pool import ThreadPool\n",
    "from scipy.sparse import csr_matrix\n",
    "\n",
    "import scanpy as sc"
   ]
  },
  {
   "cell_type": "code",
   "execution_count": 9,
   "id": "73ae8a27-d336-4e95-bfb7-ef4d34e02b7e",
   "metadata": {},
   "outputs": [
    {
     "data": {
      "text/plain": [
       "AnnData object with n_obs × n_vars = 500000 × 24552 backed at '/home/icb/jonas.flor/gastrulation_atlas/scvi/training/500k/adata_without_22.h5ad'\n",
       "    obs: 'cell_id', 'keep', 'day', 'embryo_id', 'experimental_batch', 'batch', 'cell_cluster', 'celltype', 'cellcluster_moscot'"
      ]
     },
     "execution_count": 9,
     "metadata": {},
     "output_type": "execute_result"
    }
   ],
   "source": [
    "sc.read(f'/home/icb/jonas.flor/gastrulation_atlas/scvi/training/500k/adata_without_22.h5ad', backed='r')"
   ]
  },
  {
   "cell_type": "code",
   "execution_count": 12,
   "id": "e63a1ece-7ce6-45a6-9542-84c78827b1a1",
   "metadata": {},
   "outputs": [
    {
     "data": {
      "text/plain": [
       "AnnData object with n_obs × n_vars = 500000 × 24552 backed at '/home/icb/jonas.flor/gastrulation_atlas/scvi/training/500k/10k_genes/unintegrated_adata.h5ad'\n",
       "    obs: 'cell_id', 'keep', 'day', 'embryo_id', 'experimental_batch', 'batch', 'cell_cluster', 'celltype', 'cellcluster_moscot', '_scvi_batch', '_scvi_labels'\n",
       "    uns: '_scvi_manager_uuid', '_scvi_uuid'\n",
       "    layers: 'counts'"
      ]
     },
     "execution_count": 12,
     "metadata": {},
     "output_type": "execute_result"
    }
   ],
   "source": [
    "sc.read(f'/home/icb/jonas.flor/gastrulation_atlas/scvi/training/500k/10k_genes/unintegrated_adata.h5ad', backed='r')"
   ]
  },
  {
   "cell_type": "code",
   "execution_count": 2,
   "id": "957a7029-b51c-4241-9ec7-f334ac207f7a",
   "metadata": {},
   "outputs": [],
   "source": [
    "dask.config.set(pool=ThreadPool(1))\n",
    "\n",
    "data = sc.read(f'/home/icb/jonas.flor/gastrulation_atlas/scvi/training/500k/all_genes/unintegrated_adata.h5ad', backed='r').X\n",
    "batch_size = 10000\n",
    "\n",
    "def read_X(data, pos):\n",
    "    return data[pos:min(pos+batch_size, data.shape[0]), :].toarray()\n",
    "\n",
    "X = da.concatenate([da.from_delayed(dask.delayed(read_X)(data, pos), (batch_size, data.shape[1]), dtype='f4') for pos in range(0, data.shape[0], batch_size)])\n",
    "X.map_blocks(csr_matrix).persist().rechunk((8192, -1))\n",
    "del data"
   ]
  },
  {
   "cell_type": "code",
   "execution_count": 3,
   "id": "0bad1c5d-280d-4f65-81f4-873e99cd90b6",
   "metadata": {},
   "outputs": [
    {
     "data": {
      "text/plain": [
       "AnnData object with n_obs × n_vars = 500000 × 24552\n",
       "    obs: 'cell_id', 'keep', 'day', 'embryo_id', 'experimental_batch', 'batch', 'cell_cluster', 'celltype', 'cellcluster_moscot', '_scvi_batch', '_scvi_labels'\n",
       "    uns: '_scvi_manager_uuid', '_scvi_uuid'\n",
       "    layers: 'counts'"
      ]
     },
     "execution_count": 3,
     "metadata": {},
     "output_type": "execute_result"
    }
   ],
   "source": [
    "meta = sc.read(f'/home/icb/jonas.flor/gastrulation_atlas/scvi/training/500k/all_genes/unintegrated_adata.h5ad', backed='r')\n",
    "\n",
    "adata = ad.AnnData(X)\n",
    "del X\n",
    "\n",
    "adata.obs = meta.obs\n",
    "adata.obsm = meta.obsm\n",
    "adata.layers = meta.layers\n",
    "adata.uns = meta.uns\n",
    "del meta\n",
    "\n",
    "adata"
   ]
  },
  {
   "cell_type": "code",
   "execution_count": 4,
   "id": "b8f4e1d6-590f-42ce-a0f3-b771047c34ba",
   "metadata": {},
   "outputs": [
    {
     "name": "stderr",
     "output_type": "stream",
     "text": [
      "/home/icb/jonas.flor/mambaforge/envs/atlas_pca/lib/python3.10/site-packages/dask/core.py:121: RuntimeWarning: invalid value encountered in divide\n",
      "  return func(*(_execute_task(a, cache) for a in args))\n"
     ]
    }
   ],
   "source": [
    "dask.config.set(pool=ThreadPool(30))\n",
    "n_comps = 50\n",
    "pca = IncrementalPCA(n_components=n_comps, iterated_power=3)\n",
    "pca = da.compute(pca.fit_transform(adata.X))"
   ]
  },
  {
   "cell_type": "code",
   "execution_count": 5,
   "id": "be68aa69-2c50-496d-b1c8-f4af1a880841",
   "metadata": {},
   "outputs": [
    {
     "data": {
      "text/plain": [
       "AnnData object with n_obs × n_vars = 500000 × 24552\n",
       "    obs: 'cell_id', 'keep', 'day', 'embryo_id', 'experimental_batch', 'batch', 'cell_cluster', 'celltype', 'cellcluster_moscot', '_scvi_batch', '_scvi_labels'\n",
       "    uns: '_scvi_manager_uuid', '_scvi_uuid'\n",
       "    obsm: 'X_pca'\n",
       "    layers: 'counts'"
      ]
     },
     "execution_count": 5,
     "metadata": {},
     "output_type": "execute_result"
    }
   ],
   "source": [
    "adata.obsm['X_pca'] = pca[0]\n",
    "del pca\n",
    "adata"
   ]
  },
  {
   "cell_type": "code",
   "execution_count": 6,
   "id": "843f9e9e-16bb-4e31-8b79-54dc3a0e5a8f",
   "metadata": {},
   "outputs": [
    {
     "name": "stderr",
     "output_type": "stream",
     "text": [
      "/home/icb/jonas.flor/mambaforge/envs/atlas_pca/lib/python3.10/site-packages/umap/distances.py:1063: NumbaDeprecationWarning: The 'nopython' keyword argument was not supplied to the 'numba.jit' decorator. The implicit default value for this argument is currently False, but it will be changed to True in Numba 0.59.0. See https://numba.readthedocs.io/en/stable/reference/deprecation.html#deprecation-of-object-mode-fall-back-behaviour-when-using-jit for details.\n",
      "  @numba.jit()\n",
      "/home/icb/jonas.flor/mambaforge/envs/atlas_pca/lib/python3.10/site-packages/umap/distances.py:1071: NumbaDeprecationWarning: The 'nopython' keyword argument was not supplied to the 'numba.jit' decorator. The implicit default value for this argument is currently False, but it will be changed to True in Numba 0.59.0. See https://numba.readthedocs.io/en/stable/reference/deprecation.html#deprecation-of-object-mode-fall-back-behaviour-when-using-jit for details.\n",
      "  @numba.jit()\n",
      "/home/icb/jonas.flor/mambaforge/envs/atlas_pca/lib/python3.10/site-packages/umap/distances.py:1086: NumbaDeprecationWarning: The 'nopython' keyword argument was not supplied to the 'numba.jit' decorator. The implicit default value for this argument is currently False, but it will be changed to True in Numba 0.59.0. See https://numba.readthedocs.io/en/stable/reference/deprecation.html#deprecation-of-object-mode-fall-back-behaviour-when-using-jit for details.\n",
      "  @numba.jit()\n",
      "/home/icb/jonas.flor/mambaforge/envs/atlas_pca/lib/python3.10/site-packages/tqdm/auto.py:21: TqdmWarning: IProgress not found. Please update jupyter and ipywidgets. See https://ipywidgets.readthedocs.io/en/stable/user_install.html\n",
      "  from .autonotebook import tqdm as notebook_tqdm\n",
      "/home/icb/jonas.flor/mambaforge/envs/atlas_pca/lib/python3.10/site-packages/umap/umap_.py:660: NumbaDeprecationWarning: The 'nopython' keyword argument was not supplied to the 'numba.jit' decorator. The implicit default value for this argument is currently False, but it will be changed to True in Numba 0.59.0. See https://numba.readthedocs.io/en/stable/reference/deprecation.html#deprecation-of-object-mode-fall-back-behaviour-when-using-jit for details.\n",
      "  @numba.jit()\n"
     ]
    },
    {
     "data": {
      "text/plain": [
       "AnnData object with n_obs × n_vars = 500000 × 24552\n",
       "    obs: 'cell_id', 'keep', 'day', 'embryo_id', 'experimental_batch', 'batch', 'cell_cluster', 'celltype', 'cellcluster_moscot', '_scvi_batch', '_scvi_labels'\n",
       "    uns: '_scvi_manager_uuid', '_scvi_uuid', 'neighbors'\n",
       "    obsm: 'X_pca'\n",
       "    layers: 'counts'\n",
       "    obsp: 'distances', 'connectivities'"
      ]
     },
     "execution_count": 6,
     "metadata": {},
     "output_type": "execute_result"
    }
   ],
   "source": [
    "sc.pp.neighbors(adata)\n",
    "adata.obs.day = [float(x[1:]) for x in adata.obs.day]\n",
    "adata"
   ]
  },
  {
   "cell_type": "code",
   "execution_count": null,
   "id": "41f08b63-b325-45cd-840d-f8184e090bb6",
   "metadata": {},
   "outputs": [],
   "source": []
  }
 ],
 "metadata": {
  "kernelspec": {
   "display_name": "atlas_pca",
   "language": "python",
   "name": "atlas_pca"
  },
  "language_info": {
   "codemirror_mode": {
    "name": "ipython",
    "version": 3
   },
   "file_extension": ".py",
   "mimetype": "text/x-python",
   "name": "python",
   "nbconvert_exporter": "python",
   "pygments_lexer": "ipython3",
   "version": "3.10.12"
  }
 },
 "nbformat": 4,
 "nbformat_minor": 5
}
