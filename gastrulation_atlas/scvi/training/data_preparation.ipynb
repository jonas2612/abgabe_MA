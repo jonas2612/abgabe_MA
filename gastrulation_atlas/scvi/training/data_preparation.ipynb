{
 "cells": [
  {
   "cell_type": "code",
   "execution_count": 11,
   "id": "99995548-30b8-4e75-b74b-9ce74febae7b",
   "metadata": {},
   "outputs": [],
   "source": [
    "import scvi\n",
    "from scipy.sparse import vstack, csr_matrix\n",
    "import scanpy as sc\n",
    "import anndata as ad"
   ]
  },
  {
   "cell_type": "code",
   "execution_count": 2,
   "id": "faf84430-ea5b-4650-85a0-4e70b4d4c627",
   "metadata": {},
   "outputs": [],
   "source": [
    "adata_path = '/home/icb/jonas.flor/gastrulation_atlas/scvi/training/10k/all_genes'\n",
    "step = 1000"
   ]
  },
  {
   "cell_type": "code",
   "execution_count": 4,
   "id": "6dba0b84-c1aa-4f39-927d-437922b551e7",
   "metadata": {},
   "outputs": [
    {
     "name": "stdout",
     "output_type": "stream",
     "text": [
      "\u001b[34mINFO    \u001b[0m File \u001b[35m/home/icb/jonas.flor/gastrulation_atlas/scvi/training/10k/all_genes/\u001b[0m\u001b[95mmodel.pt\u001b[0m already downloaded      \n"
     ]
    },
    {
     "name": "stderr",
     "output_type": "stream",
     "text": [
      "/home/icb/jonas.flor/mambaforge/envs/scvi/lib/python3.11/site-packages/lightning/fabric/plugins/environments/slurm.py:168: PossibleUserWarning: The `srun` command is available on your system but is not used. HINT: If your intention is to run Lightning on SLURM, prepend your python command with `srun` like so: srun python /home/icb/jonas.flor/mambaforge/envs/scvi/lib/python ...\n",
      "  rank_zero_warn(\n",
      "WARNING: All log messages before absl::InitializeLog() is called are written to STDERR\n",
      "I0000 00:00:1698139962.221572  524087 tfrt_cpu_pjrt_client.cc:349] TfrtCpuClient created.\n",
      "No GPU/TPU found, falling back to CPU. (Set TF_CPP_MIN_LOG_LEVEL=0 and rerun for more info.)\n",
      "/home/icb/jonas.flor/mambaforge/envs/scvi/lib/python3.11/site-packages/scvi/data/fields/_dataframe_field.py:227: UserWarning: Category 5 in adata.obs['_scvi_batch'] has fewer than 3 cells. Models may not train properly.\n",
      "  new_mapping = _make_column_categorical(\n"
     ]
    }
   ],
   "source": [
    "adata = sc.read(f'{adata_path}/unintegrated_adata.h5ad', backed='r')\n",
    "vae = scvi.model.SCVI.load(dir_path=adata_path, adata=adata)"
   ]
  },
  {
   "cell_type": "code",
   "execution_count": 8,
   "id": "234ec775-85ed-4d25-a735-4093ac9fea9e",
   "metadata": {},
   "outputs": [
    {
     "data": {
      "text/plain": [
       "<1000x24552 sparse matrix of type '<class 'numpy.float64'>'\n",
       "\twith 0 stored elements in Compressed Sparse Row format>"
      ]
     },
     "execution_count": 8,
     "metadata": {},
     "output_type": "execute_result"
    }
   ],
   "source": [
    "X = vae.get_normalized_expression(indices = list(range(0,min(step, adata.n_obs)))).clip(lower=.1)\n",
    "X[X<=0.1] = 0\n",
    "X = csr_matrix(X)\n",
    "X"
   ]
  },
  {
   "cell_type": "code",
   "execution_count": null,
   "id": "2fb2d59c-1dee-4a9d-97f0-01328ac519b5",
   "metadata": {},
   "outputs": [],
   "source": [
    "for i in range(min(step, adata.n_obs), adata.n_obs, step):\n",
    "    Y = vae.get_normalized_expression(indices = range(i, min(i+step,adata.n_obs))).clip(lower=.1)\n",
    "    Y[Y<=0.1] = 0\n",
    "    Y = csr_matrix(Y)\n",
    "    X = vstack([X, Y])"
   ]
  },
  {
   "cell_type": "code",
   "execution_count": 12,
   "id": "33d8e2b9-f4f7-403a-9ecb-43fb026d9596",
   "metadata": {},
   "outputs": [],
   "source": [
    "adata_int = ad.AnnData(X)\n",
    "del X, Y"
   ]
  },
  {
   "cell_type": "code",
   "execution_count": 13,
   "id": "04026efb-71a3-4391-b4d5-f4f79ddfa5d0",
   "metadata": {},
   "outputs": [],
   "source": [
    "adata_int.obs = adata.obs\n",
    "adata_int.var = adata.var\n",
    "del adata"
   ]
  },
  {
   "cell_type": "code",
   "execution_count": 15,
   "id": "1b0da549-1033-437f-9637-54f31ecec669",
   "metadata": {},
   "outputs": [],
   "source": [
    "adata_int.obsm[\"X_emb\"] = vae.get_latent_representation()\n",
    "del vae"
   ]
  },
  {
   "cell_type": "code",
   "execution_count": null,
   "id": "2c4be138-3d94-4a97-af3f-d6b039945168",
   "metadata": {},
   "outputs": [],
   "source": []
  }
 ],
 "metadata": {
  "kernelspec": {
   "display_name": "scvi",
   "language": "python",
   "name": "scvi"
  },
  "language_info": {
   "codemirror_mode": {
    "name": "ipython",
    "version": 3
   },
   "file_extension": ".py",
   "mimetype": "text/x-python",
   "name": "python",
   "nbconvert_exporter": "python",
   "pygments_lexer": "ipython3",
   "version": "3.11.5"
  }
 },
 "nbformat": 4,
 "nbformat_minor": 5
}
