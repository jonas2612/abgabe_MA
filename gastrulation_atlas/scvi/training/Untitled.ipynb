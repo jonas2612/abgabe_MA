{
 "cells": [
  {
   "cell_type": "code",
   "execution_count": 1,
   "id": "4a7cb239-cae6-4a20-a1e4-493b165230c2",
   "metadata": {},
   "outputs": [],
   "source": [
    "import scanpy as sc"
   ]
  },
  {
   "cell_type": "code",
   "execution_count": 2,
   "id": "bd46b1cb-f4ce-43a2-84ef-149fded95a20",
   "metadata": {},
   "outputs": [],
   "source": [
    "adata_path = f'/home/icb/jonas.flor/gastrulation_atlas/scvi/training/10k/10k_genes/1/2048'"
   ]
  },
  {
   "cell_type": "code",
   "execution_count": 4,
   "id": "7f13a4d2-2707-46ca-b6c5-bf9a30c23d05",
   "metadata": {},
   "outputs": [
    {
     "name": "stdout",
     "output_type": "stream",
     "text": [
      "WARNING: adata.X seems to be already log-transformed.\n"
     ]
    },
    {
     "ename": "TypeError",
     "evalue": "'float' object is not subscriptable",
     "output_type": "error",
     "traceback": [
      "\u001b[0;31m---------------------------------------------------------------------------\u001b[0m",
      "\u001b[0;31mTypeError\u001b[0m                                 Traceback (most recent call last)",
      "Cell \u001b[0;32mIn[4], line 5\u001b[0m\n\u001b[1;32m      2\u001b[0m sc\u001b[38;5;241m.\u001b[39mpp\u001b[38;5;241m.\u001b[39mnormalize_total(adata)\n\u001b[1;32m      3\u001b[0m sc\u001b[38;5;241m.\u001b[39mpp\u001b[38;5;241m.\u001b[39mlog1p(adata)\n\u001b[0;32m----> 5\u001b[0m adata\u001b[38;5;241m.\u001b[39mobs\u001b[38;5;241m.\u001b[39mday \u001b[38;5;241m=\u001b[39m [\u001b[38;5;28mfloat\u001b[39m(x[\u001b[38;5;241m1\u001b[39m:]) \u001b[38;5;28;01mfor\u001b[39;00m x \u001b[38;5;129;01min\u001b[39;00m adata\u001b[38;5;241m.\u001b[39mobs\u001b[38;5;241m.\u001b[39mday]\n\u001b[1;32m      6\u001b[0m adata\u001b[38;5;241m.\u001b[39mobs\u001b[38;5;241m.\u001b[39mday[adata\u001b[38;5;241m.\u001b[39mobs\u001b[38;5;241m.\u001b[39mday \u001b[38;5;241m==\u001b[39m \u001b[38;5;241m0.\u001b[39m] \u001b[38;5;241m=\u001b[39m \u001b[38;5;241m19\u001b[39m\n\u001b[1;32m      8\u001b[0m sc\u001b[38;5;241m.\u001b[39mpp\u001b[38;5;241m.\u001b[39mneighbors(adata, use_rep\u001b[38;5;241m=\u001b[39m\u001b[38;5;124m'\u001b[39m\u001b[38;5;124mX_pca\u001b[39m\u001b[38;5;124m'\u001b[39m)\n",
      "Cell \u001b[0;32mIn[4], line 5\u001b[0m, in \u001b[0;36m<listcomp>\u001b[0;34m(.0)\u001b[0m\n\u001b[1;32m      2\u001b[0m sc\u001b[38;5;241m.\u001b[39mpp\u001b[38;5;241m.\u001b[39mnormalize_total(adata)\n\u001b[1;32m      3\u001b[0m sc\u001b[38;5;241m.\u001b[39mpp\u001b[38;5;241m.\u001b[39mlog1p(adata)\n\u001b[0;32m----> 5\u001b[0m adata\u001b[38;5;241m.\u001b[39mobs\u001b[38;5;241m.\u001b[39mday \u001b[38;5;241m=\u001b[39m [\u001b[38;5;28mfloat\u001b[39m(x[\u001b[38;5;241m1\u001b[39m:]) \u001b[38;5;28;01mfor\u001b[39;00m x \u001b[38;5;129;01min\u001b[39;00m adata\u001b[38;5;241m.\u001b[39mobs\u001b[38;5;241m.\u001b[39mday]\n\u001b[1;32m      6\u001b[0m adata\u001b[38;5;241m.\u001b[39mobs\u001b[38;5;241m.\u001b[39mday[adata\u001b[38;5;241m.\u001b[39mobs\u001b[38;5;241m.\u001b[39mday \u001b[38;5;241m==\u001b[39m \u001b[38;5;241m0.\u001b[39m] \u001b[38;5;241m=\u001b[39m \u001b[38;5;241m19\u001b[39m\n\u001b[1;32m      8\u001b[0m sc\u001b[38;5;241m.\u001b[39mpp\u001b[38;5;241m.\u001b[39mneighbors(adata, use_rep\u001b[38;5;241m=\u001b[39m\u001b[38;5;124m'\u001b[39m\u001b[38;5;124mX_pca\u001b[39m\u001b[38;5;124m'\u001b[39m)\n",
      "\u001b[0;31mTypeError\u001b[0m: 'float' object is not subscriptable"
     ]
    }
   ],
   "source": [
    "adata = sc.read_h5ad(f'{adata_path}/unintegrated_adata.h5ad')\n",
    "sc.pp.normalize_total(adata)\n",
    "sc.pp.log1p(adata)\n",
    "\n",
    "adata.obs.day = [float(x[1:]) for x in adata.obs.day]\n",
    "adata.obs.day[adata.obs.day == 0.] = 19\n",
    "\n",
    "sc.pp.neighbors(adata, use_rep='X_pca')\n",
    "adata.uns['iroot'] = adata.obs.index.get_loc(\n",
    "    adata[(adata.obs.day == 8.5) & (adata.obs.celltype == 'Lateral plate and intermediate mesoderm')]\n",
    "    .obs.first_valid_index()\n",
    ")\n",
    "sc.tl.dpt(adata)"
   ]
  },
  {
   "cell_type": "code",
   "execution_count": 5,
   "id": "8f1f3450-b9eb-432d-96ad-1952f450de8f",
   "metadata": {},
   "outputs": [
    {
     "data": {
      "text/plain": [
       "AnnData object with n_obs × n_vars = 10000 × 10000\n",
       "    obs: 'cell_id', 'keep', 'day', 'embryo_id', 'experimental_batch', 'batch', 'cell_cluster', 'celltype', 'cellcluster_moscot', '_scvi_batch', '_scvi_labels', 'dpt_pseudotime'\n",
       "    uns: '_scvi_manager_uuid', '_scvi_uuid', 'diffmap_evals', 'iroot', 'log1p', 'neighbors'\n",
       "    obsm: 'X_diffmap', 'X_pca'\n",
       "    obsp: 'connectivities', 'distances'"
      ]
     },
     "execution_count": 5,
     "metadata": {},
     "output_type": "execute_result"
    }
   ],
   "source": [
    "adata"
   ]
  },
  {
   "cell_type": "code",
   "execution_count": null,
   "id": "fcf37116-d424-47d2-ad6e-256f57d720ff",
   "metadata": {},
   "outputs": [],
   "source": [
    "adata = sc.read_h5ad(f'{adata_path}/integrated_adata.h5ad')\n",
    "\n",
    "sc.pp.normalize_total(adata)\n",
    "sc.pp.log1p(adata)\n",
    "\n",
    "adata.obs.day = [float(x[1:]) for x in adata.obs.day]\n",
    "adata.obs.day[adata.obs.day == 0.] = 19\n",
    "\n",
    "sc.pp.neighbors(adata, use_rep='X_emb')\n",
    "adata.uns['iroot'] = adata.obs.index.get_loc(\n",
    "    adata[(adata.obs.day == 8.5) & (adata.obs.celltype == 'Lateral plate and intermediate mesoderm')]\n",
    "    .obs.first_valid_index()\n",
    ")\n",
    "sc.tl.dpt(adata)"
   ]
  },
  {
   "cell_type": "code",
   "execution_count": null,
   "id": "55a1ec58-93e7-4780-850e-3e6530dcfd53",
   "metadata": {},
   "outputs": [],
   "source": []
  }
 ],
 "metadata": {
  "kernelspec": {
   "display_name": "scvi",
   "language": "python",
   "name": "scvi"
  },
  "language_info": {
   "codemirror_mode": {
    "name": "ipython",
    "version": 3
   },
   "file_extension": ".py",
   "mimetype": "text/x-python",
   "name": "python",
   "nbconvert_exporter": "python",
   "pygments_lexer": "ipython3",
   "version": "3.11.5"
  }
 },
 "nbformat": 4,
 "nbformat_minor": 5
}
