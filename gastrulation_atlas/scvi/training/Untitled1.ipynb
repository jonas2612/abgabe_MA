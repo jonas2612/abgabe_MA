{
 "cells": [
  {
   "cell_type": "code",
   "execution_count": 1,
   "id": "b627c474-a433-43d5-ae47-a402b7fea82d",
   "metadata": {},
   "outputs": [
    {
     "name": "stderr",
     "output_type": "stream",
     "text": [
      "/home/icb/jonas.flor/mambaforge/envs/scvi_test/lib/python3.11/site-packages/scvi/_settings.py:63: UserWarning: Since v1.0.0, scvi-tools no longer uses a random seed by default. Run `scvi.settings.seed = 0` to reproduce results from previous versions.\n",
      "  self.seed = seed\n",
      "/home/icb/jonas.flor/mambaforge/envs/scvi_test/lib/python3.11/site-packages/scvi/_settings.py:70: UserWarning: Setting `dl_pin_memory_gpu_training` is deprecated in v1.0 and will be removed in v1.1. Please pass in `pin_memory` to the data loaders instead.\n",
      "  self.dl_pin_memory_gpu_training = (\n",
      "/home/icb/jonas.flor/mambaforge/envs/scvi_test/lib/python3.11/site-packages/tqdm/auto.py:21: TqdmWarning: IProgress not found. Please update jupyter and ipywidgets. See https://ipywidgets.readthedocs.io/en/stable/user_install.html\n",
      "  from .autonotebook import tqdm as notebook_tqdm\n"
     ]
    }
   ],
   "source": [
    "import scvi\n",
    "import scanpy as sc\n",
    "import numpy as np\n",
    "import pandas as pd\n",
    "import anndata as ad\n",
    "import sys"
   ]
  },
  {
   "cell_type": "code",
   "execution_count": 2,
   "id": "467c0c3e-235e-4207-9f9f-65bcfa4e535b",
   "metadata": {},
   "outputs": [
    {
     "data": {
      "text/plain": [
       "AnnData object with n_obs × n_vars = 1000000 × 24552\n",
       "    obs: 'cell_id', 'keep', 'day', 'embryo_id', 'experimental_batch', 'batch', 'cell_cluster', 'celltype', 'cellcluster_moscot'\n",
       "    var: 'gene_type', 'celltype', 'chr'\n",
       "    uns: 'neighbors'\n",
       "    obsm: 'X_pca'\n",
       "    obsp: 'connectivities', 'distances'"
      ]
     },
     "execution_count": 2,
     "metadata": {},
     "output_type": "execute_result"
    }
   ],
   "source": [
    "condition_key = 'embryo_id' #change name?\n",
    "label_key = 'cellcluster_moscot' #to celltypes?\n",
    "adata_path = f'/home/icb/jonas.flor/gastrulation_atlas/scvi/training/1M/2k_genes/2/4196'\n",
    "metrics_path = f'/home/icb/jonas.flor/gastrulation_atlas/scvi/training/1M/2k_genes/2/4196/metrics'\n",
    "\n",
    "if sys.argv[1]=='10k':\n",
    "    n_obs=10000\n",
    "elif sys.argv[1]=='100k':\n",
    "    n_obs=100000\n",
    "elif sys.argv[1]=='500k':\n",
    "    n_obs=500000\n",
    "elif sys.argv[1]=='1M':\n",
    "    n_obs=1000000\n",
    "\n",
    "if sys.argv[1]!='all':\n",
    "    adata = sc.read_h5ad(f'/lustre/groups/ml01/workspace/monge_velo/data/mouse_gastrulation_atlas/training/adata_1M.h5ad')\n",
    "else:\n",
    "    adata = sc.read_h5ad('/lustre/groups/ml01/workspace/monge_velo/data/mouse_gastrulation_atlas/gastrulation_atlas_pca.h5ad')\n",
    "adata"
   ]
  },
  {
   "cell_type": "code",
   "execution_count": 3,
   "id": "31d123b2-662b-48ec-a111-4e6c400b2d7f",
   "metadata": {},
   "outputs": [],
   "source": [
    "obsp = adata.obsp\n",
    "highly_variable = adata.var_names\n",
    "\n",
    "if sys.argv[2]=='2k_genes':\n",
    "    adata_copy = adata.copy()\n",
    "    sc.pp.normalize_total(adata_copy)\n",
    "    sc.pp.log1p(adata_copy)\n",
    "    sc.pp.highly_variable_genes(\n",
    "        adata_copy,\n",
    "        n_top_genes=2000,\n",
    "        batch_key=condition_key,\n",
    "    )\n",
    "    highly_variable = adata_copy.var[\"highly_variable\"]\n",
    "    del adata_copy\n",
    "elif sys.argv[2]=='10k_genes':\n",
    "    adata_copy = adata.copy()\n",
    "    sc.pp.normalize_total(adata_copy)\n",
    "    sc.pp.log1p(adata_copy)\n",
    "    sc.pp.highly_variable_genes(\n",
    "        adata_copy,\n",
    "        n_top_genes=10000,\n",
    "        batch_key=condition_key,\n",
    "    )\n",
    "    highly_variable = adata_copy.var[\"highly_variable\"]\n",
    "    del adata_copy\n",
    "\n",
    "adata = ad.concat([\n",
    "    sc.read_h5ad('/lustre/groups/ml01/workspace/monge_velo/data/mouse_gastrulation_atlas/training/validation.h5ad'),\n",
    "    adata\n",
    "])\n",
    "adata._inplace_subset_var(highly_variable)\n",
    "\n",
    "var = adata.var #otherwise not subsetted to hgv genes"
   ]
  },
  {
   "cell_type": "code",
   "execution_count": 4,
   "id": "8f61875f-b85f-4657-9dc4-b30fa6fd28b0",
   "metadata": {},
   "outputs": [
    {
     "data": {
      "text/plain": [
       "array([[0., 0., 0., 0., 0., 0., 0., 0., 0., 0.],\n",
       "       [0., 0., 0., 0., 0., 0., 0., 0., 0., 0.],\n",
       "       [0., 0., 0., 0., 0., 0., 0., 0., 0., 0.],\n",
       "       [0., 0., 0., 0., 0., 0., 2., 4., 1., 0.],\n",
       "       [0., 0., 0., 0., 0., 0., 1., 0., 0., 1.],\n",
       "       [0., 0., 0., 0., 0., 0., 0., 0., 0., 0.],\n",
       "       [0., 0., 0., 0., 0., 0., 1., 0., 0., 0.],\n",
       "       [0., 0., 0., 0., 0., 0., 0., 0., 0., 0.],\n",
       "       [0., 0., 0., 0., 0., 0., 0., 1., 0., 0.],\n",
       "       [1., 0., 0., 0., 0., 0., 0., 0., 0., 0.]], dtype=float32)"
      ]
     },
     "execution_count": 4,
     "metadata": {},
     "output_type": "execute_result"
    }
   ],
   "source": [
    "adata.X[:10,:10].toarray()"
   ]
  },
  {
   "cell_type": "code",
   "execution_count": 12,
   "id": "8bcbb366-774a-4c87-b050-457414273615",
   "metadata": {},
   "outputs": [
    {
     "name": "stderr",
     "output_type": "stream",
     "text": [
      "/home/icb/jonas.flor/mambaforge/envs/scvi_test/lib/python3.11/site-packages/lightning/fabric/plugins/environments/slurm.py:168: PossibleUserWarning: The `srun` command is available on your system but is not used. HINT: If your intention is to run Lightning on SLURM, prepend your python command with `srun` like so: srun python /home/icb/jonas.flor/mambaforge/envs/scvi_test/lib/p ...\n",
      "  rank_zero_warn(\n",
      "GPU available: True (cuda), used: True\n",
      "TPU available: False, using: 0 TPU cores\n",
      "IPU available: False, using: 0 IPUs\n",
      "HPU available: False, using: 0 HPUs\n",
      "/home/icb/jonas.flor/mambaforge/envs/scvi_test/lib/python3.11/site-packages/lightning/fabric/plugins/environments/slurm.py:168: PossibleUserWarning: The `srun` command is available on your system but is not used. HINT: If your intention is to run Lightning on SLURM, prepend your python command with `srun` like so: srun python /home/icb/jonas.flor/mambaforge/envs/scvi_test/lib/p ...\n",
      "  rank_zero_warn(\n",
      "LOCAL_RANK: 0 - CUDA_VISIBLE_DEVICES: [0]\n"
     ]
    },
    {
     "name": "stdout",
     "output_type": "stream",
     "text": [
      "Epoch 1/7:   0%|                                                                                                                                                                                                               | 0/7 [00:00<?, ?it/s]"
     ]
    },
    {
     "name": "stderr",
     "output_type": "stream",
     "text": [
      "/home/icb/jonas.flor/mambaforge/envs/scvi_test/lib/python3.11/site-packages/lightning/pytorch/trainer/call.py:53: UserWarning: Detected KeyboardInterrupt, attempting graceful shutdown...\n",
      "  rank_zero_warn(\"Detected KeyboardInterrupt, attempting graceful shutdown...\")\n"
     ]
    }
   ],
   "source": [
    "scvi.model.SCVI.setup_anndata(adata, batch_key=condition_key)\n",
    "vae = scvi.model.SCVI(\n",
    "    adata,\n",
    "    n_layers=2,\n",
    "    n_hidden=8192,\n",
    "    n_latent=50\n",
    ")\n",
    "vae.train(plan_kwargs={'lr': 1e-4})\n",
    "#vae.save(adata_path, overwrite=True)"
   ]
  },
  {
   "cell_type": "code",
   "execution_count": null,
   "id": "dd7daa70-1f4e-4813-a7f7-6ce8770baac0",
   "metadata": {},
   "outputs": [],
   "source": [
    "adata = adata[100000:]\n",
    "adata.var = var\n",
    "adata.obsp = obsp\n",
    "\n",
    "adata.write(f'{adata_path}/unintegrated_adata.h5ad')\n",
    "del adata\n",
    "\n",
    "#training metrics\n",
    "pd.DataFrame(\n",
    "    np.concatenate([vae.history['train_loss_epoch'], vae.history['validation_loss']], axis=1), columns=['train_loss', 'val_loss']\n",
    ").to_csv(\n",
    "    f'{metrics_path}/loss.csv'\n",
    ")\n",
    "\n",
    "pd.DataFrame(\n",
    "    np.concatenate([vae.history['elbo_train'], vae.history['elbo_validation']], axis=1), columns=['train_elbo', 'val_elbo']\n",
    ").to_csv(\n",
    "    f'{metrics_path}/elbo.csv'\n",
    ")\n",
    "\n",
    "pd.DataFrame(\n",
    "    np.concatenate([vae.history['reconstruction_loss_train'], vae.history['reconstruction_loss_validation']], axis=1), columns=['train_recon_loss', 'val_recon_loss']\n",
    ").to_csv(\n",
    "    f'{metrics_path}/reconstr_loss.csv'\n",
    ")"
   ]
  }
 ],
 "metadata": {
  "kernelspec": {
   "display_name": "scvi_test",
   "language": "python",
   "name": "scvi_test"
  },
  "language_info": {
   "codemirror_mode": {
    "name": "ipython",
    "version": 3
   },
   "file_extension": ".py",
   "mimetype": "text/x-python",
   "name": "python",
   "nbconvert_exporter": "python",
   "pygments_lexer": "ipython3",
   "version": "3.11.7"
  }
 },
 "nbformat": 4,
 "nbformat_minor": 5
}
