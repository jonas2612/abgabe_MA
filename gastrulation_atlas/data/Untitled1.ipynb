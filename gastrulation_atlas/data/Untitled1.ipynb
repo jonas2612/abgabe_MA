{
 "cells": [
  {
   "cell_type": "code",
   "execution_count": 1,
   "id": "74d2b6bd-c71c-417e-b463-94dd825be973",
   "metadata": {},
   "outputs": [],
   "source": [
    "import cloudpickle\n",
    "import scanpy as sc"
   ]
  },
  {
   "cell_type": "code",
   "execution_count": 2,
   "id": "aabcb70e-fafb-472e-999f-4c54355042ee",
   "metadata": {},
   "outputs": [],
   "source": [
    "import anndata as ad"
   ]
  },
  {
   "cell_type": "code",
   "execution_count": 3,
   "id": "daa8bd47-fdc2-4fa3-affa-66e518e60942",
   "metadata": {},
   "outputs": [],
   "source": [
    "with open('/home/icb/jonas.flor/ALT_gastrulation_atlas/pca/pca.pkl', mode='rb') as file:\n",
    "   pca = cloudpickle.load(file)[0]"
   ]
  },
  {
   "cell_type": "code",
   "execution_count": 10,
   "id": "70b35cd9-a96a-4a93-9324-3f1903fdd96e",
   "metadata": {},
   "outputs": [],
   "source": [
    "import numpy as np\n",
    "adata = ad.AnnData(np.ones([11441407, 2]))\n",
    "adata.obsm['X_pca'] = pca[0]"
   ]
  },
  {
   "cell_type": "code",
   "execution_count": null,
   "id": "9d2c6741-1c11-4f44-9132-0a91b590d71b",
   "metadata": {},
   "outputs": [],
   "source": [
    "sc.pp.neighbors(adata)\n",
    "sc.tl.umap(adata)"
   ]
  },
  {
   "cell_type": "code",
   "execution_count": null,
   "id": "7b05d43e-9d44-4d2a-a709-381fe09d15b2",
   "metadata": {},
   "outputs": [],
   "source": [
    "sc.pl.umap(adata)"
   ]
  },
  {
   "cell_type": "code",
   "execution_count": null,
   "id": "23547ed5-b431-4252-bd5f-b043c279b257",
   "metadata": {},
   "outputs": [],
   "source": []
  }
 ],
 "metadata": {
  "kernelspec": {
   "display_name": "moscot_flow",
   "language": "python",
   "name": "moscot_flow"
  },
  "language_info": {
   "codemirror_mode": {
    "name": "ipython",
    "version": 3
   },
   "file_extension": ".py",
   "mimetype": "text/x-python",
   "name": "python",
   "nbconvert_exporter": "python",
   "pygments_lexer": "ipython3",
   "version": "3.11.6"
  }
 },
 "nbformat": 4,
 "nbformat_minor": 5
}
