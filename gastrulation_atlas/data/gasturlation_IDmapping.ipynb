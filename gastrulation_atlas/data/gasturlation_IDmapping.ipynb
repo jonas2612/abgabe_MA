{
 "cells": [
  {
   "cell_type": "code",
   "execution_count": 1,
   "id": "8fd33112-1201-4701-b79c-2fc1fdbacc63",
   "metadata": {},
   "outputs": [],
   "source": [
    "import scanpy as sc\n",
    "import pandas as pd\n",
    "from gtfparse import read_gtf"
   ]
  },
  {
   "cell_type": "code",
   "execution_count": 2,
   "id": "dfd6db1b-7e46-4882-8df8-f5d1a5523e89",
   "metadata": {},
   "outputs": [
    {
     "data": {
      "text/html": [
       "<div>\n",
       "<style scoped>\n",
       "    .dataframe tbody tr th:only-of-type {\n",
       "        vertical-align: middle;\n",
       "    }\n",
       "\n",
       "    .dataframe tbody tr th {\n",
       "        vertical-align: top;\n",
       "    }\n",
       "\n",
       "    .dataframe thead th {\n",
       "        text-align: right;\n",
       "    }\n",
       "</style>\n",
       "<table border=\"1\" class=\"dataframe\">\n",
       "  <thead>\n",
       "    <tr style=\"text-align: right;\">\n",
       "      <th></th>\n",
       "      <th>gene_short_name</th>\n",
       "    </tr>\n",
       "    <tr>\n",
       "      <th>index</th>\n",
       "      <th></th>\n",
       "    </tr>\n",
       "  </thead>\n",
       "  <tbody>\n",
       "    <tr>\n",
       "      <th>Xkr4</th>\n",
       "      <td>Xkr4</td>\n",
       "    </tr>\n",
       "    <tr>\n",
       "      <th>Gm37180</th>\n",
       "      <td>Gm37180</td>\n",
       "    </tr>\n",
       "    <tr>\n",
       "      <th>Gm37363</th>\n",
       "      <td>Gm37363</td>\n",
       "    </tr>\n",
       "    <tr>\n",
       "      <th>Gm37686</th>\n",
       "      <td>Gm37686</td>\n",
       "    </tr>\n",
       "    <tr>\n",
       "      <th>Gm37329</th>\n",
       "      <td>Gm37329</td>\n",
       "    </tr>\n",
       "    <tr>\n",
       "      <th>...</th>\n",
       "      <td>...</td>\n",
       "    </tr>\n",
       "    <tr>\n",
       "      <th>Gm29504</th>\n",
       "      <td>Gm29504</td>\n",
       "    </tr>\n",
       "    <tr>\n",
       "      <th>Gm20837</th>\n",
       "      <td>Gm20837</td>\n",
       "    </tr>\n",
       "    <tr>\n",
       "      <th>Mid1-ps1</th>\n",
       "      <td>Mid1-ps1</td>\n",
       "    </tr>\n",
       "    <tr>\n",
       "      <th>Gm47283</th>\n",
       "      <td>Gm47283</td>\n",
       "    </tr>\n",
       "    <tr>\n",
       "      <th>Gm21742</th>\n",
       "      <td>Gm21742</td>\n",
       "    </tr>\n",
       "  </tbody>\n",
       "</table>\n",
       "<p>53801 rows × 1 columns</p>\n",
       "</div>"
      ],
      "text/plain": [
       "         gene_short_name\n",
       "index                   \n",
       "Xkr4                Xkr4\n",
       "Gm37180          Gm37180\n",
       "Gm37363          Gm37363\n",
       "Gm37686          Gm37686\n",
       "Gm37329          Gm37329\n",
       "...                  ...\n",
       "Gm29504          Gm29504\n",
       "Gm20837          Gm20837\n",
       "Mid1-ps1        Mid1-ps1\n",
       "Gm47283          Gm47283\n",
       "Gm21742          Gm21742\n",
       "\n",
       "[53801 rows x 1 columns]"
      ]
     },
     "execution_count": 2,
     "metadata": {},
     "output_type": "execute_result"
    }
   ],
   "source": [
    "adata = sc.read(\"gastrulation.h5ad\")\n",
    "namen = adata.var_names.to_frame(name='gene_short_name')\n",
    "namen"
   ]
  },
  {
   "cell_type": "code",
   "execution_count": 28,
   "id": "56e04870-151e-4790-831a-755d89b1a69f",
   "metadata": {},
   "outputs": [
    {
     "data": {
      "text/html": [
       "<div>\n",
       "<style scoped>\n",
       "    .dataframe tbody tr th:only-of-type {\n",
       "        vertical-align: middle;\n",
       "    }\n",
       "\n",
       "    .dataframe tbody tr th {\n",
       "        vertical-align: top;\n",
       "    }\n",
       "\n",
       "    .dataframe thead th {\n",
       "        text-align: right;\n",
       "    }\n",
       "</style>\n",
       "<table border=\"1\" class=\"dataframe\">\n",
       "  <thead>\n",
       "    <tr style=\"text-align: right;\">\n",
       "      <th></th>\n",
       "      <th>gene_ID</th>\n",
       "      <th>gene_short_name</th>\n",
       "    </tr>\n",
       "  </thead>\n",
       "  <tbody>\n",
       "    <tr>\n",
       "      <th>0</th>\n",
       "      <td>ENSMUSG00000102693</td>\n",
       "      <td>4933401J01Rik</td>\n",
       "    </tr>\n",
       "    <tr>\n",
       "      <th>1</th>\n",
       "      <td>ENSMUSG00000064842</td>\n",
       "      <td>Gm26206</td>\n",
       "    </tr>\n",
       "    <tr>\n",
       "      <th>2</th>\n",
       "      <td>ENSMUSG00000051951</td>\n",
       "      <td>Xkr4</td>\n",
       "    </tr>\n",
       "    <tr>\n",
       "      <th>3</th>\n",
       "      <td>ENSMUSG00000102851</td>\n",
       "      <td>Gm18956</td>\n",
       "    </tr>\n",
       "    <tr>\n",
       "      <th>4</th>\n",
       "      <td>ENSMUSG00000103377</td>\n",
       "      <td>Gm37180</td>\n",
       "    </tr>\n",
       "    <tr>\n",
       "      <th>...</th>\n",
       "      <td>...</td>\n",
       "      <td>...</td>\n",
       "    </tr>\n",
       "    <tr>\n",
       "      <th>50118</th>\n",
       "      <td>ENSMUSG00000111038</td>\n",
       "      <td>CR936839.3</td>\n",
       "    </tr>\n",
       "    <tr>\n",
       "      <th>50119</th>\n",
       "      <td>ENSMUSG00000111855</td>\n",
       "      <td>CR936839.4</td>\n",
       "    </tr>\n",
       "    <tr>\n",
       "      <th>50120</th>\n",
       "      <td>ENSMUSG00000102161</td>\n",
       "      <td>RP23-146J17.3</td>\n",
       "    </tr>\n",
       "    <tr>\n",
       "      <th>50121</th>\n",
       "      <td>ENSMUSG00000103068</td>\n",
       "      <td>CR936839.1</td>\n",
       "    </tr>\n",
       "    <tr>\n",
       "      <th>50122</th>\n",
       "      <td>ENSMUSG00000103806</td>\n",
       "      <td>Rpl17-ps1</td>\n",
       "    </tr>\n",
       "  </tbody>\n",
       "</table>\n",
       "<p>50123 rows × 2 columns</p>\n",
       "</div>"
      ],
      "text/plain": [
       "                  gene_ID gene_short_name\n",
       "0      ENSMUSG00000102693   4933401J01Rik\n",
       "1      ENSMUSG00000064842         Gm26206\n",
       "2      ENSMUSG00000051951            Xkr4\n",
       "3      ENSMUSG00000102851         Gm18956\n",
       "4      ENSMUSG00000103377         Gm37180\n",
       "...                   ...             ...\n",
       "50118  ENSMUSG00000111038      CR936839.3\n",
       "50119  ENSMUSG00000111855      CR936839.4\n",
       "50120  ENSMUSG00000102161   RP23-146J17.3\n",
       "50121  ENSMUSG00000103068      CR936839.1\n",
       "50122  ENSMUSG00000103806       Rpl17-ps1\n",
       "\n",
       "[50123 rows x 2 columns]"
      ]
     },
     "execution_count": 28,
     "metadata": {},
     "output_type": "execute_result"
    }
   ],
   "source": [
    "# 47,7k Übereinstimmung\n",
    "db = pd.read_csv('/home/icb/jonas.flor/gastrulation_atlas/data/mouse.v12.geneID.txt', sep='\\t')[['gene_ID', 'gene_short_name']]\n",
    "db"
   ]
  },
  {
   "cell_type": "code",
   "execution_count": 33,
   "id": "ce2045b8-95ac-4ef3-b042-b018248a0921",
   "metadata": {},
   "outputs": [
    {
     "data": {
      "text/html": [
       "<div>\n",
       "<style scoped>\n",
       "    .dataframe tbody tr th:only-of-type {\n",
       "        vertical-align: middle;\n",
       "    }\n",
       "\n",
       "    .dataframe tbody tr th {\n",
       "        vertical-align: top;\n",
       "    }\n",
       "\n",
       "    .dataframe thead th {\n",
       "        text-align: right;\n",
       "    }\n",
       "</style>\n",
       "<table border=\"1\" class=\"dataframe\">\n",
       "  <thead>\n",
       "    <tr style=\"text-align: right;\">\n",
       "      <th></th>\n",
       "      <th>gene_short_name</th>\n",
       "      <th>gene_ID</th>\n",
       "    </tr>\n",
       "  </thead>\n",
       "  <tbody>\n",
       "    <tr>\n",
       "      <th>0</th>\n",
       "      <td>Xkr4</td>\n",
       "      <td>ENSMUSG00000051951</td>\n",
       "    </tr>\n",
       "    <tr>\n",
       "      <th>1</th>\n",
       "      <td>Gm37180</td>\n",
       "      <td>ENSMUSG00000103377</td>\n",
       "    </tr>\n",
       "    <tr>\n",
       "      <th>2</th>\n",
       "      <td>Gm37363</td>\n",
       "      <td>ENSMUSG00000104017</td>\n",
       "    </tr>\n",
       "    <tr>\n",
       "      <th>3</th>\n",
       "      <td>Gm37686</td>\n",
       "      <td>ENSMUSG00000103025</td>\n",
       "    </tr>\n",
       "    <tr>\n",
       "      <th>4</th>\n",
       "      <td>Gm37329</td>\n",
       "      <td>ENSMUSG00000103201</td>\n",
       "    </tr>\n",
       "    <tr>\n",
       "      <th>...</th>\n",
       "      <td>...</td>\n",
       "      <td>...</td>\n",
       "    </tr>\n",
       "    <tr>\n",
       "      <th>47754</th>\n",
       "      <td>Gm21803</td>\n",
       "      <td>ENSMUSG00000100270</td>\n",
       "    </tr>\n",
       "    <tr>\n",
       "      <th>47755</th>\n",
       "      <td>Gm20879</td>\n",
       "      <td>ENSMUSG00000100246</td>\n",
       "    </tr>\n",
       "    <tr>\n",
       "      <th>47756</th>\n",
       "      <td>Gm29504</td>\n",
       "      <td>ENSMUSG00000100533</td>\n",
       "    </tr>\n",
       "    <tr>\n",
       "      <th>47757</th>\n",
       "      <td>Gm20837</td>\n",
       "      <td>ENSMUSG00000096178</td>\n",
       "    </tr>\n",
       "    <tr>\n",
       "      <th>47758</th>\n",
       "      <td>Gm21742</td>\n",
       "      <td>ENSMUSG00000099871</td>\n",
       "    </tr>\n",
       "  </tbody>\n",
       "</table>\n",
       "<p>47759 rows × 2 columns</p>\n",
       "</div>"
      ],
      "text/plain": [
       "      gene_short_name             gene_ID\n",
       "0                Xkr4  ENSMUSG00000051951\n",
       "1             Gm37180  ENSMUSG00000103377\n",
       "2             Gm37363  ENSMUSG00000104017\n",
       "3             Gm37686  ENSMUSG00000103025\n",
       "4             Gm37329  ENSMUSG00000103201\n",
       "...               ...                 ...\n",
       "47754         Gm21803  ENSMUSG00000100270\n",
       "47755         Gm20879  ENSMUSG00000100246\n",
       "47756         Gm29504  ENSMUSG00000100533\n",
       "47757         Gm20837  ENSMUSG00000096178\n",
       "47758         Gm21742  ENSMUSG00000099871\n",
       "\n",
       "[47759 rows x 2 columns]"
      ]
     },
     "execution_count": 33,
     "metadata": {},
     "output_type": "execute_result"
    }
   ],
   "source": [
    "new_names = namen.merge(db, on='gene_short_name', how='inner')\n",
    "new_names"
   ]
  },
  {
   "cell_type": "code",
   "execution_count": 57,
   "id": "de05da54-0aa8-4dec-9f30-771ac3e948d9",
   "metadata": {},
   "outputs": [
    {
     "data": {
      "text/plain": [
       "array([[False],\n",
       "       [False],\n",
       "       [False],\n",
       "       ...,\n",
       "       [ True],\n",
       "       [ True],\n",
       "       [False]])"
      ]
     },
     "execution_count": 57,
     "metadata": {},
     "output_type": "execute_result"
    }
   ],
   "source": [
    "namen.isin(list(new_names['gene_short_name'])).values"
   ]
  },
  {
   "cell_type": "code",
   "execution_count": 61,
   "id": "bfb95315-a5dc-46d5-ac67-12210a596fa5",
   "metadata": {},
   "outputs": [
    {
     "data": {
      "text/html": [
       "<div>\n",
       "<style scoped>\n",
       "    .dataframe tbody tr th:only-of-type {\n",
       "        vertical-align: middle;\n",
       "    }\n",
       "\n",
       "    .dataframe tbody tr th {\n",
       "        vertical-align: top;\n",
       "    }\n",
       "\n",
       "    .dataframe thead th {\n",
       "        text-align: right;\n",
       "    }\n",
       "</style>\n",
       "<table border=\"1\" class=\"dataframe\">\n",
       "  <thead>\n",
       "    <tr style=\"text-align: right;\">\n",
       "      <th></th>\n",
       "      <th>gene_short_name</th>\n",
       "    </tr>\n",
       "    <tr>\n",
       "      <th>index</th>\n",
       "      <th></th>\n",
       "    </tr>\n",
       "  </thead>\n",
       "  <tbody>\n",
       "    <tr>\n",
       "      <th>Eloc</th>\n",
       "      <td>Eloc</td>\n",
       "    </tr>\n",
       "    <tr>\n",
       "      <th>Gm45784</th>\n",
       "      <td>Gm45784</td>\n",
       "    </tr>\n",
       "    <tr>\n",
       "      <th>Gm31812</th>\n",
       "      <td>Gm31812</td>\n",
       "    </tr>\n",
       "    <tr>\n",
       "      <th>C2cd6b</th>\n",
       "      <td>C2cd6b</td>\n",
       "    </tr>\n",
       "    <tr>\n",
       "      <th>C2cd6</th>\n",
       "      <td>C2cd6</td>\n",
       "    </tr>\n",
       "    <tr>\n",
       "      <th>...</th>\n",
       "      <td>...</td>\n",
       "    </tr>\n",
       "    <tr>\n",
       "      <th>Gm23786-1</th>\n",
       "      <td>Gm23786-1</td>\n",
       "    </tr>\n",
       "    <tr>\n",
       "      <th>Gm47281</th>\n",
       "      <td>Gm47281</td>\n",
       "    </tr>\n",
       "    <tr>\n",
       "      <th>Rbmy1a1</th>\n",
       "      <td>Rbmy1a1</td>\n",
       "    </tr>\n",
       "    <tr>\n",
       "      <th>Mid1-ps1</th>\n",
       "      <td>Mid1-ps1</td>\n",
       "    </tr>\n",
       "    <tr>\n",
       "      <th>Gm47283</th>\n",
       "      <td>Gm47283</td>\n",
       "    </tr>\n",
       "  </tbody>\n",
       "</table>\n",
       "<p>6294 rows × 1 columns</p>\n",
       "</div>"
      ],
      "text/plain": [
       "          gene_short_name\n",
       "index                    \n",
       "Eloc                 Eloc\n",
       "Gm45784           Gm45784\n",
       "Gm31812           Gm31812\n",
       "C2cd6b             C2cd6b\n",
       "C2cd6               C2cd6\n",
       "...                   ...\n",
       "Gm23786-1       Gm23786-1\n",
       "Gm47281           Gm47281\n",
       "Rbmy1a1           Rbmy1a1\n",
       "Mid1-ps1         Mid1-ps1\n",
       "Gm47283           Gm47283\n",
       "\n",
       "[6294 rows x 1 columns]"
      ]
     },
     "execution_count": 61,
     "metadata": {},
     "output_type": "execute_result"
    }
   ],
   "source": [
    "drop = namen[~namen['gene_short_name'].isin(list(new_names['gene_short_name']))]\n",
    "drop"
   ]
  },
  {
   "cell_type": "code",
   "execution_count": 83,
   "id": "41837e9a-0a84-4ad7-b714-a96f9f4c2359",
   "metadata": {},
   "outputs": [],
   "source": [
    "adata_tmp = adata[:, new_names['gene_short_name']]\n"
   ]
  },
  {
   "cell_type": "code",
   "execution_count": 85,
   "id": "51688c43-269b-4561-8445-7004cb62ebad",
   "metadata": {},
   "outputs": [
    {
     "name": "stderr",
     "output_type": "stream",
     "text": [
      "/home/icb/jonas.flor/mambaforge/envs/scvi_pipeline/lib/python3.10/site-packages/anndata/_core/anndata.py:1840: UserWarning: Variable names are not unique. To make them unique, call `.var_names_make_unique`.\n",
      "  utils.warn_names_duplicates(\"var\")\n"
     ]
    },
    {
     "data": {
      "text/plain": [
       "AnnData object with n_obs × n_vars = 89267 × 47759\n",
       "    obs: 'barcode', 'sample', 'stage', 'sequencing.batch', 'theiler', 'doub.density', 'doublet', 'cluster', 'cluster.sub', 'cluster.stage', 'cluster.theiler', 'stripped', 'celltype', 'colour', 'umapX', 'umapY', 'haem_gephiX', 'haem_gephiY', 'haem_subclust', 'endo_gephiX', 'endo_gephiY', 'endo_trajectoryName', 'endo_trajectoryDPT', 'endo_gutX', 'endo_gutY', 'endo_gutDPT', 'endo_gutCluster', 'cell_velocyto_loom'\n",
       "    var: 'Accession', 'Chromosome', 'End', 'Start', 'Strand'\n",
       "    obsm: 'X_pca', 'X_umap'\n",
       "    layers: 'spliced', 'unspliced'"
      ]
     },
     "execution_count": 85,
     "metadata": {},
     "output_type": "execute_result"
    }
   ],
   "source": [
    "adata_tmp.var_names = new_names['gene_ID']\n",
    "adata_tmp"
   ]
  },
  {
   "cell_type": "code",
   "execution_count": 87,
   "id": "be9b1792-8dcf-4506-95e8-d5f0e0e7dc56",
   "metadata": {},
   "outputs": [
    {
     "name": "stderr",
     "output_type": "stream",
     "text": [
      "... storing 'Accession' as categorical\n"
     ]
    }
   ],
   "source": [
    "adata_tmp.write('/home/icb/jonas.flor/gastrulation_atlas/data/gastrulation_IDs.h5ad')"
   ]
  },
  {
   "cell_type": "code",
   "execution_count": 86,
   "id": "4aa51de9-860f-44e5-9e11-85335acb637c",
   "metadata": {},
   "outputs": [
    {
     "data": {
      "text/plain": [
       "Index(['ENSMUSG00000051951', 'ENSMUSG00000103377', 'ENSMUSG00000104017',\n",
       "       'ENSMUSG00000103025', 'ENSMUSG00000103201', 'ENSMUSG00000103161',\n",
       "       'ENSMUSG00000102331', 'ENSMUSG00000088333', 'ENSMUSG00000102343',\n",
       "       'ENSMUSG00000025900',\n",
       "       ...\n",
       "       'ENSMUSG00000101533', 'ENSMUSG00000102045', 'ENSMUSG00000100492',\n",
       "       'ENSMUSG00000099982', 'ENSMUSG00000100330', 'ENSMUSG00000100270',\n",
       "       'ENSMUSG00000100246', 'ENSMUSG00000100533', 'ENSMUSG00000096178',\n",
       "       'ENSMUSG00000099871'],\n",
       "      dtype='object', name='gene_ID', length=47759)"
      ]
     },
     "execution_count": 86,
     "metadata": {},
     "output_type": "execute_result"
    }
   ],
   "source": [
    "adata_tmp.var_names"
   ]
  },
  {
   "cell_type": "code",
   "execution_count": null,
   "id": "24e218ec-860d-485d-acc5-847fc365ad6c",
   "metadata": {},
   "outputs": [],
   "source": []
  }
 ],
 "metadata": {
  "kernelspec": {
   "display_name": "scvi_pipeline",
   "language": "python",
   "name": "scvi_pipeline"
  },
  "language_info": {
   "codemirror_mode": {
    "name": "ipython",
    "version": 3
   },
   "file_extension": ".py",
   "mimetype": "text/x-python",
   "name": "python",
   "nbconvert_exporter": "python",
   "pygments_lexer": "ipython3",
   "version": "3.10.12"
  }
 },
 "nbformat": 4,
 "nbformat_minor": 5
}
