{
 "cells": [
  {
   "cell_type": "code",
   "execution_count": 1,
   "id": "3feb1133-7609-41d4-b156-9d82698e15e5",
   "metadata": {},
   "outputs": [],
   "source": [
    "import numpy as np\n",
    "import pandas as pd\n",
    "\n",
    "import scanpy\n",
    "import anndata as ad\n",
    "import cloudpickle\n",
    "\n",
    "import dask\n",
    "import dask.array as da\n",
    "\n",
    "from dask_ml.decomposition import IncrementalPCA\n",
    "from multiprocessing.pool import ThreadPool\n",
    "from scipy.sparse import csr_matrix"
   ]
  },
  {
   "cell_type": "code",
   "execution_count": null,
   "id": "dbd37170-5dd5-493a-abdc-4959f893f219",
   "metadata": {},
   "outputs": [],
   "source": [
    "ad.experimental.concat_on_disk(in_files={'ds1': \"/lustre/groups/ml01/workspace/monge_velo/data/mouse_gastrulation_atlas/adata_JAX_dataset_12.h5ad\",\n",
    "                                         'ds2': \"/lustre/groups/ml01/workspace/monge_velo/data/mouse_gastrulation_atlas/adata_JAX_dataset_34.h5ad\"},\n",
    "                               out_file='/lustre/groups/ml01/workspace/monge_velo/data/mouse_gastrulation_atlas/gastrulation_atlas.h5ad')"
   ]
  },
  {
   "cell_type": "code",
   "execution_count": 2,
   "id": "14303deb-477b-4a89-893d-c250a5dc7cb0",
   "metadata": {},
   "outputs": [
    {
     "data": {
      "text/plain": [
       "(5400999, 24552)"
      ]
     },
     "execution_count": 2,
     "metadata": {},
     "output_type": "execute_result"
    }
   ],
   "source": [
    "data = ad.read_h5ad(\"/lustre/groups/ml01/workspace/monge_velo/data/mouse_gastrulation_atlas/adata_JAX_dataset_12.h5ad\", backed='r').X\n",
    "data.shape"
   ]
  },
  {
   "cell_type": "code",
   "execution_count": 3,
   "id": "3ea1725e-43f7-40a3-b10e-3239fe45176c",
   "metadata": {},
   "outputs": [],
   "source": [
    "batch_size = 41229\n",
    "\n",
    "def read_X(data, pos):\n",
    "    return data[pos:pos+batch_size, :].toarray()\n",
    "\n",
    "X1 = da.concatenate([da.from_delayed(dask.delayed(read_X)(data, pos), (batch_size, data.shape[1]), dtype='f4') for pos in range(0, data.shape[0], batch_size)])\n",
    "X1 = X1.map_blocks(csr_matrix).persist().rechunk((8192, -1))\n",
    "\n",
    "del data"
   ]
  },
  {
   "cell_type": "code",
   "execution_count": 4,
   "id": "c32ef23d-c122-4e30-bb4c-a3a493fd6bdb",
   "metadata": {},
   "outputs": [
    {
     "data": {
      "text/plain": [
       "(6040408, 24552)"
      ]
     },
     "execution_count": 4,
     "metadata": {},
     "output_type": "execute_result"
    }
   ],
   "source": [
    "data = ad.read_h5ad(\"/lustre/groups/ml01/workspace/monge_velo/data/mouse_gastrulation_atlas/adata_JAX_dataset_34.h5ad\", backed='r').X\n",
    "data.shape"
   ]
  },
  {
   "cell_type": "code",
   "execution_count": null,
   "id": "486bc2cc-53b1-472f-93fc-a3d2e9959c7b",
   "metadata": {},
   "outputs": [],
   "source": [
    "batch_size = 36388\n",
    "\n",
    "def read_X(data, pos):\n",
    "    return data[pos:pos+batch_size, :].toarray()\n",
    "\n",
    "X2 = da.concatenate([da.from_delayed(dask.delayed(read_X)(data, pos), (batch_size, data.shape[1]), dtype='f4') for pos in range(0, data.shape[0], batch_size)])\n",
    "X2 = X2.map_blocks(csr_matrix).persist().rechunk((8192, -1))\n",
    "\n",
    "del data"
   ]
  },
  {
   "cell_type": "code",
   "execution_count": 6,
   "id": "0a4a42a1-7617-4c8c-bc14-0d75a3badb8c",
   "metadata": {},
   "outputs": [
    {
     "data": {
      "text/plain": [
       "(11441407, 24552)"
      ]
     },
     "execution_count": 6,
     "metadata": {},
     "output_type": "execute_result"
    }
   ],
   "source": [
    "X = da.concatenate([X1,X2], axis=0)\n",
    "X.shape"
   ]
  },
  {
   "cell_type": "code",
   "execution_count": 7,
   "id": "535f9989-2f67-47f3-ba11-4cde961d679f",
   "metadata": {},
   "outputs": [],
   "source": [
    "del X1, X2"
   ]
  },
  {
   "cell_type": "code",
   "execution_count": 8,
   "id": "7ccfe8ad-42bb-415a-b4ba-2433e4279e20",
   "metadata": {},
   "outputs": [
    {
     "data": {
      "text/plain": [
       "AnnData object with n_obs × n_vars = 11441407 × 24552"
      ]
     },
     "execution_count": 8,
     "metadata": {},
     "output_type": "execute_result"
    }
   ],
   "source": [
    "import anndata as ad\n",
    "adata = ad.AnnData(X)\n",
    "del X\n",
    "adata"
   ]
  },
  {
   "cell_type": "code",
   "execution_count": 20,
   "id": "36a34fe2-5d94-41ec-9a4e-49cf95876be1",
   "metadata": {},
   "outputs": [],
   "source": [
    "data1 = ad.read_h5ad(\"/lustre/groups/ml01/workspace/monge_velo/data/mouse_gastrulation_atlas/adata_JAX_dataset_12.h5ad\", backed='r')\n",
    "data2 = ad.read_h5ad(\"/lustre/groups/ml01/workspace/monge_velo/data/mouse_gastrulation_atlas/adata_JAX_dataset_34.h5ad\", backed='r')"
   ]
  },
  {
   "cell_type": "code",
   "execution_count": 12,
   "id": "fd84ebac-9a00-4a5e-98b9-7e243b77c4c1",
   "metadata": {
    "collapsed": true,
    "jupyter": {
     "outputs_hidden": true
    },
    "scrolled": true
   },
   "outputs": [
    {
     "data": {
      "text/html": [
       "<div>\n",
       "<style scoped>\n",
       "    .dataframe tbody tr th:only-of-type {\n",
       "        vertical-align: middle;\n",
       "    }\n",
       "\n",
       "    .dataframe tbody tr th {\n",
       "        vertical-align: top;\n",
       "    }\n",
       "\n",
       "    .dataframe thead th {\n",
       "        text-align: right;\n",
       "    }\n",
       "</style>\n",
       "<table border=\"1\" class=\"dataframe\">\n",
       "  <thead>\n",
       "    <tr style=\"text-align: right;\">\n",
       "      <th></th>\n",
       "      <th>cell_id</th>\n",
       "      <th>keep</th>\n",
       "      <th>day</th>\n",
       "      <th>embryo_id</th>\n",
       "      <th>experimental_batch</th>\n",
       "      <th>batch</th>\n",
       "    </tr>\n",
       "  </thead>\n",
       "  <tbody>\n",
       "    <tr>\n",
       "      <th>run_4_P2-01A.ATTCAAGCATGTTACGCAAG-0-0</th>\n",
       "      <td>run_4_P2-01A.ATTCAAGCATGTTACGCAAG</td>\n",
       "      <td>yes</td>\n",
       "      <td>E8.5</td>\n",
       "      <td>embryo_11</td>\n",
       "      <td>run_4</td>\n",
       "      <td>0</td>\n",
       "    </tr>\n",
       "    <tr>\n",
       "      <th>run_4_P2-01A.CCGTCGATTTTATTCTGAG-0-0</th>\n",
       "      <td>run_4_P2-01A.CCGTCGATTTTATTCTGAG</td>\n",
       "      <td>yes</td>\n",
       "      <td>E8.5</td>\n",
       "      <td>embryo_12</td>\n",
       "      <td>run_4</td>\n",
       "      <td>0</td>\n",
       "    </tr>\n",
       "    <tr>\n",
       "      <th>run_4_P2-01A.ATGGTAACTTAGCCGGTACC-0-0</th>\n",
       "      <td>run_4_P2-01A.ATGGTAACTTAGCCGGTACC</td>\n",
       "      <td>yes</td>\n",
       "      <td>E8.5</td>\n",
       "      <td>embryo_12</td>\n",
       "      <td>run_4</td>\n",
       "      <td>0</td>\n",
       "    </tr>\n",
       "    <tr>\n",
       "      <th>run_4_P2-01A.CCGACCAATTTGCGAGGCA-0-0</th>\n",
       "      <td>run_4_P2-01A.CCGACCAATTTGCGAGGCA</td>\n",
       "      <td>yes</td>\n",
       "      <td>E8.5</td>\n",
       "      <td>embryo_8</td>\n",
       "      <td>run_4</td>\n",
       "      <td>0</td>\n",
       "    </tr>\n",
       "    <tr>\n",
       "      <th>run_4_P2-01A.ATGCTTCCTAATGCCGCTT-0-0</th>\n",
       "      <td>run_4_P2-01A.ATGCTTCCTAATGCCGCTT</td>\n",
       "      <td>yes</td>\n",
       "      <td>E8.5</td>\n",
       "      <td>embryo_9</td>\n",
       "      <td>run_4</td>\n",
       "      <td>0</td>\n",
       "    </tr>\n",
       "    <tr>\n",
       "      <th>...</th>\n",
       "      <td>...</td>\n",
       "      <td>...</td>\n",
       "      <td>...</td>\n",
       "      <td>...</td>\n",
       "      <td>...</td>\n",
       "      <td>...</td>\n",
       "    </tr>\n",
       "    <tr>\n",
       "      <th>run_25_PD-12H_S384.AAATCGTTCTCAAGTCGACC-1-12-1</th>\n",
       "      <td>run_25_PD-12H_S384.AAATCGTTCTCAAGTCGACC</td>\n",
       "      <td>yes</td>\n",
       "      <td>P0</td>\n",
       "      <td>embryo_74</td>\n",
       "      <td>run_25</td>\n",
       "      <td>1</td>\n",
       "    </tr>\n",
       "    <tr>\n",
       "      <th>run_25_PD-12H_S384.CTGCTGAATTCGCGGTTGG-1-12-1</th>\n",
       "      <td>run_25_PD-12H_S384.CTGCTGAATTCGCGGTTGG</td>\n",
       "      <td>yes</td>\n",
       "      <td>P0</td>\n",
       "      <td>embryo_74</td>\n",
       "      <td>run_25</td>\n",
       "      <td>1</td>\n",
       "    </tr>\n",
       "    <tr>\n",
       "      <th>run_25_PD-12H_S384.TTAATGAGCTTCGGCCTTAC-1-12-1</th>\n",
       "      <td>run_25_PD-12H_S384.TTAATGAGCTTCGGCCTTAC</td>\n",
       "      <td>yes</td>\n",
       "      <td>P0</td>\n",
       "      <td>embryo_74</td>\n",
       "      <td>run_25</td>\n",
       "      <td>1</td>\n",
       "    </tr>\n",
       "    <tr>\n",
       "      <th>run_25_PD-12H_S384.ATATCCTACTTTATTCATTC-1-12-1</th>\n",
       "      <td>run_25_PD-12H_S384.ATATCCTACTTTATTCATTC</td>\n",
       "      <td>yes</td>\n",
       "      <td>P0</td>\n",
       "      <td>embryo_74</td>\n",
       "      <td>run_25</td>\n",
       "      <td>1</td>\n",
       "    </tr>\n",
       "    <tr>\n",
       "      <th>run_25_PD-12H_S384.ACCTCAATATACCGGAATTA-1-12-1</th>\n",
       "      <td>run_25_PD-12H_S384.ACCTCAATATACCGGAATTA</td>\n",
       "      <td>yes</td>\n",
       "      <td>P0</td>\n",
       "      <td>embryo_74</td>\n",
       "      <td>run_25</td>\n",
       "      <td>1</td>\n",
       "    </tr>\n",
       "  </tbody>\n",
       "</table>\n",
       "<p>11441407 rows × 6 columns</p>\n",
       "</div>"
      ],
      "text/plain": [
       "                                                                                cell_id  \\\n",
       "run_4_P2-01A.ATTCAAGCATGTTACGCAAG-0-0                 run_4_P2-01A.ATTCAAGCATGTTACGCAAG   \n",
       "run_4_P2-01A.CCGTCGATTTTATTCTGAG-0-0                   run_4_P2-01A.CCGTCGATTTTATTCTGAG   \n",
       "run_4_P2-01A.ATGGTAACTTAGCCGGTACC-0-0                 run_4_P2-01A.ATGGTAACTTAGCCGGTACC   \n",
       "run_4_P2-01A.CCGACCAATTTGCGAGGCA-0-0                   run_4_P2-01A.CCGACCAATTTGCGAGGCA   \n",
       "run_4_P2-01A.ATGCTTCCTAATGCCGCTT-0-0                   run_4_P2-01A.ATGCTTCCTAATGCCGCTT   \n",
       "...                                                                                 ...   \n",
       "run_25_PD-12H_S384.AAATCGTTCTCAAGTCGACC-1-12-1  run_25_PD-12H_S384.AAATCGTTCTCAAGTCGACC   \n",
       "run_25_PD-12H_S384.CTGCTGAATTCGCGGTTGG-1-12-1    run_25_PD-12H_S384.CTGCTGAATTCGCGGTTGG   \n",
       "run_25_PD-12H_S384.TTAATGAGCTTCGGCCTTAC-1-12-1  run_25_PD-12H_S384.TTAATGAGCTTCGGCCTTAC   \n",
       "run_25_PD-12H_S384.ATATCCTACTTTATTCATTC-1-12-1  run_25_PD-12H_S384.ATATCCTACTTTATTCATTC   \n",
       "run_25_PD-12H_S384.ACCTCAATATACCGGAATTA-1-12-1  run_25_PD-12H_S384.ACCTCAATATACCGGAATTA   \n",
       "\n",
       "                                               keep   day  embryo_id  \\\n",
       "run_4_P2-01A.ATTCAAGCATGTTACGCAAG-0-0           yes  E8.5  embryo_11   \n",
       "run_4_P2-01A.CCGTCGATTTTATTCTGAG-0-0            yes  E8.5  embryo_12   \n",
       "run_4_P2-01A.ATGGTAACTTAGCCGGTACC-0-0           yes  E8.5  embryo_12   \n",
       "run_4_P2-01A.CCGACCAATTTGCGAGGCA-0-0            yes  E8.5   embryo_8   \n",
       "run_4_P2-01A.ATGCTTCCTAATGCCGCTT-0-0            yes  E8.5   embryo_9   \n",
       "...                                             ...   ...        ...   \n",
       "run_25_PD-12H_S384.AAATCGTTCTCAAGTCGACC-1-12-1  yes    P0  embryo_74   \n",
       "run_25_PD-12H_S384.CTGCTGAATTCGCGGTTGG-1-12-1   yes    P0  embryo_74   \n",
       "run_25_PD-12H_S384.TTAATGAGCTTCGGCCTTAC-1-12-1  yes    P0  embryo_74   \n",
       "run_25_PD-12H_S384.ATATCCTACTTTATTCATTC-1-12-1  yes    P0  embryo_74   \n",
       "run_25_PD-12H_S384.ACCTCAATATACCGGAATTA-1-12-1  yes    P0  embryo_74   \n",
       "\n",
       "                                               experimental_batch batch  \n",
       "run_4_P2-01A.ATTCAAGCATGTTACGCAAG-0-0                       run_4     0  \n",
       "run_4_P2-01A.CCGTCGATTTTATTCTGAG-0-0                        run_4     0  \n",
       "run_4_P2-01A.ATGGTAACTTAGCCGGTACC-0-0                       run_4     0  \n",
       "run_4_P2-01A.CCGACCAATTTGCGAGGCA-0-0                        run_4     0  \n",
       "run_4_P2-01A.ATGCTTCCTAATGCCGCTT-0-0                        run_4     0  \n",
       "...                                                           ...   ...  \n",
       "run_25_PD-12H_S384.AAATCGTTCTCAAGTCGACC-1-12-1             run_25     1  \n",
       "run_25_PD-12H_S384.CTGCTGAATTCGCGGTTGG-1-12-1              run_25     1  \n",
       "run_25_PD-12H_S384.TTAATGAGCTTCGGCCTTAC-1-12-1             run_25     1  \n",
       "run_25_PD-12H_S384.ATATCCTACTTTATTCATTC-1-12-1             run_25     1  \n",
       "run_25_PD-12H_S384.ACCTCAATATACCGGAATTA-1-12-1             run_25     1  \n",
       "\n",
       "[11441407 rows x 6 columns]"
      ]
     },
     "execution_count": 12,
     "metadata": {},
     "output_type": "execute_result"
    }
   ],
   "source": [
    "from anndata.experimental.multi_files import AnnCollection\n",
    "data = AnnCollection([data1, data2], join_obs='inner')\n",
    "adata.obs = data.obs\n",
    "del data"
   ]
  },
  {
   "cell_type": "code",
   "execution_count": null,
   "id": "63d94402-080b-4b29-a46b-fd15d462efc0",
   "metadata": {},
   "outputs": [],
   "source": [
    "adata.var_names = data1.var_names\n",
    "adata.var_names\n",
    "del data1, data2"
   ]
  },
  {
   "cell_type": "code",
   "execution_count": 15,
   "id": "68e4927e-848a-49c1-9a18-f949436b17dc",
   "metadata": {},
   "outputs": [],
   "source": [
    "meta = pd.read_csv('/lustre/groups/ml01/workspace/monge_velo/data/mouse_gastrulation_atlas/df_cell.csv')\n",
    "adata.obs['cell_cluster'] = pd.Categorical(\n",
    "    adata.obs.cell_id.to_frame().merge(meta, on='cell_id')['major_trajectory']\n",
    ")\n",
    "\n",
    "adata.obs['celltype'] = pd.Categorical(\n",
    "    adata.obs.cell_id.to_frame().merge(meta, on='cell_id')['celltype_update']\n",
    ")"
   ]
  },
  {
   "cell_type": "code",
   "execution_count": 16,
   "id": "69128c59-87c7-4b5d-b05f-2f6bdcad2e51",
   "metadata": {},
   "outputs": [
    {
     "data": {
      "text/plain": [
       "AnnData object with n_obs × n_vars = 11441407 × 24552\n",
       "    obs: 'cell_id', 'keep', 'day', 'embryo_id', 'experimental_batch', 'batch', 'cell_cluster', 'celltype', 'cellcluster_moscot'"
      ]
     },
     "execution_count": 16,
     "metadata": {},
     "output_type": "execute_result"
    }
   ],
   "source": [
    "Notochord = ['Notochord', 'Ciliated nodal cells']\n",
    "Gut = ['Gut', 'Foregut epithelial cells', 'Pancreatic islets', 'Pancreatic acinar cells', 'Biliary epithelial cells']\n",
    "Intermediate_mesoderm_and_kidney = ['Anterior intermediate mesoderm', \n",
    "                                    'Posterior intermediate mesoderm', 'Ureteric bud', 'Metanephric mesenchyme',\n",
    "                                    'Collecting duct principal cells', 'Nephron progenitors',\n",
    "                                    'Distal convoluted tubule', 'Ascending loop of Henle',\n",
    "                                    'Podocytes', 'Proximal tubule cells', 'Connecting tubule', \n",
    "                                    'Collecting duct intercalated cells'\n",
    "                                   ]\n",
    "Eye_and_other = ['Naive retinal progenitor cells', 'Retinal progenitor cells', 'Ciliary margin cells', \n",
    "                 'Suprachiasmatic nucleus', 'Bipolar precursor cells', 'Photoreceptor precursor cells', \n",
    "                 'Rod precursor cells', 'Cone precursor cells'\n",
    "                ]\n",
    "Epithelial_cells = ['Placodal area', 'Olfactory epithelial cells', 'Olfactory bulb cells', 'Thyroid gland cells',\n",
    "                    'Olfactory pit cells', 'Pituitary/Pineal gland progenitors', 'Thymic epithelial cells',\n",
    "                    'Basal keratinocytes', 'Apical ectodermal ridge', 'Granular keratinocytes',\n",
    "                    'Lens epithelial cells', 'Branchial arch epithelium', 'Conjunctival goblet cells',\n",
    "                    'Corneal epithelial cells', 'Bladder urothelial cells', 'Parathyroid epithelial cells',\n",
    "                    'Tooth junctional epithelium', 'Dental epithelial cells', 'Amniotic ectoderm', \n",
    "                    'Pre-epidermal keratinocytes', 'Otic epithelial cells'\n",
    "                   ]\n",
    "Glands = ['Nonsensory cochlear epithelium', 'Pineal gland', 'Pituitary gland cells', 'Cochlear hair cells']\n",
    "Mesoderm = ['Chondrocytes (Atp1a2+)', 'Chondrocytes (Otor+)', 'Dermatome', 'Dermomyotome', 'Early chondrocytes',\n",
    "            'Facial mesenchyme', 'Fibroblasts', 'Lateral plate and intermediate mesoderm', \n",
    "            'Limb mesenchyme progenitors', 'Mesodermal progenitors (Tbx6+)', 'Pre-osteoblasts (Sp7+)', 'Sclerotome'\n",
    "           ]\n",
    "Cardiocytes = ['Atrial cardiomyocytes', 'First heart field', 'Second heart field', 'Ventricular cardiomyocytes']\n",
    "Aidpocytes = ['Adipocyte cells (Cyp2e1+)', 'Adipocyte progenitor cells', 'Brown adipocyte cells']\n",
    "Muscle_cells = ['Muscle progenitor cells', 'Muscle progenitor cells (Prdm1+)', 'Myoblasts', 'Myofibroblasts',\n",
    "                'Myotubes'\n",
    "               ]\n",
    "Testis_and_adrenal = ['Adrenocortical cells', 'Leydig cells']\n",
    "Neural_crest_PNS_neurons = ['Dorsal root ganglion neurons', 'Enteric neurons', 'Neural crest (PNS neurons)',\n",
    "                            'Otic sensory neurons', 'Parasympathetic neurons', 'Sympathetic neurons'\n",
    "                           ]\n",
    "Neural_crest_PNS_glia = ['Melanocyte cells', 'Myelinating Schwann cells', 'Myelinating Schwann cells (Tgfb2+)',\n",
    "                         'Neural crest (PNS glia)', 'Olfactory ensheathing cells', 'Satellite glial cells'\n",
    "                        ]\n",
    "Olfactory_sensory_neurons = ['Corticofugal neurons', 'Olfactory sensory neurons']\n",
    "Neuroectoderm_and_glia = ['Anterior floor plate', 'Anterior roof plate', 'Astrocytes', 'Diencephalon',\n",
    "                          'Cerebellum-related cells', 'Dorsal telencephalon', 'Eye field', 'Floorplate and p3 domain',\n",
    "                          'Hindbrain', 'Hypothalamus', 'Hypothalamus (Sim1+)', 'Midbrain', \n",
    "                          'Midbrain-hindbrain boundary', 'Multiciliated ependymal cells', \n",
    "                          'NMPs and spinal cord progenitors', 'Posterior roof plate', 'Retinal pigment cells', \n",
    "                          'Spinal cord/r7/r8', 'Telencephalon'\n",
    "                         ]\n",
    "CNS_neurons = ['Amacrine cells', 'Amacrine/Horizontal precursor cells', 'Cajal-Retzius cells', \n",
    "               'Cerebellar Purkinje cells', 'Cholinergic amacrine cells', 'Cranial motor neurons', \n",
    "               'GABAergic cortical interneurons', 'GABAergic neurons', 'Glutamatergic neurons', 'Horizontal cells',\n",
    "               'Neural progenitor cells (Neurod1+)', 'Neural progenitor cells (Ror1+)', 'Neurons (Slc17a8+)',\n",
    "               'PV-containing retinal ganglion cells', 'Retinal ganglion cells', 'Spinal cord dorsal progenitors', \n",
    "               'Spinal cord motor neurons', 'Spinal cord ventral progenitors', 'Thalamic neuronal precursors'\n",
    "              ]\n",
    "Ependymal_cells = ['Choroid plexus', 'Ependymal cells']\n",
    "Olidendrocytes = ['Committed oligodendrocyte precursors', 'Oligodendrocyte progenitor cells']\n",
    "Intermediate_neuronal_progenitors = ['Cortical Interneurons (Prox1+)', 'Deep-layer neurons', \n",
    "                                     'Intermediate neuronal progenitors', 'Subplate neurons', 'Upper-layer neurons'\n",
    "                                    ]\n",
    "Endothelium = ['Arterial endothelial cells', 'Brain capillary endothelial cells', 'Brain pericytes', \n",
    "               'Endocardial cells', 'Endothelium', 'Glomerular endothelial cells', 'Hematoendothelial progenitors',\n",
    "               'Liver sinusoidal endothelial cells', 'Lymphatic vessel endothelial cells',\n",
    "               'Microvascular endothelial cells', 'Pericytes', 'Venous and capillary endothelial cells'\n",
    "              ]\n",
    "Definitive_erythroid = ['Definitive early erythroblasts (CD36-)', 'Definitive erythroblasts (CD36+)']\n",
    "B_cells = ['B cell progenitors', 'B cells']\n",
    "Hepatocytes = ['Hepatocytes']\n",
    "Intestine = ['Intestinal enteroendocrine cells', 'Intestinal goblet cells', 'Midgut/Hindgut epithelial cells']\n",
    "Lung_and_airways = ['Airway club cells', 'Airway goblet cells', 'Alveolar Type 1 cells', 'Alveolar Type 2 cells',\n",
    "                    'Lung cells (Eln+)', 'Lung progenitor cells'\n",
    "                   ]\n",
    "Mast_cells = ['Mast cells', 'Mast cells (P2rx7+)']\n",
    "Megakaryocytes = ['Megakaryocytes']\n",
    "Primitive_erythroid = ['Primitive erythroid cells']\n",
    "T_cells = ['Activated T cells', 'Natural killer cells', 'Regulatory T cells', 'T cells']\n",
    "White_blood_cells = ['Adipose tissue macrophages', 'Border-associated macrophages', \n",
    "                     'Border-associated macrophages (Cd74+)', 'Border-associated macrophages (Ms4a8a+)',\n",
    "                     'Conventional dendritic cells', 'Granulocytes', 'Hematopoietic stem cells (Cd34+)',\n",
    "                     'Hematopoietic stem cells (Mpo+)', 'Kupffer cells', 'Microglia', 'Monocytes', \n",
    "                     'Monocytic myeloid-derived suppressor cells', 'Osteoclasts', \n",
    "                     'PMN myeloid-derived suppressor cells', 'Plasmacytoid dendritic cells'\n",
    "                    ]\n",
    "Extraembryonic_visceral_endoderm = ['Extraembryonic visceral endoderm']\n",
    "Primordial_germ_cells = ['Primordial germ cells']\n",
    "\n",
    "liste1 = ['Notochord','Gut','Intermediate_mesoderm_and_kidney','Eye_and_other','Epithelial_cells','Glands','Mesoderm','Cardiocytes','Aidpocytes','Muscle_cells','Testis_and_adrenal','Neural_crest_PNS_neurons','Neural_crest_PNS_glia','Olfactory_sensory_neurons','Neuroectoderm_and_glia','CNS_neurons','Ependymal_cells','Olidendrocytes','Intermediate_neuronal_progenitors','Endothelium','Definitive_erythroid','B_cells','Hepatocytes','Intestine','Lung_and_airways','Mast_cells','Megakaryocytes','Primitive_erythroid','T_cells','White_blood_cells','Extraembryonic_visceral_endoderm','Primordial_germ_cells']\n",
    "liste2 = [Notochord,Gut,Intermediate_mesoderm_and_kidney,Eye_and_other,Epithelial_cells,Glands,Mesoderm,Cardiocytes,Aidpocytes,Muscle_cells,Testis_and_adrenal,Neural_crest_PNS_neurons,Neural_crest_PNS_glia,Olfactory_sensory_neurons,Neuroectoderm_and_glia,CNS_neurons,Ependymal_cells,Olidendrocytes,Intermediate_neuronal_progenitors,Endothelium,Definitive_erythroid,B_cells,Hepatocytes,Intestine,Lung_and_airways,Mast_cells,Megakaryocytes,Primitive_erythroid,T_cells,White_blood_cells,Extraembryonic_visceral_endoderm,Primordial_germ_cells]\n",
    "\n",
    "dic = {}\n",
    "\n",
    "for i in range(len(liste1)):\n",
    "    for celltype in liste2[i]:\n",
    "        dic[celltype] = liste1[i]\n",
    "\n",
    "adata.obs['cellcluster_moscot'] = pd.Categorical(\n",
    "    [dic[celltype] for celltype in adata.obs['celltype']]\n",
    ")\n",
    "adata"
   ]
  },
  {
   "cell_type": "code",
   "execution_count": 24,
   "id": "f6721fbd-f079-4b7b-8ff6-27bc3e456ae5",
   "metadata": {},
   "outputs": [
    {
     "data": {
      "text/plain": [
       "AnnData object with n_obs × n_vars = 11441407 × 24552\n",
       "    obs: 'cell_id', 'keep', 'day', 'embryo_id', 'experimental_batch', 'batch', 'cell_cluster', 'celltype', 'cellcluster_moscot'\n",
       "    var: 'gene_type', 'celltype', 'chr'"
      ]
     },
     "execution_count": 24,
     "metadata": {},
     "output_type": "execute_result"
    }
   ],
   "source": [
    "meta_genes = pd.read_csv('/lustre/groups/ml01/workspace/monge_velo/data/mouse_gastrulation_atlas/df_gene.csv')\n",
    "adata.var['gene_type'] = pd.Categorical(\n",
    "    adata.var_names.to_frame(name='gene_id').merge(meta_genes, on='gene_id')['gene_type']\n",
    ")\n",
    "\n",
    "adata.var['celltype'] = pd.Categorical(\n",
    "    adata.var_names.to_frame(name='gene_id').merge(meta_genes, on='gene_id')['gene_short_name']\n",
    ")\n",
    "\n",
    "adata.var['chr'] = pd.Categorical(\n",
    "    adata.var_names.to_frame(name='gene_id').merge(meta_genes, on='gene_id')['chr']\n",
    ")\n",
    "adata"
   ]
  },
  {
   "cell_type": "code",
   "execution_count": 27,
   "id": "3d2441ae-62fa-4755-97ee-777160aef2b9",
   "metadata": {},
   "outputs": [
    {
     "data": {
      "text/html": [
       "<table>\n",
       "    <tr>\n",
       "        <td>\n",
       "            <table style=\"border-collapse: collapse;\">\n",
       "                <thead>\n",
       "                    <tr>\n",
       "                        <td> </td>\n",
       "                        <th> Array </th>\n",
       "                        <th> Chunk </th>\n",
       "                    </tr>\n",
       "                </thead>\n",
       "                <tbody>\n",
       "                    \n",
       "                    <tr>\n",
       "                        <th> Bytes </th>\n",
       "                        <td> 1.02 TiB </td>\n",
       "                        <td> 3.77 GiB </td>\n",
       "                    </tr>\n",
       "                    \n",
       "                    <tr>\n",
       "                        <th> Shape </th>\n",
       "                        <td> (11441407, 24552) </td>\n",
       "                        <td> (41229, 24552) </td>\n",
       "                    </tr>\n",
       "                    <tr>\n",
       "                        <th> Dask graph </th>\n",
       "                        <td colspan=\"2\"> 297 chunks in 597 graph layers </td>\n",
       "                    </tr>\n",
       "                    <tr>\n",
       "                        <th> Data type </th>\n",
       "                        <td colspan=\"2\"> float32 numpy.ndarray </td>\n",
       "                    </tr>\n",
       "                </tbody>\n",
       "            </table>\n",
       "        </td>\n",
       "        <td>\n",
       "        <svg width=\"75\" height=\"170\" style=\"stroke:rgb(0,0,0);stroke-width:1\" >\n",
       "\n",
       "  <!-- Horizontal lines -->\n",
       "  <line x1=\"0\" y1=\"0\" x2=\"25\" y2=\"0\" style=\"stroke-width:2\" />\n",
       "  <line x1=\"0\" y1=\"6\" x2=\"25\" y2=\"6\" />\n",
       "  <line x1=\"0\" y1=\"13\" x2=\"25\" y2=\"13\" />\n",
       "  <line x1=\"0\" y1=\"19\" x2=\"25\" y2=\"19\" />\n",
       "  <line x1=\"0\" y1=\"26\" x2=\"25\" y2=\"26\" />\n",
       "  <line x1=\"0\" y1=\"33\" x2=\"25\" y2=\"33\" />\n",
       "  <line x1=\"0\" y1=\"40\" x2=\"25\" y2=\"40\" />\n",
       "  <line x1=\"0\" y1=\"47\" x2=\"25\" y2=\"47\" />\n",
       "  <line x1=\"0\" y1=\"54\" x2=\"25\" y2=\"54\" />\n",
       "  <line x1=\"0\" y1=\"60\" x2=\"25\" y2=\"60\" />\n",
       "  <line x1=\"0\" y1=\"66\" x2=\"25\" y2=\"66\" />\n",
       "  <line x1=\"0\" y1=\"71\" x2=\"25\" y2=\"71\" />\n",
       "  <line x1=\"0\" y1=\"78\" x2=\"25\" y2=\"78\" />\n",
       "  <line x1=\"0\" y1=\"84\" x2=\"25\" y2=\"84\" />\n",
       "  <line x1=\"0\" y1=\"89\" x2=\"25\" y2=\"89\" />\n",
       "  <line x1=\"0\" y1=\"95\" x2=\"25\" y2=\"95\" />\n",
       "  <line x1=\"0\" y1=\"102\" x2=\"25\" y2=\"102\" />\n",
       "  <line x1=\"0\" y1=\"107\" x2=\"25\" y2=\"107\" />\n",
       "  <line x1=\"0\" y1=\"113\" x2=\"25\" y2=\"113\" />\n",
       "  <line x1=\"0\" y1=\"120\" x2=\"25\" y2=\"120\" style=\"stroke-width:2\" />\n",
       "\n",
       "  <!-- Vertical lines -->\n",
       "  <line x1=\"0\" y1=\"0\" x2=\"0\" y2=\"120\" style=\"stroke-width:2\" />\n",
       "  <line x1=\"25\" y1=\"0\" x2=\"25\" y2=\"120\" style=\"stroke-width:2\" />\n",
       "\n",
       "  <!-- Colored Rectangle -->\n",
       "  <polygon points=\"0.0,0.0 25.41261651458249,0.0 25.41261651458249,120.0 0.0,120.0\" style=\"fill:#8B4903A0;stroke-width:0\"/>\n",
       "\n",
       "  <!-- Text -->\n",
       "  <text x=\"12.706308\" y=\"140.000000\" font-size=\"1.0rem\" font-weight=\"100\" text-anchor=\"middle\" >24552</text>\n",
       "  <text x=\"45.412617\" y=\"60.000000\" font-size=\"1.0rem\" font-weight=\"100\" text-anchor=\"middle\" transform=\"rotate(-90,45.412617,60.000000)\">11441407</text>\n",
       "</svg>\n",
       "        </td>\n",
       "    </tr>\n",
       "</table>"
      ],
      "text/plain": [
       "dask.array<concatenate, shape=(11441407, 24552), dtype=float32, chunksize=(41229, 24552), chunktype=numpy.ndarray>"
      ]
     },
     "execution_count": 27,
     "metadata": {},
     "output_type": "execute_result"
    }
   ],
   "source": [
    "adata.X"
   ]
  },
  {
   "cell_type": "code",
   "execution_count": 25,
   "id": "80a5361f-4633-4b70-813b-1725ed1685b2",
   "metadata": {
    "scrolled": true
   },
   "outputs": [
    {
     "ename": "TypeError",
     "evalue": "Can't broadcast (36388, 24552) -> (41229, 24552)\n\nAbove error raised while writing key 'X' of <class 'h5py._hl.group.Group'> to /",
     "output_type": "error",
     "traceback": [
      "\u001b[0;31m---------------------------------------------------------------------------\u001b[0m",
      "\u001b[0;31mTypeError\u001b[0m                                 Traceback (most recent call last)",
      "File \u001b[0;32m~/mambaforge/envs/atlas_pca/lib/python3.10/site-packages/anndata/_io/utils.py:246\u001b[0m, in \u001b[0;36mreport_write_key_on_error.<locals>.func_wrapper\u001b[0;34m(*args, **kwargs)\u001b[0m\n\u001b[1;32m    245\u001b[0m \u001b[38;5;28;01mtry\u001b[39;00m:\n\u001b[0;32m--> 246\u001b[0m     \u001b[38;5;28;01mreturn\u001b[39;00m \u001b[43mfunc\u001b[49m\u001b[43m(\u001b[49m\u001b[38;5;241;43m*\u001b[39;49m\u001b[43margs\u001b[49m\u001b[43m,\u001b[49m\u001b[43m \u001b[49m\u001b[38;5;241;43m*\u001b[39;49m\u001b[38;5;241;43m*\u001b[39;49m\u001b[43mkwargs\u001b[49m\u001b[43m)\u001b[49m\n\u001b[1;32m    247\u001b[0m \u001b[38;5;28;01mexcept\u001b[39;00m \u001b[38;5;167;01mException\u001b[39;00m \u001b[38;5;28;01mas\u001b[39;00m e:\n",
      "File \u001b[0;32m~/mambaforge/envs/atlas_pca/lib/python3.10/site-packages/anndata/_io/specs/registry.py:311\u001b[0m, in \u001b[0;36mWriter.write_elem\u001b[0;34m(self, store, k, elem, dataset_kwargs, modifiers)\u001b[0m\n\u001b[1;32m    310\u001b[0m \u001b[38;5;28;01melse\u001b[39;00m:\n\u001b[0;32m--> 311\u001b[0m     \u001b[38;5;28;01mreturn\u001b[39;00m \u001b[43mwrite_func\u001b[49m\u001b[43m(\u001b[49m\u001b[43mstore\u001b[49m\u001b[43m,\u001b[49m\u001b[43m \u001b[49m\u001b[43mk\u001b[49m\u001b[43m,\u001b[49m\u001b[43m \u001b[49m\u001b[43melem\u001b[49m\u001b[43m,\u001b[49m\u001b[43m \u001b[49m\u001b[43mdataset_kwargs\u001b[49m\u001b[38;5;241;43m=\u001b[39;49m\u001b[43mdataset_kwargs\u001b[49m\u001b[43m)\u001b[49m\n",
      "File \u001b[0;32m~/mambaforge/envs/atlas_pca/lib/python3.10/site-packages/anndata/_io/specs/registry.py:52\u001b[0m, in \u001b[0;36mwrite_spec.<locals>.decorator.<locals>.wrapper\u001b[0;34m(g, k, *args, **kwargs)\u001b[0m\n\u001b[1;32m     50\u001b[0m \u001b[38;5;129m@wraps\u001b[39m(func)\n\u001b[1;32m     51\u001b[0m \u001b[38;5;28;01mdef\u001b[39;00m \u001b[38;5;21mwrapper\u001b[39m(g, k, \u001b[38;5;241m*\u001b[39margs, \u001b[38;5;241m*\u001b[39m\u001b[38;5;241m*\u001b[39mkwargs):\n\u001b[0;32m---> 52\u001b[0m     result \u001b[38;5;241m=\u001b[39m \u001b[43mfunc\u001b[49m\u001b[43m(\u001b[49m\u001b[43mg\u001b[49m\u001b[43m,\u001b[49m\u001b[43m \u001b[49m\u001b[43mk\u001b[49m\u001b[43m,\u001b[49m\u001b[43m \u001b[49m\u001b[38;5;241;43m*\u001b[39;49m\u001b[43margs\u001b[49m\u001b[43m,\u001b[49m\u001b[43m \u001b[49m\u001b[38;5;241;43m*\u001b[39;49m\u001b[38;5;241;43m*\u001b[39;49m\u001b[43mkwargs\u001b[49m\u001b[43m)\u001b[49m\n\u001b[1;32m     53\u001b[0m     g[k]\u001b[38;5;241m.\u001b[39mattrs\u001b[38;5;241m.\u001b[39msetdefault(\u001b[38;5;124m\"\u001b[39m\u001b[38;5;124mencoding-type\u001b[39m\u001b[38;5;124m\"\u001b[39m, spec\u001b[38;5;241m.\u001b[39mencoding_type)\n",
      "File \u001b[0;32m~/mambaforge/envs/atlas_pca/lib/python3.10/site-packages/anndata/_io/specs/methods.py:316\u001b[0m, in \u001b[0;36mwrite_basic_dask\u001b[0;34m(f, k, elem, _writer, dataset_kwargs)\u001b[0m\n\u001b[1;32m    315\u001b[0m g \u001b[38;5;241m=\u001b[39m f\u001b[38;5;241m.\u001b[39mrequire_dataset(k, shape\u001b[38;5;241m=\u001b[39melem\u001b[38;5;241m.\u001b[39mshape, dtype\u001b[38;5;241m=\u001b[39melem\u001b[38;5;241m.\u001b[39mdtype, \u001b[38;5;241m*\u001b[39m\u001b[38;5;241m*\u001b[39mdataset_kwargs)\n\u001b[0;32m--> 316\u001b[0m \u001b[43mda\u001b[49m\u001b[38;5;241;43m.\u001b[39;49m\u001b[43mstore\u001b[49m\u001b[43m(\u001b[49m\u001b[43melem\u001b[49m\u001b[43m,\u001b[49m\u001b[43m \u001b[49m\u001b[43mg\u001b[49m\u001b[43m)\u001b[49m\n",
      "File \u001b[0;32m~/mambaforge/envs/atlas_pca/lib/python3.10/site-packages/dask/array/core.py:1235\u001b[0m, in \u001b[0;36mstore\u001b[0;34m(***failed resolving arguments***)\u001b[0m\n\u001b[1;32m   1234\u001b[0m store_dsk \u001b[38;5;241m=\u001b[39m HighLevelGraph(layers, dependencies)\n\u001b[0;32m-> 1235\u001b[0m \u001b[43mcompute_as_if_collection\u001b[49m\u001b[43m(\u001b[49m\u001b[43mArray\u001b[49m\u001b[43m,\u001b[49m\u001b[43m \u001b[49m\u001b[43mstore_dsk\u001b[49m\u001b[43m,\u001b[49m\u001b[43m \u001b[49m\u001b[43mmap_keys\u001b[49m\u001b[43m,\u001b[49m\u001b[43m \u001b[49m\u001b[38;5;241;43m*\u001b[39;49m\u001b[38;5;241;43m*\u001b[39;49m\u001b[43mkwargs\u001b[49m\u001b[43m)\u001b[49m\n\u001b[1;32m   1236\u001b[0m \u001b[38;5;28;01mreturn\u001b[39;00m \u001b[38;5;28;01mNone\u001b[39;00m\n",
      "File \u001b[0;32m~/mambaforge/envs/atlas_pca/lib/python3.10/site-packages/dask/base.py:408\u001b[0m, in \u001b[0;36mcompute_as_if_collection\u001b[0;34m(cls, dsk, keys, scheduler, get, **kwargs)\u001b[0m\n\u001b[1;32m    407\u001b[0m dsk2 \u001b[38;5;241m=\u001b[39m optimization_function(\u001b[38;5;28mcls\u001b[39m)(dsk, keys, \u001b[38;5;241m*\u001b[39m\u001b[38;5;241m*\u001b[39mkwargs)\n\u001b[0;32m--> 408\u001b[0m \u001b[38;5;28;01mreturn\u001b[39;00m \u001b[43mschedule\u001b[49m\u001b[43m(\u001b[49m\u001b[43mdsk2\u001b[49m\u001b[43m,\u001b[49m\u001b[43m \u001b[49m\u001b[43mkeys\u001b[49m\u001b[43m,\u001b[49m\u001b[43m \u001b[49m\u001b[38;5;241;43m*\u001b[39;49m\u001b[38;5;241;43m*\u001b[39;49m\u001b[43mkwargs\u001b[49m\u001b[43m)\u001b[49m\n",
      "File \u001b[0;32m~/mambaforge/envs/atlas_pca/lib/python3.10/site-packages/dask/threaded.py:89\u001b[0m, in \u001b[0;36mget\u001b[0;34m(dsk, keys, cache, num_workers, pool, **kwargs)\u001b[0m\n\u001b[1;32m     87\u001b[0m         pool \u001b[38;5;241m=\u001b[39m MultiprocessingPoolExecutor(pool)\n\u001b[0;32m---> 89\u001b[0m results \u001b[38;5;241m=\u001b[39m \u001b[43mget_async\u001b[49m\u001b[43m(\u001b[49m\n\u001b[1;32m     90\u001b[0m \u001b[43m    \u001b[49m\u001b[43mpool\u001b[49m\u001b[38;5;241;43m.\u001b[39;49m\u001b[43msubmit\u001b[49m\u001b[43m,\u001b[49m\n\u001b[1;32m     91\u001b[0m \u001b[43m    \u001b[49m\u001b[43mpool\u001b[49m\u001b[38;5;241;43m.\u001b[39;49m\u001b[43m_max_workers\u001b[49m\u001b[43m,\u001b[49m\n\u001b[1;32m     92\u001b[0m \u001b[43m    \u001b[49m\u001b[43mdsk\u001b[49m\u001b[43m,\u001b[49m\n\u001b[1;32m     93\u001b[0m \u001b[43m    \u001b[49m\u001b[43mkeys\u001b[49m\u001b[43m,\u001b[49m\n\u001b[1;32m     94\u001b[0m \u001b[43m    \u001b[49m\u001b[43mcache\u001b[49m\u001b[38;5;241;43m=\u001b[39;49m\u001b[43mcache\u001b[49m\u001b[43m,\u001b[49m\n\u001b[1;32m     95\u001b[0m \u001b[43m    \u001b[49m\u001b[43mget_id\u001b[49m\u001b[38;5;241;43m=\u001b[39;49m\u001b[43m_thread_get_id\u001b[49m\u001b[43m,\u001b[49m\n\u001b[1;32m     96\u001b[0m \u001b[43m    \u001b[49m\u001b[43mpack_exception\u001b[49m\u001b[38;5;241;43m=\u001b[39;49m\u001b[43mpack_exception\u001b[49m\u001b[43m,\u001b[49m\n\u001b[1;32m     97\u001b[0m \u001b[43m    \u001b[49m\u001b[38;5;241;43m*\u001b[39;49m\u001b[38;5;241;43m*\u001b[39;49m\u001b[43mkwargs\u001b[49m\u001b[43m,\u001b[49m\n\u001b[1;32m     98\u001b[0m \u001b[43m\u001b[49m\u001b[43m)\u001b[49m\n\u001b[1;32m    100\u001b[0m \u001b[38;5;66;03m# Cleanup pools associated to dead threads\u001b[39;00m\n",
      "File \u001b[0;32m~/mambaforge/envs/atlas_pca/lib/python3.10/site-packages/dask/local.py:511\u001b[0m, in \u001b[0;36mget_async\u001b[0;34m(submit, num_workers, dsk, result, cache, get_id, rerun_exceptions_locally, pack_exception, raise_exception, callbacks, dumps, loads, chunksize, **kwargs)\u001b[0m\n\u001b[1;32m    510\u001b[0m     \u001b[38;5;28;01melse\u001b[39;00m:\n\u001b[0;32m--> 511\u001b[0m         \u001b[43mraise_exception\u001b[49m\u001b[43m(\u001b[49m\u001b[43mexc\u001b[49m\u001b[43m,\u001b[49m\u001b[43m \u001b[49m\u001b[43mtb\u001b[49m\u001b[43m)\u001b[49m\n\u001b[1;32m    512\u001b[0m res, worker_id \u001b[38;5;241m=\u001b[39m loads(res_info)\n",
      "File \u001b[0;32m~/mambaforge/envs/atlas_pca/lib/python3.10/site-packages/dask/local.py:319\u001b[0m, in \u001b[0;36mreraise\u001b[0;34m(exc, tb)\u001b[0m\n\u001b[1;32m    318\u001b[0m     \u001b[38;5;28;01mraise\u001b[39;00m exc\u001b[38;5;241m.\u001b[39mwith_traceback(tb)\n\u001b[0;32m--> 319\u001b[0m \u001b[38;5;28;01mraise\u001b[39;00m exc\n",
      "File \u001b[0;32m~/mambaforge/envs/atlas_pca/lib/python3.10/site-packages/dask/local.py:224\u001b[0m, in \u001b[0;36mexecute_task\u001b[0;34m(key, task_info, dumps, loads, get_id, pack_exception)\u001b[0m\n\u001b[1;32m    223\u001b[0m task, data \u001b[38;5;241m=\u001b[39m loads(task_info)\n\u001b[0;32m--> 224\u001b[0m result \u001b[38;5;241m=\u001b[39m \u001b[43m_execute_task\u001b[49m\u001b[43m(\u001b[49m\u001b[43mtask\u001b[49m\u001b[43m,\u001b[49m\u001b[43m \u001b[49m\u001b[43mdata\u001b[49m\u001b[43m)\u001b[49m\n\u001b[1;32m    225\u001b[0m \u001b[38;5;28mid\u001b[39m \u001b[38;5;241m=\u001b[39m get_id()\n",
      "File \u001b[0;32m~/mambaforge/envs/atlas_pca/lib/python3.10/site-packages/dask/core.py:121\u001b[0m, in \u001b[0;36m_execute_task\u001b[0;34m(arg, cache, dsk)\u001b[0m\n\u001b[1;32m    118\u001b[0m     \u001b[38;5;66;03m# Note: Don't assign the subtask results to a variable. numpy detects\u001b[39;00m\n\u001b[1;32m    119\u001b[0m     \u001b[38;5;66;03m# temporaries by their reference count and can execute certain\u001b[39;00m\n\u001b[1;32m    120\u001b[0m     \u001b[38;5;66;03m# operations in-place.\u001b[39;00m\n\u001b[0;32m--> 121\u001b[0m     \u001b[38;5;28;01mreturn\u001b[39;00m \u001b[43mfunc\u001b[49m\u001b[43m(\u001b[49m\u001b[38;5;241;43m*\u001b[39;49m\u001b[43m(\u001b[49m\u001b[43m_execute_task\u001b[49m\u001b[43m(\u001b[49m\u001b[43ma\u001b[49m\u001b[43m,\u001b[49m\u001b[43m \u001b[49m\u001b[43mcache\u001b[49m\u001b[43m)\u001b[49m\u001b[43m \u001b[49m\u001b[38;5;28;43;01mfor\u001b[39;49;00m\u001b[43m \u001b[49m\u001b[43ma\u001b[49m\u001b[43m \u001b[49m\u001b[38;5;129;43;01min\u001b[39;49;00m\u001b[43m \u001b[49m\u001b[43margs\u001b[49m\u001b[43m)\u001b[49m\u001b[43m)\u001b[49m\n\u001b[1;32m    122\u001b[0m \u001b[38;5;28;01melif\u001b[39;00m \u001b[38;5;129;01mnot\u001b[39;00m ishashable(arg):\n",
      "File \u001b[0;32m~/mambaforge/envs/atlas_pca/lib/python3.10/site-packages/dask/array/core.py:4396\u001b[0m, in \u001b[0;36mstore_chunk\u001b[0;34m(x, out, index, lock, return_stored)\u001b[0m\n\u001b[1;32m   4393\u001b[0m \u001b[38;5;28;01mdef\u001b[39;00m \u001b[38;5;21mstore_chunk\u001b[39m(\n\u001b[1;32m   4394\u001b[0m     x: ArrayLike, out: ArrayLike, index: \u001b[38;5;28mslice\u001b[39m, lock: Any, return_stored: \u001b[38;5;28mbool\u001b[39m\n\u001b[1;32m   4395\u001b[0m ):\n\u001b[0;32m-> 4396\u001b[0m     \u001b[38;5;28;01mreturn\u001b[39;00m \u001b[43mload_store_chunk\u001b[49m\u001b[43m(\u001b[49m\u001b[43mx\u001b[49m\u001b[43m,\u001b[49m\u001b[43m \u001b[49m\u001b[43mout\u001b[49m\u001b[43m,\u001b[49m\u001b[43m \u001b[49m\u001b[43mindex\u001b[49m\u001b[43m,\u001b[49m\u001b[43m \u001b[49m\u001b[43mlock\u001b[49m\u001b[43m,\u001b[49m\u001b[43m \u001b[49m\u001b[43mreturn_stored\u001b[49m\u001b[43m,\u001b[49m\u001b[43m \u001b[49m\u001b[38;5;28;43;01mFalse\u001b[39;49;00m\u001b[43m)\u001b[49m\n",
      "File \u001b[0;32m~/mambaforge/envs/atlas_pca/lib/python3.10/site-packages/dask/array/core.py:4378\u001b[0m, in \u001b[0;36mload_store_chunk\u001b[0;34m(x, out, index, lock, return_stored, load_stored)\u001b[0m\n\u001b[1;32m   4377\u001b[0m \u001b[38;5;28;01mif\u001b[39;00m is_arraylike(x):\n\u001b[0;32m-> 4378\u001b[0m     out[index] \u001b[38;5;241m=\u001b[39m x\n\u001b[1;32m   4379\u001b[0m \u001b[38;5;28;01melse\u001b[39;00m:\n",
      "File \u001b[0;32mh5py/_objects.pyx:54\u001b[0m, in \u001b[0;36mh5py._objects.with_phil.wrapper\u001b[0;34m()\u001b[0m\n",
      "File \u001b[0;32mh5py/_objects.pyx:55\u001b[0m, in \u001b[0;36mh5py._objects.with_phil.wrapper\u001b[0;34m()\u001b[0m\n",
      "File \u001b[0;32m~/mambaforge/envs/atlas_pca/lib/python3.10/site-packages/h5py/_hl/dataset.py:997\u001b[0m, in \u001b[0;36mDataset.__setitem__\u001b[0;34m(self, args, val)\u001b[0m\n\u001b[1;32m    996\u001b[0m \u001b[38;5;66;03m# Perform the write, with broadcasting\u001b[39;00m\n\u001b[0;32m--> 997\u001b[0m mspace \u001b[38;5;241m=\u001b[39m h5s\u001b[38;5;241m.\u001b[39mcreate_simple(\u001b[43mselection\u001b[49m\u001b[38;5;241;43m.\u001b[39;49m\u001b[43mexpand_shape\u001b[49m\u001b[43m(\u001b[49m\u001b[43mmshape\u001b[49m\u001b[43m)\u001b[49m)\n\u001b[1;32m    998\u001b[0m \u001b[38;5;28;01mfor\u001b[39;00m fspace \u001b[38;5;129;01min\u001b[39;00m selection\u001b[38;5;241m.\u001b[39mbroadcast(mshape):\n",
      "File \u001b[0;32m~/mambaforge/envs/atlas_pca/lib/python3.10/site-packages/h5py/_hl/selections.py:264\u001b[0m, in \u001b[0;36mSimpleSelection.expand_shape\u001b[0;34m(self, source_shape)\u001b[0m\n\u001b[1;32m    263\u001b[0m         \u001b[38;5;28;01melse\u001b[39;00m:\n\u001b[0;32m--> 264\u001b[0m             \u001b[38;5;28;01mraise\u001b[39;00m \u001b[38;5;167;01mTypeError\u001b[39;00m(\u001b[38;5;124m\"\u001b[39m\u001b[38;5;124mCan\u001b[39m\u001b[38;5;124m'\u001b[39m\u001b[38;5;124mt broadcast \u001b[39m\u001b[38;5;132;01m%s\u001b[39;00m\u001b[38;5;124m -> \u001b[39m\u001b[38;5;132;01m%s\u001b[39;00m\u001b[38;5;124m\"\u001b[39m \u001b[38;5;241m%\u001b[39m (source_shape, \u001b[38;5;28mself\u001b[39m\u001b[38;5;241m.\u001b[39marray_shape))  \u001b[38;5;66;03m# array shape\u001b[39;00m\n\u001b[1;32m    266\u001b[0m \u001b[38;5;28;01mif\u001b[39;00m \u001b[38;5;28many\u001b[39m([n \u001b[38;5;241m>\u001b[39m \u001b[38;5;241m1\u001b[39m \u001b[38;5;28;01mfor\u001b[39;00m n \u001b[38;5;129;01min\u001b[39;00m remaining_src_dims]):\n\u001b[1;32m    267\u001b[0m     \u001b[38;5;66;03m# All dimensions from target_shape should either have been popped\u001b[39;00m\n\u001b[1;32m    268\u001b[0m     \u001b[38;5;66;03m# to match the selection shape, or be 1.\u001b[39;00m\n",
      "\u001b[0;31mTypeError\u001b[0m: Can't broadcast (36388, 24552) -> (41229, 24552)",
      "\nThe above exception was the direct cause of the following exception:\n",
      "\u001b[0;31mTypeError\u001b[0m                                 Traceback (most recent call last)",
      "Cell \u001b[0;32mIn[25], line 1\u001b[0m\n\u001b[0;32m----> 1\u001b[0m \u001b[43madata\u001b[49m\u001b[38;5;241;43m.\u001b[39;49m\u001b[43mwrite\u001b[49m\u001b[43m(\u001b[49m\u001b[38;5;124;43m'\u001b[39;49m\u001b[38;5;124;43m/lustre/groups/ml01/workspace/monge_velo/data/mouse_gastrulation_atlas/gastrulation_atlas.h5ad\u001b[39;49m\u001b[38;5;124;43m'\u001b[39;49m\u001b[43m)\u001b[49m\n",
      "File \u001b[0;32m~/mambaforge/envs/atlas_pca/lib/python3.10/site-packages/anndata/_core/anndata.py:1959\u001b[0m, in \u001b[0;36mAnnData.write_h5ad\u001b[0;34m(self, filename, compression, compression_opts, as_dense)\u001b[0m\n\u001b[1;32m   1956\u001b[0m \u001b[38;5;28;01mif\u001b[39;00m filename \u001b[38;5;129;01mis\u001b[39;00m \u001b[38;5;28;01mNone\u001b[39;00m:\n\u001b[1;32m   1957\u001b[0m     filename \u001b[38;5;241m=\u001b[39m \u001b[38;5;28mself\u001b[39m\u001b[38;5;241m.\u001b[39mfilename\n\u001b[0;32m-> 1959\u001b[0m \u001b[43m_write_h5ad\u001b[49m\u001b[43m(\u001b[49m\n\u001b[1;32m   1960\u001b[0m \u001b[43m    \u001b[49m\u001b[43mPath\u001b[49m\u001b[43m(\u001b[49m\u001b[43mfilename\u001b[49m\u001b[43m)\u001b[49m\u001b[43m,\u001b[49m\n\u001b[1;32m   1961\u001b[0m \u001b[43m    \u001b[49m\u001b[38;5;28;43mself\u001b[39;49m\u001b[43m,\u001b[49m\n\u001b[1;32m   1962\u001b[0m \u001b[43m    \u001b[49m\u001b[43mcompression\u001b[49m\u001b[38;5;241;43m=\u001b[39;49m\u001b[43mcompression\u001b[49m\u001b[43m,\u001b[49m\n\u001b[1;32m   1963\u001b[0m \u001b[43m    \u001b[49m\u001b[43mcompression_opts\u001b[49m\u001b[38;5;241;43m=\u001b[39;49m\u001b[43mcompression_opts\u001b[49m\u001b[43m,\u001b[49m\n\u001b[1;32m   1964\u001b[0m \u001b[43m    \u001b[49m\u001b[43mas_dense\u001b[49m\u001b[38;5;241;43m=\u001b[39;49m\u001b[43mas_dense\u001b[49m\u001b[43m,\u001b[49m\n\u001b[1;32m   1965\u001b[0m \u001b[43m\u001b[49m\u001b[43m)\u001b[49m\n\u001b[1;32m   1967\u001b[0m \u001b[38;5;28;01mif\u001b[39;00m \u001b[38;5;28mself\u001b[39m\u001b[38;5;241m.\u001b[39misbacked:\n\u001b[1;32m   1968\u001b[0m     \u001b[38;5;28mself\u001b[39m\u001b[38;5;241m.\u001b[39mfile\u001b[38;5;241m.\u001b[39mfilename \u001b[38;5;241m=\u001b[39m filename\n",
      "File \u001b[0;32m~/mambaforge/envs/atlas_pca/lib/python3.10/site-packages/anndata/_io/h5ad.py:79\u001b[0m, in \u001b[0;36mwrite_h5ad\u001b[0;34m(filepath, adata, as_dense, dataset_kwargs, **kwargs)\u001b[0m\n\u001b[1;32m     76\u001b[0m     write_sparse_as_dense(f, \u001b[38;5;124m\"\u001b[39m\u001b[38;5;124mX\u001b[39m\u001b[38;5;124m\"\u001b[39m, adata\u001b[38;5;241m.\u001b[39mX, dataset_kwargs\u001b[38;5;241m=\u001b[39mdataset_kwargs)\n\u001b[1;32m     77\u001b[0m \u001b[38;5;28;01melif\u001b[39;00m \u001b[38;5;129;01mnot\u001b[39;00m (adata\u001b[38;5;241m.\u001b[39misbacked \u001b[38;5;129;01mand\u001b[39;00m Path(adata\u001b[38;5;241m.\u001b[39mfilename) \u001b[38;5;241m==\u001b[39m Path(filepath)):\n\u001b[1;32m     78\u001b[0m     \u001b[38;5;66;03m# If adata.isbacked, X should already be up to date\u001b[39;00m\n\u001b[0;32m---> 79\u001b[0m     \u001b[43mwrite_elem\u001b[49m\u001b[43m(\u001b[49m\u001b[43mf\u001b[49m\u001b[43m,\u001b[49m\u001b[43m \u001b[49m\u001b[38;5;124;43m\"\u001b[39;49m\u001b[38;5;124;43mX\u001b[39;49m\u001b[38;5;124;43m\"\u001b[39;49m\u001b[43m,\u001b[49m\u001b[43m \u001b[49m\u001b[43madata\u001b[49m\u001b[38;5;241;43m.\u001b[39;49m\u001b[43mX\u001b[49m\u001b[43m,\u001b[49m\u001b[43m \u001b[49m\u001b[43mdataset_kwargs\u001b[49m\u001b[38;5;241;43m=\u001b[39;49m\u001b[43mdataset_kwargs\u001b[49m\u001b[43m)\u001b[49m\n\u001b[1;32m     80\u001b[0m \u001b[38;5;28;01mif\u001b[39;00m \u001b[38;5;124m\"\u001b[39m\u001b[38;5;124mraw/X\u001b[39m\u001b[38;5;124m\"\u001b[39m \u001b[38;5;129;01min\u001b[39;00m as_dense \u001b[38;5;129;01mand\u001b[39;00m \u001b[38;5;28misinstance\u001b[39m(\n\u001b[1;32m     81\u001b[0m     adata\u001b[38;5;241m.\u001b[39mraw\u001b[38;5;241m.\u001b[39mX, (sparse\u001b[38;5;241m.\u001b[39mspmatrix, SparseDataset)\n\u001b[1;32m     82\u001b[0m ):\n\u001b[1;32m     83\u001b[0m     write_sparse_as_dense(\n\u001b[1;32m     84\u001b[0m         f, \u001b[38;5;124m\"\u001b[39m\u001b[38;5;124mraw/X\u001b[39m\u001b[38;5;124m\"\u001b[39m, adata\u001b[38;5;241m.\u001b[39mraw\u001b[38;5;241m.\u001b[39mX, dataset_kwargs\u001b[38;5;241m=\u001b[39mdataset_kwargs\n\u001b[1;32m     85\u001b[0m     )\n",
      "File \u001b[0;32m~/mambaforge/envs/atlas_pca/lib/python3.10/site-packages/anndata/_io/specs/registry.py:353\u001b[0m, in \u001b[0;36mwrite_elem\u001b[0;34m(store, k, elem, dataset_kwargs)\u001b[0m\n\u001b[1;32m    329\u001b[0m \u001b[38;5;28;01mdef\u001b[39;00m \u001b[38;5;21mwrite_elem\u001b[39m(\n\u001b[1;32m    330\u001b[0m     store: GroupStorageType,\n\u001b[1;32m    331\u001b[0m     k: \u001b[38;5;28mstr\u001b[39m,\n\u001b[0;32m   (...)\u001b[0m\n\u001b[1;32m    334\u001b[0m     dataset_kwargs: Mapping \u001b[38;5;241m=\u001b[39m MappingProxyType({}),\n\u001b[1;32m    335\u001b[0m ) \u001b[38;5;241m-\u001b[39m\u001b[38;5;241m>\u001b[39m \u001b[38;5;28;01mNone\u001b[39;00m:\n\u001b[1;32m    336\u001b[0m     \u001b[38;5;124;03m\"\"\"\u001b[39;00m\n\u001b[1;32m    337\u001b[0m \u001b[38;5;124;03m    Write an element to a storage group using anndata encoding.\u001b[39;00m\n\u001b[1;32m    338\u001b[0m \n\u001b[0;32m   (...)\u001b[0m\n\u001b[1;32m    351\u001b[0m \u001b[38;5;124;03m        E.g. for zarr this would be `chunks`, `compressor`.\u001b[39;00m\n\u001b[1;32m    352\u001b[0m \u001b[38;5;124;03m    \"\"\"\u001b[39;00m\n\u001b[0;32m--> 353\u001b[0m     \u001b[43mWriter\u001b[49m\u001b[43m(\u001b[49m\u001b[43m_REGISTRY\u001b[49m\u001b[43m)\u001b[49m\u001b[38;5;241;43m.\u001b[39;49m\u001b[43mwrite_elem\u001b[49m\u001b[43m(\u001b[49m\u001b[43mstore\u001b[49m\u001b[43m,\u001b[49m\u001b[43m \u001b[49m\u001b[43mk\u001b[49m\u001b[43m,\u001b[49m\u001b[43m \u001b[49m\u001b[43melem\u001b[49m\u001b[43m,\u001b[49m\u001b[43m \u001b[49m\u001b[43mdataset_kwargs\u001b[49m\u001b[38;5;241;43m=\u001b[39;49m\u001b[43mdataset_kwargs\u001b[49m\u001b[43m)\u001b[49m\n",
      "File \u001b[0;32m~/mambaforge/envs/atlas_pca/lib/python3.10/site-packages/anndata/_io/utils.py:248\u001b[0m, in \u001b[0;36mreport_write_key_on_error.<locals>.func_wrapper\u001b[0;34m(*args, **kwargs)\u001b[0m\n\u001b[1;32m    246\u001b[0m     \u001b[38;5;28;01mreturn\u001b[39;00m func(\u001b[38;5;241m*\u001b[39margs, \u001b[38;5;241m*\u001b[39m\u001b[38;5;241m*\u001b[39mkwargs)\n\u001b[1;32m    247\u001b[0m \u001b[38;5;28;01mexcept\u001b[39;00m \u001b[38;5;167;01mException\u001b[39;00m \u001b[38;5;28;01mas\u001b[39;00m e:\n\u001b[0;32m--> 248\u001b[0m     \u001b[43mre_raise_error\u001b[49m\u001b[43m(\u001b[49m\u001b[43me\u001b[49m\u001b[43m,\u001b[49m\u001b[43m \u001b[49m\u001b[43melem\u001b[49m\u001b[43m,\u001b[49m\u001b[43m \u001b[49m\u001b[43mkey\u001b[49m\u001b[43m)\u001b[49m\n",
      "File \u001b[0;32m~/mambaforge/envs/atlas_pca/lib/python3.10/site-packages/anndata/_io/utils.py:229\u001b[0m, in \u001b[0;36mreport_write_key_on_error.<locals>.re_raise_error\u001b[0;34m(e, elem, key)\u001b[0m\n\u001b[1;32m    227\u001b[0m \u001b[38;5;28;01melse\u001b[39;00m:\n\u001b[1;32m    228\u001b[0m     parent \u001b[38;5;241m=\u001b[39m _get_parent(elem)\n\u001b[0;32m--> 229\u001b[0m     \u001b[38;5;28;01mraise\u001b[39;00m \u001b[38;5;28mtype\u001b[39m(e)(\n\u001b[1;32m    230\u001b[0m         \u001b[38;5;124mf\u001b[39m\u001b[38;5;124m\"\u001b[39m\u001b[38;5;132;01m{\u001b[39;00me\u001b[38;5;132;01m}\u001b[39;00m\u001b[38;5;130;01m\\n\u001b[39;00m\u001b[38;5;130;01m\\n\u001b[39;00m\u001b[38;5;124m\"\u001b[39m\n\u001b[1;32m    231\u001b[0m         \u001b[38;5;124mf\u001b[39m\u001b[38;5;124m\"\u001b[39m\u001b[38;5;124mAbove error raised while writing key \u001b[39m\u001b[38;5;132;01m{\u001b[39;00mkey\u001b[38;5;132;01m!r}\u001b[39;00m\u001b[38;5;124m of \u001b[39m\u001b[38;5;132;01m{\u001b[39;00m\u001b[38;5;28mtype\u001b[39m(elem)\u001b[38;5;132;01m}\u001b[39;00m\u001b[38;5;124m \u001b[39m\u001b[38;5;124m\"\u001b[39m\n\u001b[1;32m    232\u001b[0m         \u001b[38;5;124mf\u001b[39m\u001b[38;5;124m\"\u001b[39m\u001b[38;5;124mto \u001b[39m\u001b[38;5;132;01m{\u001b[39;00mparent\u001b[38;5;132;01m}\u001b[39;00m\u001b[38;5;124m\"\u001b[39m\n\u001b[1;32m    233\u001b[0m     ) \u001b[38;5;28;01mfrom\u001b[39;00m \u001b[38;5;21;01me\u001b[39;00m\n",
      "\u001b[0;31mTypeError\u001b[0m: Can't broadcast (36388, 24552) -> (41229, 24552)\n\nAbove error raised while writing key 'X' of <class 'h5py._hl.group.Group'> to /"
     ]
    }
   ],
   "source": [
    "adata.write('/lustre/groups/ml01/workspace/monge_velo/data/mouse_gastrulation_atlas/gastrulation_atlas.h5ad')"
   ]
  },
  {
   "cell_type": "code",
   "execution_count": null,
   "id": "2467744a-5f21-4258-a644-0740103a0098",
   "metadata": {},
   "outputs": [],
   "source": []
  }
 ],
 "metadata": {
  "kernelspec": {
   "display_name": "atlas_pca",
   "language": "python",
   "name": "atlas_pca"
  },
  "language_info": {
   "codemirror_mode": {
    "name": "ipython",
    "version": 3
   },
   "file_extension": ".py",
   "mimetype": "text/x-python",
   "name": "python",
   "nbconvert_exporter": "python",
   "pygments_lexer": "ipython3",
   "version": "3.10.12"
  }
 },
 "nbformat": 4,
 "nbformat_minor": 5
}
