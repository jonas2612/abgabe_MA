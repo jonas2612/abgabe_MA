{
 "cells": [
  {
   "cell_type": "code",
   "execution_count": 1,
   "id": "87581ee4-764b-422f-85c8-f7a1763fb783",
   "metadata": {},
   "outputs": [],
   "source": [
    "import pandas as pd\n",
    "import scanpy as sc\n",
    "import anndata as ad\n",
    "import numpy as np"
   ]
  },
  {
   "cell_type": "code",
   "execution_count": 2,
   "id": "9df62b53-0a95-4f34-a3af-d3f79df98c4d",
   "metadata": {},
   "outputs": [],
   "source": [
    "annotation = pd.read_csv('/home/icb/jonas.flor/gastrulation_atlas/data/GSE208680_cell_annotation.txt', sep='\\t')\n",
    "data = pd.read_csv('/home/icb/jonas.flor/gastrulation_atlas/data/GSE208680_raw_counts.csv', index_col='Name')\n",
    "db = pd.read_csv('/home/icb/jonas.flor/gastrulation_atlas/data/mouse.v12.geneID.txt', sep='\\t')[['gene_ID', 'gene_short_name']]"
   ]
  },
  {
   "cell_type": "code",
   "execution_count": 3,
   "id": "3fd63560-cb4f-4ecc-b5f9-93674e14598e",
   "metadata": {},
   "outputs": [
    {
     "data": {
      "text/html": [
       "<div>\n",
       "<style scoped>\n",
       "    .dataframe tbody tr th:only-of-type {\n",
       "        vertical-align: middle;\n",
       "    }\n",
       "\n",
       "    .dataframe tbody tr th {\n",
       "        vertical-align: top;\n",
       "    }\n",
       "\n",
       "    .dataframe thead th {\n",
       "        text-align: right;\n",
       "    }\n",
       "</style>\n",
       "<table border=\"1\" class=\"dataframe\">\n",
       "  <thead>\n",
       "    <tr style=\"text-align: right;\">\n",
       "      <th></th>\n",
       "      <th>Cell_barcode</th>\n",
       "      <th>nCount_RNA</th>\n",
       "      <th>nFeature_RNA</th>\n",
       "      <th>samples</th>\n",
       "      <th>percent.mt</th>\n",
       "      <th>seurat_clusters</th>\n",
       "      <th>Nat_Syn</th>\n",
       "      <th>Sample_Name</th>\n",
       "      <th>cluster_annotation</th>\n",
       "      <th>Unnamed: 9</th>\n",
       "    </tr>\n",
       "  </thead>\n",
       "  <tbody>\n",
       "    <tr>\n",
       "      <th>0</th>\n",
       "      <td>AAACCCAAGACTAGAT-7</td>\n",
       "      <td>5315</td>\n",
       "      <td>2385</td>\n",
       "      <td>7</td>\n",
       "      <td>4.929445</td>\n",
       "      <td>0</td>\n",
       "      <td>Synthetic</td>\n",
       "      <td>Cdx2-10d-2pooled-r2</td>\n",
       "      <td>Amnion</td>\n",
       "      <td>NaN</td>\n",
       "    </tr>\n",
       "    <tr>\n",
       "      <th>1</th>\n",
       "      <td>AAACCCAAGACTAGAT-8</td>\n",
       "      <td>5105</td>\n",
       "      <td>2369</td>\n",
       "      <td>8</td>\n",
       "      <td>4.955926</td>\n",
       "      <td>0</td>\n",
       "      <td>Synthetic</td>\n",
       "      <td>Cdx2-10d-2pooled-r1</td>\n",
       "      <td>Amnion</td>\n",
       "      <td>NaN</td>\n",
       "    </tr>\n",
       "    <tr>\n",
       "      <th>2</th>\n",
       "      <td>AAACCCAAGTCTGGAG-8</td>\n",
       "      <td>11979</td>\n",
       "      <td>3915</td>\n",
       "      <td>8</td>\n",
       "      <td>3.364221</td>\n",
       "      <td>0</td>\n",
       "      <td>Synthetic</td>\n",
       "      <td>Cdx2-10d-2pooled-r1</td>\n",
       "      <td>Amnion</td>\n",
       "      <td>NaN</td>\n",
       "    </tr>\n",
       "    <tr>\n",
       "      <th>3</th>\n",
       "      <td>AAACCCAGTAATACCC-7</td>\n",
       "      <td>10775</td>\n",
       "      <td>3583</td>\n",
       "      <td>7</td>\n",
       "      <td>4.232019</td>\n",
       "      <td>0</td>\n",
       "      <td>Synthetic</td>\n",
       "      <td>Cdx2-10d-2pooled-r2</td>\n",
       "      <td>Amnion</td>\n",
       "      <td>NaN</td>\n",
       "    </tr>\n",
       "    <tr>\n",
       "      <th>4</th>\n",
       "      <td>AAACCCAGTAATACCC-8</td>\n",
       "      <td>10023</td>\n",
       "      <td>3448</td>\n",
       "      <td>8</td>\n",
       "      <td>4.379926</td>\n",
       "      <td>0</td>\n",
       "      <td>Synthetic</td>\n",
       "      <td>Cdx2-10d-2pooled-r1</td>\n",
       "      <td>Amnion</td>\n",
       "      <td>NaN</td>\n",
       "    </tr>\n",
       "    <tr>\n",
       "      <th>...</th>\n",
       "      <td>...</td>\n",
       "      <td>...</td>\n",
       "      <td>...</td>\n",
       "      <td>...</td>\n",
       "      <td>...</td>\n",
       "      <td>...</td>\n",
       "      <td>...</td>\n",
       "      <td>...</td>\n",
       "      <td>...</td>\n",
       "      <td>...</td>\n",
       "    </tr>\n",
       "    <tr>\n",
       "      <th>67600</th>\n",
       "      <td>TTCACCGTCCCGAACG-11</td>\n",
       "      <td>2723</td>\n",
       "      <td>1709</td>\n",
       "      <td>11</td>\n",
       "      <td>1.689313</td>\n",
       "      <td>23</td>\n",
       "      <td>Synthetic</td>\n",
       "      <td>TSCbl-2pooled</td>\n",
       "      <td>Extra-Embryonic endoderm</td>\n",
       "      <td>NaN</td>\n",
       "    </tr>\n",
       "    <tr>\n",
       "      <th>67601</th>\n",
       "      <td>TTCTAACAGAAGTGTT-11</td>\n",
       "      <td>824</td>\n",
       "      <td>665</td>\n",
       "      <td>11</td>\n",
       "      <td>4.126214</td>\n",
       "      <td>23</td>\n",
       "      <td>Synthetic</td>\n",
       "      <td>TSCbl-2pooled</td>\n",
       "      <td>Extra-Embryonic endoderm</td>\n",
       "      <td>NaN</td>\n",
       "    </tr>\n",
       "    <tr>\n",
       "      <th>67602</th>\n",
       "      <td>TTCTAACTCATGCTAG-7</td>\n",
       "      <td>2616</td>\n",
       "      <td>1700</td>\n",
       "      <td>7</td>\n",
       "      <td>7.415902</td>\n",
       "      <td>23</td>\n",
       "      <td>Synthetic</td>\n",
       "      <td>Cdx2-10d-2pooled-r2</td>\n",
       "      <td>Extra-Embryonic endoderm</td>\n",
       "      <td>NaN</td>\n",
       "    </tr>\n",
       "    <tr>\n",
       "      <th>67603</th>\n",
       "      <td>TTGGGTAAGTCTAGCT-11</td>\n",
       "      <td>1585</td>\n",
       "      <td>1116</td>\n",
       "      <td>11</td>\n",
       "      <td>0.189274</td>\n",
       "      <td>23</td>\n",
       "      <td>Synthetic</td>\n",
       "      <td>TSCbl-2pooled</td>\n",
       "      <td>Extra-Embryonic endoderm</td>\n",
       "      <td>NaN</td>\n",
       "    </tr>\n",
       "    <tr>\n",
       "      <th>67604</th>\n",
       "      <td>TTTCAGTCACACCAGC-6</td>\n",
       "      <td>1092</td>\n",
       "      <td>848</td>\n",
       "      <td>6</td>\n",
       "      <td>0.000000</td>\n",
       "      <td>23</td>\n",
       "      <td>Natural</td>\n",
       "      <td>InUtE85-3pooled</td>\n",
       "      <td>Extra-Embryonic endoderm</td>\n",
       "      <td>NaN</td>\n",
       "    </tr>\n",
       "  </tbody>\n",
       "</table>\n",
       "<p>67605 rows × 10 columns</p>\n",
       "</div>"
      ],
      "text/plain": [
       "              Cell_barcode  nCount_RNA  nFeature_RNA  samples  percent.mt  \\\n",
       "0       AAACCCAAGACTAGAT-7        5315          2385        7    4.929445   \n",
       "1       AAACCCAAGACTAGAT-8        5105          2369        8    4.955926   \n",
       "2       AAACCCAAGTCTGGAG-8       11979          3915        8    3.364221   \n",
       "3       AAACCCAGTAATACCC-7       10775          3583        7    4.232019   \n",
       "4       AAACCCAGTAATACCC-8       10023          3448        8    4.379926   \n",
       "...                    ...         ...           ...      ...         ...   \n",
       "67600  TTCACCGTCCCGAACG-11        2723          1709       11    1.689313   \n",
       "67601  TTCTAACAGAAGTGTT-11         824           665       11    4.126214   \n",
       "67602   TTCTAACTCATGCTAG-7        2616          1700        7    7.415902   \n",
       "67603  TTGGGTAAGTCTAGCT-11        1585          1116       11    0.189274   \n",
       "67604   TTTCAGTCACACCAGC-6        1092           848        6    0.000000   \n",
       "\n",
       "       seurat_clusters    Nat_Syn          Sample_Name  \\\n",
       "0                    0  Synthetic  Cdx2-10d-2pooled-r2   \n",
       "1                    0  Synthetic  Cdx2-10d-2pooled-r1   \n",
       "2                    0  Synthetic  Cdx2-10d-2pooled-r1   \n",
       "3                    0  Synthetic  Cdx2-10d-2pooled-r2   \n",
       "4                    0  Synthetic  Cdx2-10d-2pooled-r1   \n",
       "...                ...        ...                  ...   \n",
       "67600               23  Synthetic        TSCbl-2pooled   \n",
       "67601               23  Synthetic        TSCbl-2pooled   \n",
       "67602               23  Synthetic  Cdx2-10d-2pooled-r2   \n",
       "67603               23  Synthetic        TSCbl-2pooled   \n",
       "67604               23    Natural      InUtE85-3pooled   \n",
       "\n",
       "             cluster_annotation  Unnamed: 9  \n",
       "0                        Amnion         NaN  \n",
       "1                        Amnion         NaN  \n",
       "2                        Amnion         NaN  \n",
       "3                        Amnion         NaN  \n",
       "4                        Amnion         NaN  \n",
       "...                         ...         ...  \n",
       "67600  Extra-Embryonic endoderm         NaN  \n",
       "67601  Extra-Embryonic endoderm         NaN  \n",
       "67602  Extra-Embryonic endoderm         NaN  \n",
       "67603  Extra-Embryonic endoderm         NaN  \n",
       "67604  Extra-Embryonic endoderm         NaN  \n",
       "\n",
       "[67605 rows x 10 columns]"
      ]
     },
     "execution_count": 3,
     "metadata": {},
     "output_type": "execute_result"
    }
   ],
   "source": [
    "annotation"
   ]
  },
  {
   "cell_type": "code",
   "execution_count": 15,
   "id": "ea60040c-d7dc-4f7d-b04c-5d56601eaaa2",
   "metadata": {},
   "outputs": [
    {
     "name": "stderr",
     "output_type": "stream",
     "text": [
      "/tmp/ipykernel_1517931/4035410637.py:4: ImplicitModificationWarning: Trying to modify attribute `.obs` of view, initializing view as actual.\n",
      "  adata.obs['Nat_Synth'] = pd.Categorical(annotation['Nat_Syn'])\n"
     ]
    },
    {
     "data": {
      "text/plain": [
       "['E8.5']\n",
       "Categories (1, object): ['E8.5']"
      ]
     },
     "execution_count": 15,
     "metadata": {},
     "output_type": "execute_result"
    }
   ],
   "source": [
    "adata = ad.AnnData(data.transpose())\n",
    "adata = adata[adata.obs_names.isin(list(annotation['Cell_barcode'])), :]\n",
    "\n",
    "adata.obs['Nat_Synth'] = pd.Categorical(annotation['Nat_Syn'])\n",
    "adata.obs['embryo_id'] = pd.Categorical(annotation['Sample_Name'])\n",
    "adata.obs['celltype'] = pd.Categorical(annotation['cluster_annotation'])\n",
    "adata.obs['stage'] = pd.Categorical(['E8.5' for x in range(adata.n_obs)])\n",
    "\n",
    "adata.obs.stage.unique()"
   ]
  },
  {
   "cell_type": "code",
   "execution_count": 16,
   "id": "7e859e74-e1b0-4891-b835-58676217a7ae",
   "metadata": {},
   "outputs": [
    {
     "data": {
      "text/plain": [
       "Index(['ENSMUSG00000051951', 'ENSMUSG00000089699', 'ENSMUSG00000102343',\n",
       "       'ENSMUSG00000025900', 'ENSMUSG00000025902', 'ENSMUSG00000104328',\n",
       "       'ENSMUSG00000033845', 'ENSMUSG00000025903', 'ENSMUSG00000104217',\n",
       "       'ENSMUSG00000033813',\n",
       "       ...\n",
       "       'ENSMUSG00000061654', 'ENSMUSG00000079834', 'ENSMUSG00000079222',\n",
       "       'ENSMUSG00000062783', 'ENSMUSG00000096808', 'ENSMUSG00000079800',\n",
       "       'ENSMUSG00000079808', 'ENSMUSG00000095041', 'ENSMUSG00000096730',\n",
       "       'ENSMUSG00000095742'],\n",
       "      dtype='object', name='gene_ID', length=22327)"
      ]
     },
     "execution_count": 16,
     "metadata": {},
     "output_type": "execute_result"
    }
   ],
   "source": [
    "new_names = adata.var_names.to_frame(name='gene_short_name').merge(db, on='gene_short_name', how='inner')\n",
    "new_names.drop_duplicates(subset='gene_short_name', inplace=True)\n",
    "\n",
    "adata = adata[:, adata.var_names.isin(list(new_names['gene_short_name']))]\n",
    "\n",
    "adata.var_names = new_names['gene_ID']\n",
    "adata.var_names"
   ]
  },
  {
   "cell_type": "code",
   "execution_count": 17,
   "id": "820353ac-606e-4af6-b272-3b9a426402e9",
   "metadata": {},
   "outputs": [
    {
     "data": {
      "text/plain": [
       "['E8.5']\n",
       "Categories (1, object): ['E8.5']"
      ]
     },
     "execution_count": 17,
     "metadata": {},
     "output_type": "execute_result"
    }
   ],
   "source": [
    "adata.obs.stage.unique()"
   ]
  },
  {
   "cell_type": "code",
   "execution_count": 18,
   "id": "fd489334-38b7-4dd9-8fe3-1c20050a18c5",
   "metadata": {},
   "outputs": [
    {
     "data": {
      "text/plain": [
       "View of AnnData object with n_obs × n_vars = 26948 × 22327\n",
       "    obs: 'Nat_Synth', 'embryo_id', 'celltype', 'stage'"
      ]
     },
     "execution_count": 18,
     "metadata": {},
     "output_type": "execute_result"
    }
   ],
   "source": [
    "adata_nat = adata[adata.obs['Nat_Synth']=='Natural']\n",
    "adata_nat"
   ]
  },
  {
   "cell_type": "code",
   "execution_count": 19,
   "id": "047ef2ca-6a40-4767-835e-72ac5bf24f24",
   "metadata": {},
   "outputs": [
    {
     "data": {
      "text/plain": [
       "View of AnnData object with n_obs × n_vars = 40657 × 22327\n",
       "    obs: 'Nat_Synth', 'embryo_id', 'celltype', 'stage'"
      ]
     },
     "execution_count": 19,
     "metadata": {},
     "output_type": "execute_result"
    }
   ],
   "source": [
    "adata_synth = adata[adata.obs['Nat_Synth']=='Synthetic']\n",
    "adata_synth"
   ]
  },
  {
   "cell_type": "code",
   "execution_count": 21,
   "id": "4cf704ea-99ec-4429-a0b6-fd9a5854f69e",
   "metadata": {},
   "outputs": [
    {
     "data": {
      "text/plain": [
       "['E8.5']\n",
       "Categories (1, object): ['E8.5']"
      ]
     },
     "execution_count": 21,
     "metadata": {},
     "output_type": "execute_result"
    }
   ],
   "source": [
    "adata_synth.obs.stage.unique()"
   ]
  },
  {
   "cell_type": "code",
   "execution_count": 22,
   "id": "e026874f-3cb7-49e2-9817-011c2a0fbe35",
   "metadata": {},
   "outputs": [],
   "source": [
    "adata_nat.write('/home/icb/jonas.flor/gastrulation_atlas/data/invito_gastrulation.h5ad')\n",
    "adata_synth.write('/home/icb/jonas.flor/gastrulation_atlas/data/exvito_gastrulation.h5ad')"
   ]
  }
 ],
 "metadata": {
  "kernelspec": {
   "display_name": "scvi_pipeline",
   "language": "python",
   "name": "scvi_pipeline"
  },
  "language_info": {
   "codemirror_mode": {
    "name": "ipython",
    "version": 3
   },
   "file_extension": ".py",
   "mimetype": "text/x-python",
   "name": "python",
   "nbconvert_exporter": "python",
   "pygments_lexer": "ipython3",
   "version": "3.10.12"
  }
 },
 "nbformat": 4,
 "nbformat_minor": 5
}
